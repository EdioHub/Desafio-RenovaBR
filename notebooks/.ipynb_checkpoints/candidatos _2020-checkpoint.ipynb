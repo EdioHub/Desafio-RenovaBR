{
 "cells": [
  {
   "cell_type": "markdown",
   "id": "6cbd9000-77db-417e-874a-c923eb68c2a5",
   "metadata": {},
   "source": [
    "<span style=\"font-weight:bold; color:yellow; font-size:30px\"> Candidatos 2020</span>\n",
    "\n",
    "<span style=\"font-weight:bold; color:yellow; font-size:20px\"> 1- Prè processamento</span>"
   ]
  },
  {
   "cell_type": "code",
   "execution_count": 2,
   "id": "28757e71-d203-41f9-8a80-05275d049e7a",
   "metadata": {},
   "outputs": [],
   "source": [
    "candidatos_2020<-read.csv('../data/candidatos_2020.csv')"
   ]
  },
  {
   "cell_type": "code",
   "execution_count": 3,
   "id": "de134560-feae-43b8-b9f3-0072cc44930f",
   "metadata": {},
   "outputs": [
    {
     "data": {
      "text/html": [
       "<table class=\"dataframe\">\n",
       "<caption>A data.frame: 6 × 12</caption>\n",
       "<thead>\n",
       "\t<tr><th></th><th scope=col>sq_candidato</th><th scope=col>Nome.Candidato</th><th scope=col>Cidade</th><th scope=col>UF</th><th scope=col>Cargo</th><th scope=col>Partido</th><th scope=col>Resultado_Eleitoral</th><th scope=col>Genero</th><th scope=col>Raca</th><th scope=col>Valor_Receita</th><th scope=col>Votos</th><th scope=col>ano</th></tr>\n",
       "\t<tr><th></th><th scope=col>&lt;dbl&gt;</th><th scope=col>&lt;chr&gt;</th><th scope=col>&lt;chr&gt;</th><th scope=col>&lt;chr&gt;</th><th scope=col>&lt;chr&gt;</th><th scope=col>&lt;chr&gt;</th><th scope=col>&lt;chr&gt;</th><th scope=col>&lt;chr&gt;</th><th scope=col>&lt;chr&gt;</th><th scope=col>&lt;dbl&gt;</th><th scope=col>&lt;int&gt;</th><th scope=col>&lt;int&gt;</th></tr>\n",
       "</thead>\n",
       "<tbody>\n",
       "\t<tr><th scope=row>1</th><td>260000637329</td><td>Antonio Carlos Valadares Filho   </td><td>Aracaju</td><td>SE</td><td>Vice-prefeito</td><td>PSB          </td><td>2º Turno  </td><td>MASC.</td><td>BRANCA</td><td>NA</td><td>0</td><td>2020</td></tr>\n",
       "\t<tr><th scope=row>2</th><td>260000637329</td><td>Antonio Carlos Valadares Filho   </td><td>Aracaju</td><td>SE</td><td>Vice-prefeito</td><td>PSB          </td><td>Não Eleito</td><td>MASC.</td><td>BRANCA</td><td>NA</td><td>0</td><td>2020</td></tr>\n",
       "\t<tr><th scope=row>3</th><td>260000743433</td><td>Alda Rejane Arruda Da Silva      </td><td>Aracaju</td><td>SE</td><td>Vice-prefeito</td><td>PMB          </td><td>Não Eleito</td><td>FEM. </td><td>PARDA </td><td>NA</td><td>0</td><td>2020</td></tr>\n",
       "\t<tr><th scope=row>4</th><td>260000793304</td><td>Manoel Santos Dos Anjos          </td><td>Aracaju</td><td>SE</td><td>Vereador     </td><td>SOLIDARIEDADE</td><td>Não Eleito</td><td>MASC.</td><td>PARDA </td><td>NA</td><td>0</td><td>2020</td></tr>\n",
       "\t<tr><th scope=row>5</th><td>260000835178</td><td>José Péricles Menezes De Oliveira</td><td>Aracaju</td><td>SE</td><td>Vice-prefeito</td><td>DEM          </td><td>Não Eleito</td><td>MASC.</td><td>PARDA </td><td>NA</td><td>0</td><td>2020</td></tr>\n",
       "\t<tr><th scope=row>6</th><td>260000857749</td><td>Davi Lima Valente Calazans       </td><td>Aracaju</td><td>SE</td><td>Vice-prefeito</td><td>AVANTE       </td><td>Não Eleito</td><td>MASC.</td><td>PRETA </td><td>NA</td><td>0</td><td>2020</td></tr>\n",
       "</tbody>\n",
       "</table>\n"
      ],
      "text/latex": [
       "A data.frame: 6 × 12\n",
       "\\begin{tabular}{r|llllllllllll}\n",
       "  & sq\\_candidato & Nome.Candidato & Cidade & UF & Cargo & Partido & Resultado\\_Eleitoral & Genero & Raca & Valor\\_Receita & Votos & ano\\\\\n",
       "  & <dbl> & <chr> & <chr> & <chr> & <chr> & <chr> & <chr> & <chr> & <chr> & <dbl> & <int> & <int>\\\\\n",
       "\\hline\n",
       "\t1 & 260000637329 & Antonio Carlos Valadares Filho    & Aracaju & SE & Vice-prefeito & PSB           & 2º Turno   & MASC. & BRANCA & NA & 0 & 2020\\\\\n",
       "\t2 & 260000637329 & Antonio Carlos Valadares Filho    & Aracaju & SE & Vice-prefeito & PSB           & Não Eleito & MASC. & BRANCA & NA & 0 & 2020\\\\\n",
       "\t3 & 260000743433 & Alda Rejane Arruda Da Silva       & Aracaju & SE & Vice-prefeito & PMB           & Não Eleito & FEM.  & PARDA  & NA & 0 & 2020\\\\\n",
       "\t4 & 260000793304 & Manoel Santos Dos Anjos           & Aracaju & SE & Vereador      & SOLIDARIEDADE & Não Eleito & MASC. & PARDA  & NA & 0 & 2020\\\\\n",
       "\t5 & 260000835178 & José Péricles Menezes De Oliveira & Aracaju & SE & Vice-prefeito & DEM           & Não Eleito & MASC. & PARDA  & NA & 0 & 2020\\\\\n",
       "\t6 & 260000857749 & Davi Lima Valente Calazans        & Aracaju & SE & Vice-prefeito & AVANTE        & Não Eleito & MASC. & PRETA  & NA & 0 & 2020\\\\\n",
       "\\end{tabular}\n"
      ],
      "text/markdown": [
       "\n",
       "A data.frame: 6 × 12\n",
       "\n",
       "| <!--/--> | sq_candidato &lt;dbl&gt; | Nome.Candidato &lt;chr&gt; | Cidade &lt;chr&gt; | UF &lt;chr&gt; | Cargo &lt;chr&gt; | Partido &lt;chr&gt; | Resultado_Eleitoral &lt;chr&gt; | Genero &lt;chr&gt; | Raca &lt;chr&gt; | Valor_Receita &lt;dbl&gt; | Votos &lt;int&gt; | ano &lt;int&gt; |\n",
       "|---|---|---|---|---|---|---|---|---|---|---|---|---|\n",
       "| 1 | 260000637329 | Antonio Carlos Valadares Filho    | Aracaju | SE | Vice-prefeito | PSB           | 2º Turno   | MASC. | BRANCA | NA | 0 | 2020 |\n",
       "| 2 | 260000637329 | Antonio Carlos Valadares Filho    | Aracaju | SE | Vice-prefeito | PSB           | Não Eleito | MASC. | BRANCA | NA | 0 | 2020 |\n",
       "| 3 | 260000743433 | Alda Rejane Arruda Da Silva       | Aracaju | SE | Vice-prefeito | PMB           | Não Eleito | FEM.  | PARDA  | NA | 0 | 2020 |\n",
       "| 4 | 260000793304 | Manoel Santos Dos Anjos           | Aracaju | SE | Vereador      | SOLIDARIEDADE | Não Eleito | MASC. | PARDA  | NA | 0 | 2020 |\n",
       "| 5 | 260000835178 | José Péricles Menezes De Oliveira | Aracaju | SE | Vice-prefeito | DEM           | Não Eleito | MASC. | PARDA  | NA | 0 | 2020 |\n",
       "| 6 | 260000857749 | Davi Lima Valente Calazans        | Aracaju | SE | Vice-prefeito | AVANTE        | Não Eleito | MASC. | PRETA  | NA | 0 | 2020 |\n",
       "\n"
      ],
      "text/plain": [
       "  sq_candidato Nome.Candidato                    Cidade  UF Cargo        \n",
       "1 260000637329 Antonio Carlos Valadares Filho    Aracaju SE Vice-prefeito\n",
       "2 260000637329 Antonio Carlos Valadares Filho    Aracaju SE Vice-prefeito\n",
       "3 260000743433 Alda Rejane Arruda Da Silva       Aracaju SE Vice-prefeito\n",
       "4 260000793304 Manoel Santos Dos Anjos           Aracaju SE Vereador     \n",
       "5 260000835178 José Péricles Menezes De Oliveira Aracaju SE Vice-prefeito\n",
       "6 260000857749 Davi Lima Valente Calazans        Aracaju SE Vice-prefeito\n",
       "  Partido       Resultado_Eleitoral Genero Raca   Valor_Receita Votos ano \n",
       "1 PSB           2º Turno            MASC.  BRANCA NA            0     2020\n",
       "2 PSB           Não Eleito          MASC.  BRANCA NA            0     2020\n",
       "3 PMB           Não Eleito          FEM.   PARDA  NA            0     2020\n",
       "4 SOLIDARIEDADE Não Eleito          MASC.  PARDA  NA            0     2020\n",
       "5 DEM           Não Eleito          MASC.  PARDA  NA            0     2020\n",
       "6 AVANTE        Não Eleito          MASC.  PRETA  NA            0     2020"
      ]
     },
     "metadata": {},
     "output_type": "display_data"
    }
   ],
   "source": [
    "head(candidatos_2020) "
   ]
  },
  {
   "cell_type": "markdown",
   "id": "d8fc0f30-056b-4ba2-9a95-38eed3f5b06c",
   "metadata": {},
   "source": [
    "<span style=\"font-weight:bold; color:yellow; font-size:20px\"> \n",
    "Verificando os valores únicos de cada coluna Aquiteremos a relação das coolunas e das classes para utilização</span>"
   ]
  },
  {
   "cell_type": "code",
   "execution_count": 3,
   "id": "c15ae6f0-7599-4f57-8485-e727aef2ef25",
   "metadata": {},
   "outputs": [
    {
     "data": {
      "text/html": [
       "<dl>\n",
       "\t<dt>$UF</dt>\n",
       "\t\t<dd><style>\n",
       ".list-inline {list-style: none; margin:0; padding: 0}\n",
       ".list-inline>li {display: inline-block}\n",
       ".list-inline>li:not(:last-child)::after {content: \"\\00b7\"; padding: 0 .5ex}\n",
       "</style>\n",
       "<ol class=list-inline><li>'SE'</li><li>'PA'</li><li>'MG'</li><li>'RR'</li><li>'MS'</li><li>'MT'</li><li>'PR'</li><li>'SC'</li><li>'CE'</li><li>'GO'</li><li>'PB'</li><li>'AP'</li><li>'AL'</li><li>'AM'</li><li>'RN'</li><li>'TO'</li><li>'RS'</li><li>'RO'</li><li>'PE'</li><li>'AC'</li><li>'RJ'</li></ol>\n",
       "</dd>\n",
       "\t<dt>$Cidade</dt>\n",
       "\t\t<dd><style>\n",
       ".list-inline {list-style: none; margin:0; padding: 0}\n",
       ".list-inline>li {display: inline-block}\n",
       ".list-inline>li:not(:last-child)::after {content: \"\\00b7\"; padding: 0 .5ex}\n",
       "</style>\n",
       "<ol class=list-inline><li>'Aracaju'</li><li>'Belém'</li><li>'Belo Horizonte'</li><li>'Boa Vista'</li><li>'Campo Grande'</li><li>'Cuiabá'</li><li>'Curitiba'</li><li>'Florianópolis'</li><li>'Fortaleza'</li><li>'Goiânia'</li><li>'João Pessoa'</li><li>'Macapá'</li><li>'Maceió'</li><li>'Manaus'</li><li>'Natal'</li><li>'Palmas'</li><li>'Porto Alegre'</li><li>'Porto Velho'</li><li>'Recife'</li><li>'Rio Branco'</li><li>'Rio de Janeiro'</li></ol>\n",
       "</dd>\n",
       "\t<dt>$Cargo</dt>\n",
       "\t\t<dd><style>\n",
       ".list-inline {list-style: none; margin:0; padding: 0}\n",
       ".list-inline>li {display: inline-block}\n",
       ".list-inline>li:not(:last-child)::after {content: \"\\00b7\"; padding: 0 .5ex}\n",
       "</style>\n",
       "<ol class=list-inline><li>'Vice-prefeito'</li><li>'Vereador'</li><li>'Prefeito'</li></ol>\n",
       "</dd>\n",
       "\t<dt>$Partido</dt>\n",
       "\t\t<dd><style>\n",
       ".list-inline {list-style: none; margin:0; padding: 0}\n",
       ".list-inline>li {display: inline-block}\n",
       ".list-inline>li:not(:last-child)::after {content: \"\\00b7\"; padding: 0 .5ex}\n",
       "</style>\n",
       "<ol class=list-inline><li>'PSB'</li><li>'PMB'</li><li>'SOLIDARIEDADE'</li><li>'DEM'</li><li>'AVANTE'</li><li>'PRTB'</li><li>'PSTU'</li><li>'PT'</li><li>'PSD'</li><li>'DC'</li><li>'PSL'</li><li>'PSOL'</li><li>'PMN'</li><li>'PSDB'</li><li>'REPUBLICANOS'</li><li>'PATRIOTA'</li><li>'PP'</li><li>'PTB'</li><li>'PODE'</li><li>'REDE'</li><li>'PCdoB'</li><li>'CIDADANIA'</li><li>'PL'</li><li>'PDT'</li><li>'PSC'</li><li>'PV'</li><li>'PROS'</li><li>'PTC'</li><li>'MDB'</li><li>'PCO'</li><li>'NOVO'</li><li>'UP'</li><li>'PCB'</li></ol>\n",
       "</dd>\n",
       "\t<dt>$Resultado_Eleitoral</dt>\n",
       "\t\t<dd><style>\n",
       ".list-inline {list-style: none; margin:0; padding: 0}\n",
       ".list-inline>li {display: inline-block}\n",
       ".list-inline>li:not(:last-child)::after {content: \"\\00b7\"; padding: 0 .5ex}\n",
       "</style>\n",
       "<ol class=list-inline><li>'2º Turno'</li><li>'Não Eleito'</li><li>'Eleito'</li><li>'Nulo'</li><li>'Suplente'</li></ol>\n",
       "</dd>\n",
       "\t<dt>$Genero</dt>\n",
       "\t\t<dd><style>\n",
       ".list-inline {list-style: none; margin:0; padding: 0}\n",
       ".list-inline>li {display: inline-block}\n",
       ".list-inline>li:not(:last-child)::after {content: \"\\00b7\"; padding: 0 .5ex}\n",
       "</style>\n",
       "<ol class=list-inline><li>'MASC.'</li><li>'FEM.'</li><li>'Não Divulgável'</li></ol>\n",
       "</dd>\n",
       "\t<dt>$Raca</dt>\n",
       "\t\t<dd><style>\n",
       ".list-inline {list-style: none; margin:0; padding: 0}\n",
       ".list-inline>li {display: inline-block}\n",
       ".list-inline>li:not(:last-child)::after {content: \"\\00b7\"; padding: 0 .5ex}\n",
       "</style>\n",
       "<ol class=list-inline><li>'BRANCA'</li><li>'PARDA'</li><li>'PRETA'</li><li>'AMARELA'</li><li>'INDÍGENA'</li><li>'SEM INFORMAÇÃO'</li><li>'Não Divulgável'</li></ol>\n",
       "</dd>\n",
       "\t<dt>$ano</dt>\n",
       "\t\t<dd>2020</dd>\n",
       "</dl>\n"
      ],
      "text/latex": [
       "\\begin{description}\n",
       "\\item[\\$UF] \\begin{enumerate*}\n",
       "\\item 'SE'\n",
       "\\item 'PA'\n",
       "\\item 'MG'\n",
       "\\item 'RR'\n",
       "\\item 'MS'\n",
       "\\item 'MT'\n",
       "\\item 'PR'\n",
       "\\item 'SC'\n",
       "\\item 'CE'\n",
       "\\item 'GO'\n",
       "\\item 'PB'\n",
       "\\item 'AP'\n",
       "\\item 'AL'\n",
       "\\item 'AM'\n",
       "\\item 'RN'\n",
       "\\item 'TO'\n",
       "\\item 'RS'\n",
       "\\item 'RO'\n",
       "\\item 'PE'\n",
       "\\item 'AC'\n",
       "\\item 'RJ'\n",
       "\\end{enumerate*}\n",
       "\n",
       "\\item[\\$Cidade] \\begin{enumerate*}\n",
       "\\item 'Aracaju'\n",
       "\\item 'Belém'\n",
       "\\item 'Belo Horizonte'\n",
       "\\item 'Boa Vista'\n",
       "\\item 'Campo Grande'\n",
       "\\item 'Cuiabá'\n",
       "\\item 'Curitiba'\n",
       "\\item 'Florianópolis'\n",
       "\\item 'Fortaleza'\n",
       "\\item 'Goiânia'\n",
       "\\item 'João Pessoa'\n",
       "\\item 'Macapá'\n",
       "\\item 'Maceió'\n",
       "\\item 'Manaus'\n",
       "\\item 'Natal'\n",
       "\\item 'Palmas'\n",
       "\\item 'Porto Alegre'\n",
       "\\item 'Porto Velho'\n",
       "\\item 'Recife'\n",
       "\\item 'Rio Branco'\n",
       "\\item 'Rio de Janeiro'\n",
       "\\end{enumerate*}\n",
       "\n",
       "\\item[\\$Cargo] \\begin{enumerate*}\n",
       "\\item 'Vice-prefeito'\n",
       "\\item 'Vereador'\n",
       "\\item 'Prefeito'\n",
       "\\end{enumerate*}\n",
       "\n",
       "\\item[\\$Partido] \\begin{enumerate*}\n",
       "\\item 'PSB'\n",
       "\\item 'PMB'\n",
       "\\item 'SOLIDARIEDADE'\n",
       "\\item 'DEM'\n",
       "\\item 'AVANTE'\n",
       "\\item 'PRTB'\n",
       "\\item 'PSTU'\n",
       "\\item 'PT'\n",
       "\\item 'PSD'\n",
       "\\item 'DC'\n",
       "\\item 'PSL'\n",
       "\\item 'PSOL'\n",
       "\\item 'PMN'\n",
       "\\item 'PSDB'\n",
       "\\item 'REPUBLICANOS'\n",
       "\\item 'PATRIOTA'\n",
       "\\item 'PP'\n",
       "\\item 'PTB'\n",
       "\\item 'PODE'\n",
       "\\item 'REDE'\n",
       "\\item 'PCdoB'\n",
       "\\item 'CIDADANIA'\n",
       "\\item 'PL'\n",
       "\\item 'PDT'\n",
       "\\item 'PSC'\n",
       "\\item 'PV'\n",
       "\\item 'PROS'\n",
       "\\item 'PTC'\n",
       "\\item 'MDB'\n",
       "\\item 'PCO'\n",
       "\\item 'NOVO'\n",
       "\\item 'UP'\n",
       "\\item 'PCB'\n",
       "\\end{enumerate*}\n",
       "\n",
       "\\item[\\$Resultado\\_Eleitoral] \\begin{enumerate*}\n",
       "\\item '2º Turno'\n",
       "\\item 'Não Eleito'\n",
       "\\item 'Eleito'\n",
       "\\item 'Nulo'\n",
       "\\item 'Suplente'\n",
       "\\end{enumerate*}\n",
       "\n",
       "\\item[\\$Genero] \\begin{enumerate*}\n",
       "\\item 'MASC.'\n",
       "\\item 'FEM.'\n",
       "\\item 'Não Divulgável'\n",
       "\\end{enumerate*}\n",
       "\n",
       "\\item[\\$Raca] \\begin{enumerate*}\n",
       "\\item 'BRANCA'\n",
       "\\item 'PARDA'\n",
       "\\item 'PRETA'\n",
       "\\item 'AMARELA'\n",
       "\\item 'INDÍGENA'\n",
       "\\item 'SEM INFORMAÇÃO'\n",
       "\\item 'Não Divulgável'\n",
       "\\end{enumerate*}\n",
       "\n",
       "\\item[\\$ano] 2020\n",
       "\\end{description}\n"
      ],
      "text/markdown": [
       "$UF\n",
       ":   1. 'SE'\n",
       "2. 'PA'\n",
       "3. 'MG'\n",
       "4. 'RR'\n",
       "5. 'MS'\n",
       "6. 'MT'\n",
       "7. 'PR'\n",
       "8. 'SC'\n",
       "9. 'CE'\n",
       "10. 'GO'\n",
       "11. 'PB'\n",
       "12. 'AP'\n",
       "13. 'AL'\n",
       "14. 'AM'\n",
       "15. 'RN'\n",
       "16. 'TO'\n",
       "17. 'RS'\n",
       "18. 'RO'\n",
       "19. 'PE'\n",
       "20. 'AC'\n",
       "21. 'RJ'\n",
       "\n",
       "\n",
       "\n",
       "$Cidade\n",
       ":   1. 'Aracaju'\n",
       "2. 'Belém'\n",
       "3. 'Belo Horizonte'\n",
       "4. 'Boa Vista'\n",
       "5. 'Campo Grande'\n",
       "6. 'Cuiabá'\n",
       "7. 'Curitiba'\n",
       "8. 'Florianópolis'\n",
       "9. 'Fortaleza'\n",
       "10. 'Goiânia'\n",
       "11. 'João Pessoa'\n",
       "12. 'Macapá'\n",
       "13. 'Maceió'\n",
       "14. 'Manaus'\n",
       "15. 'Natal'\n",
       "16. 'Palmas'\n",
       "17. 'Porto Alegre'\n",
       "18. 'Porto Velho'\n",
       "19. 'Recife'\n",
       "20. 'Rio Branco'\n",
       "21. 'Rio de Janeiro'\n",
       "\n",
       "\n",
       "\n",
       "$Cargo\n",
       ":   1. 'Vice-prefeito'\n",
       "2. 'Vereador'\n",
       "3. 'Prefeito'\n",
       "\n",
       "\n",
       "\n",
       "$Partido\n",
       ":   1. 'PSB'\n",
       "2. 'PMB'\n",
       "3. 'SOLIDARIEDADE'\n",
       "4. 'DEM'\n",
       "5. 'AVANTE'\n",
       "6. 'PRTB'\n",
       "7. 'PSTU'\n",
       "8. 'PT'\n",
       "9. 'PSD'\n",
       "10. 'DC'\n",
       "11. 'PSL'\n",
       "12. 'PSOL'\n",
       "13. 'PMN'\n",
       "14. 'PSDB'\n",
       "15. 'REPUBLICANOS'\n",
       "16. 'PATRIOTA'\n",
       "17. 'PP'\n",
       "18. 'PTB'\n",
       "19. 'PODE'\n",
       "20. 'REDE'\n",
       "21. 'PCdoB'\n",
       "22. 'CIDADANIA'\n",
       "23. 'PL'\n",
       "24. 'PDT'\n",
       "25. 'PSC'\n",
       "26. 'PV'\n",
       "27. 'PROS'\n",
       "28. 'PTC'\n",
       "29. 'MDB'\n",
       "30. 'PCO'\n",
       "31. 'NOVO'\n",
       "32. 'UP'\n",
       "33. 'PCB'\n",
       "\n",
       "\n",
       "\n",
       "$Resultado_Eleitoral\n",
       ":   1. '2º Turno'\n",
       "2. 'Não Eleito'\n",
       "3. 'Eleito'\n",
       "4. 'Nulo'\n",
       "5. 'Suplente'\n",
       "\n",
       "\n",
       "\n",
       "$Genero\n",
       ":   1. 'MASC.'\n",
       "2. 'FEM.'\n",
       "3. 'Não Divulgável'\n",
       "\n",
       "\n",
       "\n",
       "$Raca\n",
       ":   1. 'BRANCA'\n",
       "2. 'PARDA'\n",
       "3. 'PRETA'\n",
       "4. 'AMARELA'\n",
       "5. 'INDÍGENA'\n",
       "6. 'SEM INFORMAÇÃO'\n",
       "7. 'Não Divulgável'\n",
       "\n",
       "\n",
       "\n",
       "$ano\n",
       ":   2020\n",
       "\n",
       "\n"
      ],
      "text/plain": [
       "$UF\n",
       " [1] \"SE\" \"PA\" \"MG\" \"RR\" \"MS\" \"MT\" \"PR\" \"SC\" \"CE\" \"GO\" \"PB\" \"AP\" \"AL\" \"AM\" \"RN\"\n",
       "[16] \"TO\" \"RS\" \"RO\" \"PE\" \"AC\" \"RJ\"\n",
       "\n",
       "$Cidade\n",
       " [1] \"Aracaju\"        \"Belém\"          \"Belo Horizonte\" \"Boa Vista\"     \n",
       " [5] \"Campo Grande\"   \"Cuiabá\"         \"Curitiba\"       \"Florianópolis\" \n",
       " [9] \"Fortaleza\"      \"Goiânia\"        \"João Pessoa\"    \"Macapá\"        \n",
       "[13] \"Maceió\"         \"Manaus\"         \"Natal\"          \"Palmas\"        \n",
       "[17] \"Porto Alegre\"   \"Porto Velho\"    \"Recife\"         \"Rio Branco\"    \n",
       "[21] \"Rio de Janeiro\"\n",
       "\n",
       "$Cargo\n",
       "[1] \"Vice-prefeito\" \"Vereador\"      \"Prefeito\"     \n",
       "\n",
       "$Partido\n",
       " [1] \"PSB\"           \"PMB\"           \"SOLIDARIEDADE\" \"DEM\"          \n",
       " [5] \"AVANTE\"        \"PRTB\"          \"PSTU\"          \"PT\"           \n",
       " [9] \"PSD\"           \"DC\"            \"PSL\"           \"PSOL\"         \n",
       "[13] \"PMN\"           \"PSDB\"          \"REPUBLICANOS\"  \"PATRIOTA\"     \n",
       "[17] \"PP\"            \"PTB\"           \"PODE\"          \"REDE\"         \n",
       "[21] \"PCdoB\"         \"CIDADANIA\"     \"PL\"            \"PDT\"          \n",
       "[25] \"PSC\"           \"PV\"            \"PROS\"          \"PTC\"          \n",
       "[29] \"MDB\"           \"PCO\"           \"NOVO\"          \"UP\"           \n",
       "[33] \"PCB\"          \n",
       "\n",
       "$Resultado_Eleitoral\n",
       "[1] \"2º Turno\"   \"Não Eleito\" \"Eleito\"     \"Nulo\"       \"Suplente\"  \n",
       "\n",
       "$Genero\n",
       "[1] \"MASC.\"          \"FEM.\"           \"Não Divulgável\"\n",
       "\n",
       "$Raca\n",
       "[1] \"BRANCA\"         \"PARDA\"          \"PRETA\"          \"AMARELA\"       \n",
       "[5] \"INDÍGENA\"       \"SEM INFORMAÇÃO\" \"Não Divulgável\"\n",
       "\n",
       "$ano\n",
       "[1] 2020\n"
      ]
     },
     "metadata": {},
     "output_type": "display_data"
    }
   ],
   "source": [
    "valores_unicos_2020 <- lapply(candidatos_2020[c(\"UF\",\"Cidade\", \"Cargo\", \"Partido\", \"Resultado_Eleitoral\",\n",
    "                                 \"Genero\", \"Raca\", \"ano\")], unique)\n",
    "valores_unicos_2020"
   ]
  },
  {
   "cell_type": "code",
   "execution_count": 4,
   "id": "fc3501a8-fd55-4ad7-9d15-4499ef66dcd4",
   "metadata": {},
   "outputs": [
    {
     "name": "stdout",
     "output_type": "stream",
     "text": [
      "'data.frame':\t18942 obs. of  12 variables:\n",
      " $ sq_candidato       : num  2.6e+11 2.6e+11 2.6e+11 2.6e+11 2.6e+11 ...\n",
      " $ Nome.Candidato     : chr  \"Antonio Carlos Valadares Filho\" \"Antonio Carlos Valadares Filho\" \"Alda Rejane Arruda Da Silva\" \"Manoel Santos Dos Anjos\" ...\n",
      " $ Cidade             : chr  \"Aracaju\" \"Aracaju\" \"Aracaju\" \"Aracaju\" ...\n",
      " $ UF                 : chr  \"SE\" \"SE\" \"SE\" \"SE\" ...\n",
      " $ Cargo              : chr  \"Vice-prefeito\" \"Vice-prefeito\" \"Vice-prefeito\" \"Vereador\" ...\n",
      " $ Partido            : chr  \"PSB\" \"PSB\" \"PMB\" \"SOLIDARIEDADE\" ...\n",
      " $ Resultado_Eleitoral: chr  \"2º Turno\" \"Não Eleito\" \"Não Eleito\" \"Não Eleito\" ...\n",
      " $ Genero             : chr  \"MASC.\" \"MASC.\" \"FEM.\" \"MASC.\" ...\n",
      " $ Raca               : chr  \"BRANCA\" \"BRANCA\" \"PARDA\" \"PARDA\" ...\n",
      " $ Valor_Receita      : num  NA NA NA NA NA NA NA NA NA NA ...\n",
      " $ Votos              : int  0 0 0 0 0 0 0 0 0 0 ...\n",
      " $ ano                : int  2020 2020 2020 2020 2020 2020 2020 2020 2020 2020 ...\n"
     ]
    }
   ],
   "source": [
    "str(candidatos_2020)"
   ]
  },
  {
   "cell_type": "code",
   "execution_count": 5,
   "id": "ebc9bca8-dadf-4b43-93cc-bb1c476a034b",
   "metadata": {},
   "outputs": [
    {
     "data": {
      "text/plain": [
       "  sq_candidato      Nome.Candidato        Cidade               UF           \n",
       " Min.   :1.00e+10   Length:18942       Length:18942       Length:18942      \n",
       " 1st Qu.:9.00e+10   Class :character   Class :character   Class :character  \n",
       " Median :1.40e+11   Mode  :character   Mode  :character   Mode  :character  \n",
       " Mean   :1.39e+11                                                           \n",
       " 3rd Qu.:1.90e+11                                                           \n",
       " Max.   :2.70e+11                                                           \n",
       "                                                                            \n",
       "    Cargo             Partido          Resultado_Eleitoral    Genero         \n",
       " Length:18942       Length:18942       Length:18942        Length:18942      \n",
       " Class :character   Class :character   Class :character    Class :character  \n",
       " Mode  :character   Mode  :character   Mode  :character    Mode  :character  \n",
       "                                                                             \n",
       "                                                                             \n",
       "                                                                             \n",
       "                                                                             \n",
       "     Raca           Valor_Receita         Votos              ano      \n",
       " Length:18942       Min.   :      0   Min.   :      0   Min.   :2020  \n",
       " Class :character   1st Qu.:   1822   1st Qu.:     54   1st Qu.:2020  \n",
       " Mode  :character   Median :   5809   Median :    170   Median :2020  \n",
       "                    Mean   :  34921   Mean   :   2004   Mean   :2020  \n",
       "                    3rd Qu.:  15000   3rd Qu.:    493   3rd Qu.:2020  \n",
       "                    Max.   :9926604   Max.   :1126274   Max.   :2020  \n",
       "                    NA's   :655                                       "
      ]
     },
     "metadata": {},
     "output_type": "display_data"
    }
   ],
   "source": [
    "summary(candidatos_2020)"
   ]
  },
  {
   "cell_type": "code",
   "execution_count": 6,
   "id": "bc58c6ac-0a4a-43f5-a685-b8e90a6ab0dd",
   "metadata": {},
   "outputs": [
    {
     "data": {
      "text/html": [
       "18942"
      ],
      "text/latex": [
       "18942"
      ],
      "text/markdown": [
       "18942"
      ],
      "text/plain": [
       "[1] 18942"
      ]
     },
     "metadata": {},
     "output_type": "display_data"
    }
   ],
   "source": [
    "nrow(candidatos_2020)"
   ]
  },
  {
   "cell_type": "code",
   "execution_count": 7,
   "id": "cafc6012-6087-49b0-9905-8d7f9b304f0e",
   "metadata": {},
   "outputs": [
    {
     "name": "stdout",
     "output_type": "stream",
     "text": [
      "Número de cidades únicas: 21 \n",
      "Número de Estados únicos: 21 \n"
     ]
    }
   ],
   "source": [
    "suppressPackageStartupMessages(library(dplyr))\n",
    "\n",
    "# Contar número de cidades únicas\n",
    "num_cidades <- candidatos_2020 %>%\n",
    "  distinct(Cidade) %>%\n",
    "  nrow()\n",
    "cat(\"Número de cidades únicas:\", num_cidades, \"\\n\")\n",
    "\n",
    "# Contar número de UF únicas\n",
    "num_UF <- candidatos_2020 %>%\n",
    "  distinct(UF) %>%\n",
    "  nrow()\n",
    "cat(\"Número de Estados únicos:\", num_UF, \"\\n\")\n"
   ]
  },
  {
   "cell_type": "markdown",
   "id": "1ada6d69-96a4-4012-8e17-a15eb92d2401",
   "metadata": {},
   "source": [
    "<span style=\"font-weight:bold; color:yellow; font-size:20px\">  \n",
    "\n",
    "Como temos cargos de 'Vice-prefeito','Vereador' e 'Prefeito',vamos fazer um banco de vereadores e outro de prefeitos pois terão tratamento diferenciado</span>"
   ]
  },
  {
   "cell_type": "markdown",
   "id": "a1769caf-62d7-493a-9cda-df5fe08cc5f7",
   "metadata": {},
   "source": [
    "<span style=\"font-weight:bold; color:yellow; font-size:40px\"> \n",
    "    Vereadores 2020</span>"
   ]
  },
  {
   "cell_type": "code",
   "execution_count": 8,
   "id": "2af468bb-942a-4782-b735-27e083d72bde",
   "metadata": {},
   "outputs": [
    {
     "data": {
      "text/html": [
       "<table class=\"dataframe\">\n",
       "<caption>A data.frame: 5 × 12</caption>\n",
       "<thead>\n",
       "\t<tr><th></th><th scope=col>sq_candidato</th><th scope=col>Nome.Candidato</th><th scope=col>Cidade</th><th scope=col>UF</th><th scope=col>Cargo</th><th scope=col>Partido</th><th scope=col>Resultado_Eleitoral</th><th scope=col>Genero</th><th scope=col>Raca</th><th scope=col>Valor_Receita</th><th scope=col>Votos</th><th scope=col>ano</th></tr>\n",
       "\t<tr><th></th><th scope=col>&lt;dbl&gt;</th><th scope=col>&lt;chr&gt;</th><th scope=col>&lt;chr&gt;</th><th scope=col>&lt;chr&gt;</th><th scope=col>&lt;chr&gt;</th><th scope=col>&lt;chr&gt;</th><th scope=col>&lt;chr&gt;</th><th scope=col>&lt;chr&gt;</th><th scope=col>&lt;chr&gt;</th><th scope=col>&lt;dbl&gt;</th><th scope=col>&lt;int&gt;</th><th scope=col>&lt;int&gt;</th></tr>\n",
       "</thead>\n",
       "<tbody>\n",
       "\t<tr><th scope=row>4</th><td>260000793304</td><td>Manoel Santos Dos Anjos          </td><td>Aracaju</td><td>SE</td><td>Vereador</td><td>SOLIDARIEDADE</td><td>Não Eleito</td><td>MASC.</td><td>PARDA</td><td>NA</td><td>  0</td><td>2020</td></tr>\n",
       "\t<tr><th scope=row>12</th><td>260001036855</td><td>Felipe Romão Passos              </td><td>Aracaju</td><td>SE</td><td>Vereador</td><td>PT           </td><td>Não Eleito</td><td>MASC.</td><td>PRETA</td><td>NA</td><td>  0</td><td>2020</td></tr>\n",
       "\t<tr><th scope=row>16</th><td>260001187457</td><td>Arline Virgens Campos Silva      </td><td>Aracaju</td><td>SE</td><td>Vereador</td><td>PMN          </td><td>Nulo      </td><td>FEM. </td><td>PARDA</td><td>NA</td><td>  0</td><td>2020</td></tr>\n",
       "\t<tr><th scope=row>17</th><td>260001187471</td><td>Jaqueline Suzan Dos Santos Franca</td><td>Aracaju</td><td>SE</td><td>Vereador</td><td>PMN          </td><td>Nulo      </td><td>FEM. </td><td>PARDA</td><td>NA</td><td>  0</td><td>2020</td></tr>\n",
       "\t<tr><th scope=row>18</th><td>260000637535</td><td>Cleverton Silva Dos Santos       </td><td>Aracaju</td><td>SE</td><td>Vereador</td><td>PSDB         </td><td>Não Eleito</td><td>MASC.</td><td>PARDA</td><td> 0</td><td>110</td><td>2020</td></tr>\n",
       "</tbody>\n",
       "</table>\n"
      ],
      "text/latex": [
       "A data.frame: 5 × 12\n",
       "\\begin{tabular}{r|llllllllllll}\n",
       "  & sq\\_candidato & Nome.Candidato & Cidade & UF & Cargo & Partido & Resultado\\_Eleitoral & Genero & Raca & Valor\\_Receita & Votos & ano\\\\\n",
       "  & <dbl> & <chr> & <chr> & <chr> & <chr> & <chr> & <chr> & <chr> & <chr> & <dbl> & <int> & <int>\\\\\n",
       "\\hline\n",
       "\t4 & 260000793304 & Manoel Santos Dos Anjos           & Aracaju & SE & Vereador & SOLIDARIEDADE & Não Eleito & MASC. & PARDA & NA &   0 & 2020\\\\\n",
       "\t12 & 260001036855 & Felipe Romão Passos               & Aracaju & SE & Vereador & PT            & Não Eleito & MASC. & PRETA & NA &   0 & 2020\\\\\n",
       "\t16 & 260001187457 & Arline Virgens Campos Silva       & Aracaju & SE & Vereador & PMN           & Nulo       & FEM.  & PARDA & NA &   0 & 2020\\\\\n",
       "\t17 & 260001187471 & Jaqueline Suzan Dos Santos Franca & Aracaju & SE & Vereador & PMN           & Nulo       & FEM.  & PARDA & NA &   0 & 2020\\\\\n",
       "\t18 & 260000637535 & Cleverton Silva Dos Santos        & Aracaju & SE & Vereador & PSDB          & Não Eleito & MASC. & PARDA &  0 & 110 & 2020\\\\\n",
       "\\end{tabular}\n"
      ],
      "text/markdown": [
       "\n",
       "A data.frame: 5 × 12\n",
       "\n",
       "| <!--/--> | sq_candidato &lt;dbl&gt; | Nome.Candidato &lt;chr&gt; | Cidade &lt;chr&gt; | UF &lt;chr&gt; | Cargo &lt;chr&gt; | Partido &lt;chr&gt; | Resultado_Eleitoral &lt;chr&gt; | Genero &lt;chr&gt; | Raca &lt;chr&gt; | Valor_Receita &lt;dbl&gt; | Votos &lt;int&gt; | ano &lt;int&gt; |\n",
       "|---|---|---|---|---|---|---|---|---|---|---|---|---|\n",
       "| 4 | 260000793304 | Manoel Santos Dos Anjos           | Aracaju | SE | Vereador | SOLIDARIEDADE | Não Eleito | MASC. | PARDA | NA |   0 | 2020 |\n",
       "| 12 | 260001036855 | Felipe Romão Passos               | Aracaju | SE | Vereador | PT            | Não Eleito | MASC. | PRETA | NA |   0 | 2020 |\n",
       "| 16 | 260001187457 | Arline Virgens Campos Silva       | Aracaju | SE | Vereador | PMN           | Nulo       | FEM.  | PARDA | NA |   0 | 2020 |\n",
       "| 17 | 260001187471 | Jaqueline Suzan Dos Santos Franca | Aracaju | SE | Vereador | PMN           | Nulo       | FEM.  | PARDA | NA |   0 | 2020 |\n",
       "| 18 | 260000637535 | Cleverton Silva Dos Santos        | Aracaju | SE | Vereador | PSDB          | Não Eleito | MASC. | PARDA |  0 | 110 | 2020 |\n",
       "\n"
      ],
      "text/plain": [
       "   sq_candidato Nome.Candidato                    Cidade  UF Cargo   \n",
       "4  260000793304 Manoel Santos Dos Anjos           Aracaju SE Vereador\n",
       "12 260001036855 Felipe Romão Passos               Aracaju SE Vereador\n",
       "16 260001187457 Arline Virgens Campos Silva       Aracaju SE Vereador\n",
       "17 260001187471 Jaqueline Suzan Dos Santos Franca Aracaju SE Vereador\n",
       "18 260000637535 Cleverton Silva Dos Santos        Aracaju SE Vereador\n",
       "   Partido       Resultado_Eleitoral Genero Raca  Valor_Receita Votos ano \n",
       "4  SOLIDARIEDADE Não Eleito          MASC.  PARDA NA              0   2020\n",
       "12 PT            Não Eleito          MASC.  PRETA NA              0   2020\n",
       "16 PMN           Nulo                FEM.   PARDA NA              0   2020\n",
       "17 PMN           Nulo                FEM.   PARDA NA              0   2020\n",
       "18 PSDB          Não Eleito          MASC.  PARDA  0            110   2020"
      ]
     },
     "metadata": {},
     "output_type": "display_data"
    }
   ],
   "source": [
    "# Selecionando apenas os vereadores \n",
    "vereadores <- subset(candidatos_2020, Cargo == \"Vereador\")\n",
    "head(vereadores,5)"
   ]
  },
  {
   "cell_type": "code",
   "execution_count": 9,
   "id": "353a5104-de4e-497e-a70f-042636fbd5a2",
   "metadata": {},
   "outputs": [
    {
     "data": {
      "text/html": [
       "18362"
      ],
      "text/latex": [
       "18362"
      ],
      "text/markdown": [
       "18362"
      ],
      "text/plain": [
       "[1] 18362"
      ]
     },
     "metadata": {},
     "output_type": "display_data"
    }
   ],
   "source": [
    "nrow(vereadores)"
   ]
  },
  {
   "cell_type": "markdown",
   "id": "a603d5d2-86f1-4406-aa9c-5b7e1f7338b5",
   "metadata": {},
   "source": [
    "<span style=\"font-weight:bold; color:yellow; font-size:40px\"> \n",
    "    Prefeitos e vices 2020</span>"
   ]
  },
  {
   "cell_type": "code",
   "execution_count": 10,
   "id": "3aee65fd-5afa-417c-9411-dc3365d00ff5",
   "metadata": {},
   "outputs": [],
   "source": [
    "# Separar os candidatos a vereador\n",
    "vereadores <- subset(candidatos_2020, Cargo == \"Vereador\")\n",
    "\n",
    "# Separar os candidatos que NÃO são vereadores (inclui prefeitos, vices etc.)\n",
    "prefeitura <- subset(candidatos_2020, Cargo != \"Vereador\")\n",
    "\n",
    "# Exibir os 5 primeiros de cada grupo"
   ]
  },
  {
   "cell_type": "code",
   "execution_count": 11,
   "id": "c9995173-7ddd-4a86-a67f-6bd100bfcdd5",
   "metadata": {},
   "outputs": [
    {
     "data": {
      "text/html": [
       "<table class=\"dataframe\">\n",
       "<caption>A data.frame: 6 × 12</caption>\n",
       "<thead>\n",
       "\t<tr><th></th><th scope=col>sq_candidato</th><th scope=col>Nome.Candidato</th><th scope=col>Cidade</th><th scope=col>UF</th><th scope=col>Cargo</th><th scope=col>Partido</th><th scope=col>Resultado_Eleitoral</th><th scope=col>Genero</th><th scope=col>Raca</th><th scope=col>Valor_Receita</th><th scope=col>Votos</th><th scope=col>ano</th></tr>\n",
       "\t<tr><th></th><th scope=col>&lt;dbl&gt;</th><th scope=col>&lt;chr&gt;</th><th scope=col>&lt;chr&gt;</th><th scope=col>&lt;chr&gt;</th><th scope=col>&lt;chr&gt;</th><th scope=col>&lt;chr&gt;</th><th scope=col>&lt;chr&gt;</th><th scope=col>&lt;chr&gt;</th><th scope=col>&lt;chr&gt;</th><th scope=col>&lt;dbl&gt;</th><th scope=col>&lt;int&gt;</th><th scope=col>&lt;int&gt;</th></tr>\n",
       "</thead>\n",
       "<tbody>\n",
       "\t<tr><th scope=row>1</th><td>260000637329</td><td>Antonio Carlos Valadares Filho   </td><td>Aracaju</td><td>SE</td><td>Vice-prefeito</td><td>PSB   </td><td>2º Turno  </td><td>MASC.</td><td>BRANCA</td><td>NA</td><td>0</td><td>2020</td></tr>\n",
       "\t<tr><th scope=row>2</th><td>260000637329</td><td>Antonio Carlos Valadares Filho   </td><td>Aracaju</td><td>SE</td><td>Vice-prefeito</td><td>PSB   </td><td>Não Eleito</td><td>MASC.</td><td>BRANCA</td><td>NA</td><td>0</td><td>2020</td></tr>\n",
       "\t<tr><th scope=row>3</th><td>260000743433</td><td>Alda Rejane Arruda Da Silva      </td><td>Aracaju</td><td>SE</td><td>Vice-prefeito</td><td>PMB   </td><td>Não Eleito</td><td>FEM. </td><td>PARDA </td><td>NA</td><td>0</td><td>2020</td></tr>\n",
       "\t<tr><th scope=row>5</th><td>260000835178</td><td>José Péricles Menezes De Oliveira</td><td>Aracaju</td><td>SE</td><td>Vice-prefeito</td><td>DEM   </td><td>Não Eleito</td><td>MASC.</td><td>PARDA </td><td>NA</td><td>0</td><td>2020</td></tr>\n",
       "\t<tr><th scope=row>6</th><td>260000857749</td><td>Davi Lima Valente Calazans       </td><td>Aracaju</td><td>SE</td><td>Vice-prefeito</td><td>AVANTE</td><td>Não Eleito</td><td>MASC.</td><td>PRETA </td><td>NA</td><td>0</td><td>2020</td></tr>\n",
       "\t<tr><th scope=row>7</th><td>260000935641</td><td>Luis Eduardo Prado Correia       </td><td>Aracaju</td><td>SE</td><td>Vice-prefeito</td><td>PRTB  </td><td>Não Eleito</td><td>MASC.</td><td>PARDA </td><td>NA</td><td>0</td><td>2020</td></tr>\n",
       "</tbody>\n",
       "</table>\n"
      ],
      "text/latex": [
       "A data.frame: 6 × 12\n",
       "\\begin{tabular}{r|llllllllllll}\n",
       "  & sq\\_candidato & Nome.Candidato & Cidade & UF & Cargo & Partido & Resultado\\_Eleitoral & Genero & Raca & Valor\\_Receita & Votos & ano\\\\\n",
       "  & <dbl> & <chr> & <chr> & <chr> & <chr> & <chr> & <chr> & <chr> & <chr> & <dbl> & <int> & <int>\\\\\n",
       "\\hline\n",
       "\t1 & 260000637329 & Antonio Carlos Valadares Filho    & Aracaju & SE & Vice-prefeito & PSB    & 2º Turno   & MASC. & BRANCA & NA & 0 & 2020\\\\\n",
       "\t2 & 260000637329 & Antonio Carlos Valadares Filho    & Aracaju & SE & Vice-prefeito & PSB    & Não Eleito & MASC. & BRANCA & NA & 0 & 2020\\\\\n",
       "\t3 & 260000743433 & Alda Rejane Arruda Da Silva       & Aracaju & SE & Vice-prefeito & PMB    & Não Eleito & FEM.  & PARDA  & NA & 0 & 2020\\\\\n",
       "\t5 & 260000835178 & José Péricles Menezes De Oliveira & Aracaju & SE & Vice-prefeito & DEM    & Não Eleito & MASC. & PARDA  & NA & 0 & 2020\\\\\n",
       "\t6 & 260000857749 & Davi Lima Valente Calazans        & Aracaju & SE & Vice-prefeito & AVANTE & Não Eleito & MASC. & PRETA  & NA & 0 & 2020\\\\\n",
       "\t7 & 260000935641 & Luis Eduardo Prado Correia        & Aracaju & SE & Vice-prefeito & PRTB   & Não Eleito & MASC. & PARDA  & NA & 0 & 2020\\\\\n",
       "\\end{tabular}\n"
      ],
      "text/markdown": [
       "\n",
       "A data.frame: 6 × 12\n",
       "\n",
       "| <!--/--> | sq_candidato &lt;dbl&gt; | Nome.Candidato &lt;chr&gt; | Cidade &lt;chr&gt; | UF &lt;chr&gt; | Cargo &lt;chr&gt; | Partido &lt;chr&gt; | Resultado_Eleitoral &lt;chr&gt; | Genero &lt;chr&gt; | Raca &lt;chr&gt; | Valor_Receita &lt;dbl&gt; | Votos &lt;int&gt; | ano &lt;int&gt; |\n",
       "|---|---|---|---|---|---|---|---|---|---|---|---|---|\n",
       "| 1 | 260000637329 | Antonio Carlos Valadares Filho    | Aracaju | SE | Vice-prefeito | PSB    | 2º Turno   | MASC. | BRANCA | NA | 0 | 2020 |\n",
       "| 2 | 260000637329 | Antonio Carlos Valadares Filho    | Aracaju | SE | Vice-prefeito | PSB    | Não Eleito | MASC. | BRANCA | NA | 0 | 2020 |\n",
       "| 3 | 260000743433 | Alda Rejane Arruda Da Silva       | Aracaju | SE | Vice-prefeito | PMB    | Não Eleito | FEM.  | PARDA  | NA | 0 | 2020 |\n",
       "| 5 | 260000835178 | José Péricles Menezes De Oliveira | Aracaju | SE | Vice-prefeito | DEM    | Não Eleito | MASC. | PARDA  | NA | 0 | 2020 |\n",
       "| 6 | 260000857749 | Davi Lima Valente Calazans        | Aracaju | SE | Vice-prefeito | AVANTE | Não Eleito | MASC. | PRETA  | NA | 0 | 2020 |\n",
       "| 7 | 260000935641 | Luis Eduardo Prado Correia        | Aracaju | SE | Vice-prefeito | PRTB   | Não Eleito | MASC. | PARDA  | NA | 0 | 2020 |\n",
       "\n"
      ],
      "text/plain": [
       "  sq_candidato Nome.Candidato                    Cidade  UF Cargo        \n",
       "1 260000637329 Antonio Carlos Valadares Filho    Aracaju SE Vice-prefeito\n",
       "2 260000637329 Antonio Carlos Valadares Filho    Aracaju SE Vice-prefeito\n",
       "3 260000743433 Alda Rejane Arruda Da Silva       Aracaju SE Vice-prefeito\n",
       "5 260000835178 José Péricles Menezes De Oliveira Aracaju SE Vice-prefeito\n",
       "6 260000857749 Davi Lima Valente Calazans        Aracaju SE Vice-prefeito\n",
       "7 260000935641 Luis Eduardo Prado Correia        Aracaju SE Vice-prefeito\n",
       "  Partido Resultado_Eleitoral Genero Raca   Valor_Receita Votos ano \n",
       "1 PSB     2º Turno            MASC.  BRANCA NA            0     2020\n",
       "2 PSB     Não Eleito          MASC.  BRANCA NA            0     2020\n",
       "3 PMB     Não Eleito          FEM.   PARDA  NA            0     2020\n",
       "5 DEM     Não Eleito          MASC.  PARDA  NA            0     2020\n",
       "6 AVANTE  Não Eleito          MASC.  PRETA  NA            0     2020\n",
       "7 PRTB    Não Eleito          MASC.  PARDA  NA            0     2020"
      ]
     },
     "metadata": {},
     "output_type": "display_data"
    }
   ],
   "source": [
    "head(prefeitura)"
   ]
  },
  {
   "cell_type": "code",
   "execution_count": 12,
   "id": "d2c28574-c6b9-45b9-bd38-76a39956187c",
   "metadata": {},
   "outputs": [
    {
     "data": {
      "text/html": [
       "580"
      ],
      "text/latex": [
       "580"
      ],
      "text/markdown": [
       "580"
      ],
      "text/plain": [
       "[1] 580"
      ]
     },
     "metadata": {},
     "output_type": "display_data"
    }
   ],
   "source": [
    "nrow(prefeitura)"
   ]
  },
  {
   "cell_type": "code",
   "execution_count": 13,
   "id": "6952d4bc-87b4-4179-ac5a-521ec187c24b",
   "metadata": {},
   "outputs": [
    {
     "data": {
      "text/html": [
       "18942"
      ],
      "text/latex": [
       "18942"
      ],
      "text/markdown": [
       "18942"
      ],
      "text/plain": [
       "[1] 18942"
      ]
     },
     "metadata": {},
     "output_type": "display_data"
    }
   ],
   "source": [
    "18362 + 580"
   ]
  },
  {
   "cell_type": "markdown",
   "id": "fe71bf41-9721-4e45-a8b9-9b96db8a98b0",
   "metadata": {},
   "source": [
    "<span style=\"font-weight:bold; color:yellow; font-size:20px\"> Exportando os arquivos dos subset vereadores_2020 e prefeituras_2020 </span>"
   ]
  },
  {
   "cell_type": "code",
   "execution_count": 14,
   "id": "31853439-2992-40b4-b56b-e6b2a943f582",
   "metadata": {},
   "outputs": [],
   "source": [
    "#write.csv(vereadores, \"../data/vereadores_2020.csv\", row.names = FALSE)"
   ]
  },
  {
   "cell_type": "code",
   "execution_count": 15,
   "id": "da7f2a14-c071-49e3-95e0-996efb79ab4e",
   "metadata": {},
   "outputs": [],
   "source": [
    "#write.csv(prefeitura, \"../data/prefeitura_2020.csv\", row.names = FALSE)"
   ]
  }
 ],
 "metadata": {
  "kernelspec": {
   "display_name": "R",
   "language": "R",
   "name": "ir"
  },
  "language_info": {
   "codemirror_mode": "r",
   "file_extension": ".r",
   "mimetype": "text/x-r-source",
   "name": "R",
   "pygments_lexer": "r",
   "version": "4.5.0"
  }
 },
 "nbformat": 4,
 "nbformat_minor": 5
}
