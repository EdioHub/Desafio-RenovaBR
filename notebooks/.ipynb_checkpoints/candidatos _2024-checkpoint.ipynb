{
 "cells": [
  {
   "cell_type": "markdown",
   "id": "fd795338-299e-4444-b010-11b188adb714",
   "metadata": {},
   "source": [
    "<span style=\"font-weight:bold; color:yellow; font-size:30px\"> Candidatos 2020</span>\n",
    "\n",
    "<span style=\"font-weight:bold; color:yellow; font-size:20px\"> 1- Prè processamento</span>"
   ]
  },
  {
   "cell_type": "code",
   "execution_count": 1,
   "id": "28757e71-d203-41f9-8a80-05275d049e7a",
   "metadata": {},
   "outputs": [],
   "source": [
    "candidatos_2024<-read.csv('../data/candidatos_2024.csv')"
   ]
  },
  {
   "cell_type": "code",
   "execution_count": 2,
   "id": "de134560-feae-43b8-b9f3-0072cc44930f",
   "metadata": {},
   "outputs": [
    {
     "data": {
      "text/html": [
       "<table class=\"dataframe\">\n",
       "<caption>A data.frame: 6 × 12</caption>\n",
       "<thead>\n",
       "\t<tr><th></th><th scope=col>sq_candidato</th><th scope=col>Nome.Candidato</th><th scope=col>Cidade</th><th scope=col>UF</th><th scope=col>Cargo</th><th scope=col>Partido</th><th scope=col>Resultado_Eleitoral</th><th scope=col>Genero</th><th scope=col>Raca</th><th scope=col>Valor_Receita</th><th scope=col>Votos</th><th scope=col>ano</th></tr>\n",
       "\t<tr><th></th><th scope=col>&lt;dbl&gt;</th><th scope=col>&lt;chr&gt;</th><th scope=col>&lt;chr&gt;</th><th scope=col>&lt;chr&gt;</th><th scope=col>&lt;chr&gt;</th><th scope=col>&lt;chr&gt;</th><th scope=col>&lt;chr&gt;</th><th scope=col>&lt;chr&gt;</th><th scope=col>&lt;chr&gt;</th><th scope=col>&lt;dbl&gt;</th><th scope=col>&lt;int&gt;</th><th scope=col>&lt;int&gt;</th></tr>\n",
       "</thead>\n",
       "<tbody>\n",
       "\t<tr><th scope=row>1</th><td>260001885402</td><td>JOEL ROSA DOS SANTOS     </td><td>Aracaju</td><td>SE</td><td>Vereador</td><td>CIDADANIA</td><td>Não Eleito</td><td>MASC.</td><td>PARDA   </td><td>NA</td><td> 17</td><td>2024</td></tr>\n",
       "\t<tr><th scope=row>2</th><td>260001885406</td><td>PAULO MÁRCIO RAMOS CRUZ  </td><td>Aracaju</td><td>SE</td><td>Vereador</td><td>PSDB     </td><td>Não Eleito</td><td>MASC.</td><td>PARDA   </td><td>NA</td><td>114</td><td>2024</td></tr>\n",
       "\t<tr><th scope=row>3</th><td>260001885410</td><td>ROGÉRIO SOUZA DE CARVALHO</td><td>Aracaju</td><td>SE</td><td>Vereador</td><td>PSDB     </td><td>Não Eleito</td><td>MASC.</td><td>INDÍGENA</td><td>NA</td><td>268</td><td>2024</td></tr>\n",
       "\t<tr><th scope=row>4</th><td>260001885420</td><td>LUCIENE ALMEIDA DE LIMA  </td><td>Aracaju</td><td>SE</td><td>Vereador</td><td>PSDB     </td><td>Não Eleito</td><td>FEM. </td><td>PARDA   </td><td>NA</td><td>297</td><td>2024</td></tr>\n",
       "\t<tr><th scope=row>5</th><td>260001885421</td><td>MARCONE DE SANTANA BOMFIM</td><td>Aracaju</td><td>SE</td><td>Vereador</td><td>PSDB     </td><td>Não Eleito</td><td>MASC.</td><td>BRANCA  </td><td>NA</td><td> 58</td><td>2024</td></tr>\n",
       "\t<tr><th scope=row>6</th><td>260001885423</td><td>FERNANDA ALMEIDA FARINE  </td><td>Aracaju</td><td>SE</td><td>Vereador</td><td>PSDB     </td><td>Não Eleito</td><td>FEM. </td><td>BRANCA  </td><td>NA</td><td>441</td><td>2024</td></tr>\n",
       "</tbody>\n",
       "</table>\n"
      ],
      "text/latex": [
       "A data.frame: 6 × 12\n",
       "\\begin{tabular}{r|llllllllllll}\n",
       "  & sq\\_candidato & Nome.Candidato & Cidade & UF & Cargo & Partido & Resultado\\_Eleitoral & Genero & Raca & Valor\\_Receita & Votos & ano\\\\\n",
       "  & <dbl> & <chr> & <chr> & <chr> & <chr> & <chr> & <chr> & <chr> & <chr> & <dbl> & <int> & <int>\\\\\n",
       "\\hline\n",
       "\t1 & 260001885402 & JOEL ROSA DOS SANTOS      & Aracaju & SE & Vereador & CIDADANIA & Não Eleito & MASC. & PARDA    & NA &  17 & 2024\\\\\n",
       "\t2 & 260001885406 & PAULO MÁRCIO RAMOS CRUZ   & Aracaju & SE & Vereador & PSDB      & Não Eleito & MASC. & PARDA    & NA & 114 & 2024\\\\\n",
       "\t3 & 260001885410 & ROGÉRIO SOUZA DE CARVALHO & Aracaju & SE & Vereador & PSDB      & Não Eleito & MASC. & INDÍGENA & NA & 268 & 2024\\\\\n",
       "\t4 & 260001885420 & LUCIENE ALMEIDA DE LIMA   & Aracaju & SE & Vereador & PSDB      & Não Eleito & FEM.  & PARDA    & NA & 297 & 2024\\\\\n",
       "\t5 & 260001885421 & MARCONE DE SANTANA BOMFIM & Aracaju & SE & Vereador & PSDB      & Não Eleito & MASC. & BRANCA   & NA &  58 & 2024\\\\\n",
       "\t6 & 260001885423 & FERNANDA ALMEIDA FARINE   & Aracaju & SE & Vereador & PSDB      & Não Eleito & FEM.  & BRANCA   & NA & 441 & 2024\\\\\n",
       "\\end{tabular}\n"
      ],
      "text/markdown": [
       "\n",
       "A data.frame: 6 × 12\n",
       "\n",
       "| <!--/--> | sq_candidato &lt;dbl&gt; | Nome.Candidato &lt;chr&gt; | Cidade &lt;chr&gt; | UF &lt;chr&gt; | Cargo &lt;chr&gt; | Partido &lt;chr&gt; | Resultado_Eleitoral &lt;chr&gt; | Genero &lt;chr&gt; | Raca &lt;chr&gt; | Valor_Receita &lt;dbl&gt; | Votos &lt;int&gt; | ano &lt;int&gt; |\n",
       "|---|---|---|---|---|---|---|---|---|---|---|---|---|\n",
       "| 1 | 260001885402 | JOEL ROSA DOS SANTOS      | Aracaju | SE | Vereador | CIDADANIA | Não Eleito | MASC. | PARDA    | NA |  17 | 2024 |\n",
       "| 2 | 260001885406 | PAULO MÁRCIO RAMOS CRUZ   | Aracaju | SE | Vereador | PSDB      | Não Eleito | MASC. | PARDA    | NA | 114 | 2024 |\n",
       "| 3 | 260001885410 | ROGÉRIO SOUZA DE CARVALHO | Aracaju | SE | Vereador | PSDB      | Não Eleito | MASC. | INDÍGENA | NA | 268 | 2024 |\n",
       "| 4 | 260001885420 | LUCIENE ALMEIDA DE LIMA   | Aracaju | SE | Vereador | PSDB      | Não Eleito | FEM.  | PARDA    | NA | 297 | 2024 |\n",
       "| 5 | 260001885421 | MARCONE DE SANTANA BOMFIM | Aracaju | SE | Vereador | PSDB      | Não Eleito | MASC. | BRANCA   | NA |  58 | 2024 |\n",
       "| 6 | 260001885423 | FERNANDA ALMEIDA FARINE   | Aracaju | SE | Vereador | PSDB      | Não Eleito | FEM.  | BRANCA   | NA | 441 | 2024 |\n",
       "\n"
      ],
      "text/plain": [
       "  sq_candidato Nome.Candidato            Cidade  UF Cargo    Partido  \n",
       "1 260001885402 JOEL ROSA DOS SANTOS      Aracaju SE Vereador CIDADANIA\n",
       "2 260001885406 PAULO MÁRCIO RAMOS CRUZ   Aracaju SE Vereador PSDB     \n",
       "3 260001885410 ROGÉRIO SOUZA DE CARVALHO Aracaju SE Vereador PSDB     \n",
       "4 260001885420 LUCIENE ALMEIDA DE LIMA   Aracaju SE Vereador PSDB     \n",
       "5 260001885421 MARCONE DE SANTANA BOMFIM Aracaju SE Vereador PSDB     \n",
       "6 260001885423 FERNANDA ALMEIDA FARINE   Aracaju SE Vereador PSDB     \n",
       "  Resultado_Eleitoral Genero Raca     Valor_Receita Votos ano \n",
       "1 Não Eleito          MASC.  PARDA    NA             17   2024\n",
       "2 Não Eleito          MASC.  PARDA    NA            114   2024\n",
       "3 Não Eleito          MASC.  INDÍGENA NA            268   2024\n",
       "4 Não Eleito          FEM.   PARDA    NA            297   2024\n",
       "5 Não Eleito          MASC.  BRANCA   NA             58   2024\n",
       "6 Não Eleito          FEM.   BRANCA   NA            441   2024"
      ]
     },
     "metadata": {},
     "output_type": "display_data"
    }
   ],
   "source": [
    "head(candidatos_2024) "
   ]
  },
  {
   "cell_type": "markdown",
   "id": "d8fc0f30-056b-4ba2-9a95-38eed3f5b06c",
   "metadata": {},
   "source": [
    "<span style=\"font-weight:bold; color:yellow; font-size:20px\"> \n",
    "Verificando os valores únicos de cada coluna Aquiteremos a relação das colunas e das classes para utilização</span>"
   ]
  },
  {
   "cell_type": "code",
   "execution_count": 3,
   "id": "c15ae6f0-7599-4f57-8485-e727aef2ef25",
   "metadata": {},
   "outputs": [
    {
     "data": {
      "text/html": [
       "<dl>\n",
       "\t<dt>$UF</dt>\n",
       "\t\t<dd><style>\n",
       ".list-inline {list-style: none; margin:0; padding: 0}\n",
       ".list-inline>li {display: inline-block}\n",
       ".list-inline>li:not(:last-child)::after {content: \"\\00b7\"; padding: 0 .5ex}\n",
       "</style>\n",
       "<ol class=list-inline><li>'SE'</li><li>'PA'</li><li>'MG'</li><li>'RR'</li><li>'MS'</li><li>'MT'</li><li>'PR'</li><li>'SC'</li><li>'CE'</li><li>'GO'</li><li>'PB'</li><li>'AP'</li><li>'AL'</li><li>'AM'</li><li>'RN'</li><li>'TO'</li><li>'RS'</li><li>'RO'</li><li>'PE'</li><li>'AC'</li><li>'RJ'</li></ol>\n",
       "</dd>\n",
       "\t<dt>$Cidade</dt>\n",
       "\t\t<dd><style>\n",
       ".list-inline {list-style: none; margin:0; padding: 0}\n",
       ".list-inline>li {display: inline-block}\n",
       ".list-inline>li:not(:last-child)::after {content: \"\\00b7\"; padding: 0 .5ex}\n",
       "</style>\n",
       "<ol class=list-inline><li>'Aracaju'</li><li>'Belém'</li><li>'Belo Horizonte'</li><li>'Boa Vista'</li><li>'Campo Grande'</li><li>'Cuiabá'</li><li>'Curitiba'</li><li>'Florianópolis'</li><li>'Fortaleza'</li><li>'Goiânia'</li><li>'João Pessoa'</li><li>'Macapá'</li><li>'Maceió'</li><li>'Manaus'</li><li>'Natal'</li><li>'Palmas'</li><li>'Porto Alegre'</li><li>'Porto Velho'</li><li>'Recife'</li><li>'Rio Branco'</li><li>'Rio de Janeiro'</li></ol>\n",
       "</dd>\n",
       "\t<dt>$Cargo</dt>\n",
       "\t\t<dd><style>\n",
       ".list-inline {list-style: none; margin:0; padding: 0}\n",
       ".list-inline>li {display: inline-block}\n",
       ".list-inline>li:not(:last-child)::after {content: \"\\00b7\"; padding: 0 .5ex}\n",
       "</style>\n",
       "<ol class=list-inline><li>'Vereador'</li><li>'Vice-prefeito'</li><li>'Prefeito'</li></ol>\n",
       "</dd>\n",
       "\t<dt>$Partido</dt>\n",
       "\t\t<dd><style>\n",
       ".list-inline {list-style: none; margin:0; padding: 0}\n",
       ".list-inline>li {display: inline-block}\n",
       ".list-inline>li:not(:last-child)::after {content: \"\\00b7\"; padding: 0 .5ex}\n",
       "</style>\n",
       "<ol class=list-inline><li>'CIDADANIA'</li><li>'PSDB'</li><li>'PODE'</li><li>'PRD'</li><li>'UNIÃO'</li><li>'PL'</li><li>'DC'</li><li>'MDB'</li><li>'PT'</li><li>'PDT'</li><li>'MOBILIZA'</li><li>'PSD'</li><li>'PP'</li><li>'AGIR'</li><li>'UP'</li><li>'PSB'</li><li>'NOVO'</li><li>'PSOL'</li><li>'SOLIDARIEDADE'</li><li>'PCO'</li><li>'AVANTE'</li><li>'PV'</li><li>'REDE'</li><li>'REPUBLICANOS'</li><li>'PC do B'</li><li>'PSTU'</li><li>'PRTB'</li><li>'PMB'</li><li>'PCB'</li></ol>\n",
       "</dd>\n",
       "\t<dt>$Resultado_Eleitoral</dt>\n",
       "\t\t<dd><style>\n",
       ".list-inline {list-style: none; margin:0; padding: 0}\n",
       ".list-inline>li {display: inline-block}\n",
       ".list-inline>li:not(:last-child)::after {content: \"\\00b7\"; padding: 0 .5ex}\n",
       "</style>\n",
       "<ol class=list-inline><li>'Não Eleito'</li><li>'Suplente'</li><li>''</li><li>'Eleito por Média'</li><li>'Eleito'</li><li>'Eleito por QP'</li><li>'2º Turno'</li></ol>\n",
       "</dd>\n",
       "\t<dt>$Genero</dt>\n",
       "\t\t<dd><style>\n",
       ".list-inline {list-style: none; margin:0; padding: 0}\n",
       ".list-inline>li {display: inline-block}\n",
       ".list-inline>li:not(:last-child)::after {content: \"\\00b7\"; padding: 0 .5ex}\n",
       "</style>\n",
       "<ol class=list-inline><li>'MASC.'</li><li>'FEM.'</li></ol>\n",
       "</dd>\n",
       "\t<dt>$Raca</dt>\n",
       "\t\t<dd><style>\n",
       ".list-inline {list-style: none; margin:0; padding: 0}\n",
       ".list-inline>li {display: inline-block}\n",
       ".list-inline>li:not(:last-child)::after {content: \"\\00b7\"; padding: 0 .5ex}\n",
       "</style>\n",
       "<ol class=list-inline><li>'PARDA'</li><li>'INDÍGENA'</li><li>'BRANCA'</li><li>'PRETA'</li><li>'AMARELA'</li><li>'SEM INFORMAÇÃO'</li></ol>\n",
       "</dd>\n",
       "\t<dt>$ano</dt>\n",
       "\t\t<dd>2024</dd>\n",
       "</dl>\n"
      ],
      "text/latex": [
       "\\begin{description}\n",
       "\\item[\\$UF] \\begin{enumerate*}\n",
       "\\item 'SE'\n",
       "\\item 'PA'\n",
       "\\item 'MG'\n",
       "\\item 'RR'\n",
       "\\item 'MS'\n",
       "\\item 'MT'\n",
       "\\item 'PR'\n",
       "\\item 'SC'\n",
       "\\item 'CE'\n",
       "\\item 'GO'\n",
       "\\item 'PB'\n",
       "\\item 'AP'\n",
       "\\item 'AL'\n",
       "\\item 'AM'\n",
       "\\item 'RN'\n",
       "\\item 'TO'\n",
       "\\item 'RS'\n",
       "\\item 'RO'\n",
       "\\item 'PE'\n",
       "\\item 'AC'\n",
       "\\item 'RJ'\n",
       "\\end{enumerate*}\n",
       "\n",
       "\\item[\\$Cidade] \\begin{enumerate*}\n",
       "\\item 'Aracaju'\n",
       "\\item 'Belém'\n",
       "\\item 'Belo Horizonte'\n",
       "\\item 'Boa Vista'\n",
       "\\item 'Campo Grande'\n",
       "\\item 'Cuiabá'\n",
       "\\item 'Curitiba'\n",
       "\\item 'Florianópolis'\n",
       "\\item 'Fortaleza'\n",
       "\\item 'Goiânia'\n",
       "\\item 'João Pessoa'\n",
       "\\item 'Macapá'\n",
       "\\item 'Maceió'\n",
       "\\item 'Manaus'\n",
       "\\item 'Natal'\n",
       "\\item 'Palmas'\n",
       "\\item 'Porto Alegre'\n",
       "\\item 'Porto Velho'\n",
       "\\item 'Recife'\n",
       "\\item 'Rio Branco'\n",
       "\\item 'Rio de Janeiro'\n",
       "\\end{enumerate*}\n",
       "\n",
       "\\item[\\$Cargo] \\begin{enumerate*}\n",
       "\\item 'Vereador'\n",
       "\\item 'Vice-prefeito'\n",
       "\\item 'Prefeito'\n",
       "\\end{enumerate*}\n",
       "\n",
       "\\item[\\$Partido] \\begin{enumerate*}\n",
       "\\item 'CIDADANIA'\n",
       "\\item 'PSDB'\n",
       "\\item 'PODE'\n",
       "\\item 'PRD'\n",
       "\\item 'UNIÃO'\n",
       "\\item 'PL'\n",
       "\\item 'DC'\n",
       "\\item 'MDB'\n",
       "\\item 'PT'\n",
       "\\item 'PDT'\n",
       "\\item 'MOBILIZA'\n",
       "\\item 'PSD'\n",
       "\\item 'PP'\n",
       "\\item 'AGIR'\n",
       "\\item 'UP'\n",
       "\\item 'PSB'\n",
       "\\item 'NOVO'\n",
       "\\item 'PSOL'\n",
       "\\item 'SOLIDARIEDADE'\n",
       "\\item 'PCO'\n",
       "\\item 'AVANTE'\n",
       "\\item 'PV'\n",
       "\\item 'REDE'\n",
       "\\item 'REPUBLICANOS'\n",
       "\\item 'PC do B'\n",
       "\\item 'PSTU'\n",
       "\\item 'PRTB'\n",
       "\\item 'PMB'\n",
       "\\item 'PCB'\n",
       "\\end{enumerate*}\n",
       "\n",
       "\\item[\\$Resultado\\_Eleitoral] \\begin{enumerate*}\n",
       "\\item 'Não Eleito'\n",
       "\\item 'Suplente'\n",
       "\\item ''\n",
       "\\item 'Eleito por Média'\n",
       "\\item 'Eleito'\n",
       "\\item 'Eleito por QP'\n",
       "\\item '2º Turno'\n",
       "\\end{enumerate*}\n",
       "\n",
       "\\item[\\$Genero] \\begin{enumerate*}\n",
       "\\item 'MASC.'\n",
       "\\item 'FEM.'\n",
       "\\end{enumerate*}\n",
       "\n",
       "\\item[\\$Raca] \\begin{enumerate*}\n",
       "\\item 'PARDA'\n",
       "\\item 'INDÍGENA'\n",
       "\\item 'BRANCA'\n",
       "\\item 'PRETA'\n",
       "\\item 'AMARELA'\n",
       "\\item 'SEM INFORMAÇÃO'\n",
       "\\end{enumerate*}\n",
       "\n",
       "\\item[\\$ano] 2024\n",
       "\\end{description}\n"
      ],
      "text/markdown": [
       "$UF\n",
       ":   1. 'SE'\n",
       "2. 'PA'\n",
       "3. 'MG'\n",
       "4. 'RR'\n",
       "5. 'MS'\n",
       "6. 'MT'\n",
       "7. 'PR'\n",
       "8. 'SC'\n",
       "9. 'CE'\n",
       "10. 'GO'\n",
       "11. 'PB'\n",
       "12. 'AP'\n",
       "13. 'AL'\n",
       "14. 'AM'\n",
       "15. 'RN'\n",
       "16. 'TO'\n",
       "17. 'RS'\n",
       "18. 'RO'\n",
       "19. 'PE'\n",
       "20. 'AC'\n",
       "21. 'RJ'\n",
       "\n",
       "\n",
       "\n",
       "$Cidade\n",
       ":   1. 'Aracaju'\n",
       "2. 'Belém'\n",
       "3. 'Belo Horizonte'\n",
       "4. 'Boa Vista'\n",
       "5. 'Campo Grande'\n",
       "6. 'Cuiabá'\n",
       "7. 'Curitiba'\n",
       "8. 'Florianópolis'\n",
       "9. 'Fortaleza'\n",
       "10. 'Goiânia'\n",
       "11. 'João Pessoa'\n",
       "12. 'Macapá'\n",
       "13. 'Maceió'\n",
       "14. 'Manaus'\n",
       "15. 'Natal'\n",
       "16. 'Palmas'\n",
       "17. 'Porto Alegre'\n",
       "18. 'Porto Velho'\n",
       "19. 'Recife'\n",
       "20. 'Rio Branco'\n",
       "21. 'Rio de Janeiro'\n",
       "\n",
       "\n",
       "\n",
       "$Cargo\n",
       ":   1. 'Vereador'\n",
       "2. 'Vice-prefeito'\n",
       "3. 'Prefeito'\n",
       "\n",
       "\n",
       "\n",
       "$Partido\n",
       ":   1. 'CIDADANIA'\n",
       "2. 'PSDB'\n",
       "3. 'PODE'\n",
       "4. 'PRD'\n",
       "5. 'UNIÃO'\n",
       "6. 'PL'\n",
       "7. 'DC'\n",
       "8. 'MDB'\n",
       "9. 'PT'\n",
       "10. 'PDT'\n",
       "11. 'MOBILIZA'\n",
       "12. 'PSD'\n",
       "13. 'PP'\n",
       "14. 'AGIR'\n",
       "15. 'UP'\n",
       "16. 'PSB'\n",
       "17. 'NOVO'\n",
       "18. 'PSOL'\n",
       "19. 'SOLIDARIEDADE'\n",
       "20. 'PCO'\n",
       "21. 'AVANTE'\n",
       "22. 'PV'\n",
       "23. 'REDE'\n",
       "24. 'REPUBLICANOS'\n",
       "25. 'PC do B'\n",
       "26. 'PSTU'\n",
       "27. 'PRTB'\n",
       "28. 'PMB'\n",
       "29. 'PCB'\n",
       "\n",
       "\n",
       "\n",
       "$Resultado_Eleitoral\n",
       ":   1. 'Não Eleito'\n",
       "2. 'Suplente'\n",
       "3. ''\n",
       "4. 'Eleito por Média'\n",
       "5. 'Eleito'\n",
       "6. 'Eleito por QP'\n",
       "7. '2º Turno'\n",
       "\n",
       "\n",
       "\n",
       "$Genero\n",
       ":   1. 'MASC.'\n",
       "2. 'FEM.'\n",
       "\n",
       "\n",
       "\n",
       "$Raca\n",
       ":   1. 'PARDA'\n",
       "2. 'INDÍGENA'\n",
       "3. 'BRANCA'\n",
       "4. 'PRETA'\n",
       "5. 'AMARELA'\n",
       "6. 'SEM INFORMAÇÃO'\n",
       "\n",
       "\n",
       "\n",
       "$ano\n",
       ":   2024\n",
       "\n",
       "\n"
      ],
      "text/plain": [
       "$UF\n",
       " [1] \"SE\" \"PA\" \"MG\" \"RR\" \"MS\" \"MT\" \"PR\" \"SC\" \"CE\" \"GO\" \"PB\" \"AP\" \"AL\" \"AM\" \"RN\"\n",
       "[16] \"TO\" \"RS\" \"RO\" \"PE\" \"AC\" \"RJ\"\n",
       "\n",
       "$Cidade\n",
       " [1] \"Aracaju\"        \"Belém\"          \"Belo Horizonte\" \"Boa Vista\"     \n",
       " [5] \"Campo Grande\"   \"Cuiabá\"         \"Curitiba\"       \"Florianópolis\" \n",
       " [9] \"Fortaleza\"      \"Goiânia\"        \"João Pessoa\"    \"Macapá\"        \n",
       "[13] \"Maceió\"         \"Manaus\"         \"Natal\"          \"Palmas\"        \n",
       "[17] \"Porto Alegre\"   \"Porto Velho\"    \"Recife\"         \"Rio Branco\"    \n",
       "[21] \"Rio de Janeiro\"\n",
       "\n",
       "$Cargo\n",
       "[1] \"Vereador\"      \"Vice-prefeito\" \"Prefeito\"     \n",
       "\n",
       "$Partido\n",
       " [1] \"CIDADANIA\"     \"PSDB\"          \"PODE\"          \"PRD\"          \n",
       " [5] \"UNIÃO\"         \"PL\"            \"DC\"            \"MDB\"          \n",
       " [9] \"PT\"            \"PDT\"           \"MOBILIZA\"      \"PSD\"          \n",
       "[13] \"PP\"            \"AGIR\"          \"UP\"            \"PSB\"          \n",
       "[17] \"NOVO\"          \"PSOL\"          \"SOLIDARIEDADE\" \"PCO\"          \n",
       "[21] \"AVANTE\"        \"PV\"            \"REDE\"          \"REPUBLICANOS\" \n",
       "[25] \"PC do B\"       \"PSTU\"          \"PRTB\"          \"PMB\"          \n",
       "[29] \"PCB\"          \n",
       "\n",
       "$Resultado_Eleitoral\n",
       "[1] \"Não Eleito\"       \"Suplente\"         \"\"                 \"Eleito por Média\"\n",
       "[5] \"Eleito\"           \"Eleito por QP\"    \"2º Turno\"        \n",
       "\n",
       "$Genero\n",
       "[1] \"MASC.\" \"FEM.\" \n",
       "\n",
       "$Raca\n",
       "[1] \"PARDA\"          \"INDÍGENA\"       \"BRANCA\"         \"PRETA\"         \n",
       "[5] \"AMARELA\"        \"SEM INFORMAÇÃO\"\n",
       "\n",
       "$ano\n",
       "[1] 2024\n"
      ]
     },
     "metadata": {},
     "output_type": "display_data"
    }
   ],
   "source": [
    "valores_unicos_2024 <- lapply(candidatos_2024[c(\"UF\",\"Cidade\", \"Cargo\", \"Partido\", \"Resultado_Eleitoral\",\n",
    "                                 \"Genero\", \"Raca\", \"ano\")], unique)\n",
    "valores_unicos_2024"
   ]
  },
  {
   "cell_type": "code",
   "execution_count": 12,
   "id": "fc3501a8-fd55-4ad7-9d15-4499ef66dcd4",
   "metadata": {},
   "outputs": [
    {
     "name": "stdout",
     "output_type": "stream",
     "text": [
      "'data.frame':\t11058 obs. of  12 variables:\n",
      " $ sq_candidato       : num  2.6e+11 2.6e+11 2.6e+11 2.6e+11 2.6e+11 ...\n",
      " $ Nome.Candidato     : chr  \"JOEL ROSA DOS SANTOS\" \"PAULO MÁRCIO RAMOS CRUZ\" \"ROGÉRIO SOUZA DE CARVALHO\" \"LUCIENE ALMEIDA DE LIMA\" ...\n",
      " $ Cidade             : chr  \"Aracaju\" \"Aracaju\" \"Aracaju\" \"Aracaju\" ...\n",
      " $ UF                 : chr  \"SE\" \"SE\" \"SE\" \"SE\" ...\n",
      " $ Cargo              : chr  \"Vereador\" \"Vereador\" \"Vereador\" \"Vereador\" ...\n",
      " $ Partido            : chr  \"CIDADANIA\" \"PSDB\" \"PSDB\" \"PSDB\" ...\n",
      " $ Resultado_Eleitoral: chr  \"Não Eleito\" \"Não Eleito\" \"Não Eleito\" \"Não Eleito\" ...\n",
      " $ Genero             : chr  \"MASC.\" \"MASC.\" \"MASC.\" \"FEM.\" ...\n",
      " $ Raca               : chr  \"PARDA\" \"PARDA\" \"INDÍGENA\" \"PARDA\" ...\n",
      " $ Valor_Receita      : num  NA NA NA NA NA NA NA NA NA NA ...\n",
      " $ Votos              : int  17 114 268 297 58 441 875 43932 90 364 ...\n",
      " $ ano                : int  2024 2024 2024 2024 2024 2024 2024 2024 2024 2024 ...\n"
     ]
    }
   ],
   "source": [
    "str(candidatos_2024)"
   ]
  },
  {
   "cell_type": "code",
   "execution_count": 13,
   "id": "ebc9bca8-dadf-4b43-93cc-bb1c476a034b",
   "metadata": {},
   "outputs": [
    {
     "data": {
      "text/plain": [
       "  sq_candidato       Nome.Candidato        Cidade               UF           \n",
       " Min.   :1.000e+10   Length:11058       Length:11058       Length:11058      \n",
       " 1st Qu.:9.000e+10   Class :character   Class :character   Class :character  \n",
       " Median :1.400e+11   Mode  :character   Mode  :character   Mode  :character  \n",
       " Mean   :1.405e+11                                                           \n",
       " 3rd Qu.:2.000e+11                                                           \n",
       " Max.   :2.700e+11                                                           \n",
       "                                                                             \n",
       "    Cargo             Partido          Resultado_Eleitoral    Genero         \n",
       " Length:11058       Length:11058       Length:11058        Length:11058      \n",
       " Class :character   Class :character   Class :character    Class :character  \n",
       " Mode  :character   Mode  :character   Mode  :character    Mode  :character  \n",
       "                                                                             \n",
       "                                                                             \n",
       "                                                                             \n",
       "                                                                             \n",
       "     Raca           Valor_Receita          Votos              ano      \n",
       " Length:11058       Min.   :       1   Min.   :      0   Min.   :2024  \n",
       " Class :character   1st Qu.:    8726   1st Qu.:    122   1st Qu.:2024  \n",
       " Mode  :character   Median :   21000   Median :    328   Median :2024  \n",
       "                    Mean   :  111721   Mean   :   3956   Mean   :2024  \n",
       "                    3rd Qu.:   60000   3rd Qu.:   1099   3rd Qu.:2024  \n",
       "                    Max.   :21026537   Max.   :1861856   Max.   :2024  \n",
       "                    NA's   :2567       NA's   :439                     "
      ]
     },
     "metadata": {},
     "output_type": "display_data"
    }
   ],
   "source": [
    "summary(candidatos_2024)"
   ]
  },
  {
   "cell_type": "code",
   "execution_count": 14,
   "id": "2f35b7c4-3dc2-4634-aa56-a2a4bf7b59ca",
   "metadata": {},
   "outputs": [
    {
     "name": "stdout",
     "output_type": "stream",
     "text": [
      "Número de cidades únicas: 21 \n",
      "Número de Estados únicos: 21 \n"
     ]
    }
   ],
   "source": [
    "suppressPackageStartupMessages(library(dplyr))\n",
    "\n",
    "# Contar número de cidades únicas\n",
    "num_cidades <- candidatos_2024 %>%\n",
    "  distinct(Cidade) %>%\n",
    "  nrow()\n",
    "cat(\"Número de cidades únicas:\", num_cidades, \"\\n\")\n",
    "\n",
    "# Contar número de UF únicas\n",
    "num_UF <- candidatos_2024 %>%\n",
    "  distinct(UF) %>%\n",
    "  nrow()\n",
    "cat(\"Número de Estados únicos:\", num_UF, \"\\n\")"
   ]
  },
  {
   "cell_type": "code",
   "execution_count": 15,
   "id": "bc58c6ac-0a4a-43f5-a685-b8e90a6ab0dd",
   "metadata": {},
   "outputs": [
    {
     "data": {
      "text/html": [
       "11058"
      ],
      "text/latex": [
       "11058"
      ],
      "text/markdown": [
       "11058"
      ],
      "text/plain": [
       "[1] 11058"
      ]
     },
     "metadata": {},
     "output_type": "display_data"
    }
   ],
   "source": [
    "nrow(candidatos_2024)"
   ]
  },
  {
   "cell_type": "markdown",
   "id": "1ada6d69-96a4-4012-8e17-a15eb92d2401",
   "metadata": {},
   "source": [
    "<span style=\"font-weight:bold; color:yellow; font-size:20px\">  \n",
    "\n",
    "Como temos cargos de 'Vice-prefeito','Vereador' e 'Prefeito',vamos fazer um banco de vereadores e outro de prefeitos pois terão tratamento diferenciado</span>"
   ]
  },
  {
   "cell_type": "markdown",
   "id": "a1769caf-62d7-493a-9cda-df5fe08cc5f7",
   "metadata": {},
   "source": [
    "<span style=\"font-weight:bold; color:yellow; font-size:40px\"> \n",
    "    Vereadores 2024</span>"
   ]
  },
  {
   "cell_type": "code",
   "execution_count": 16,
   "id": "2af468bb-942a-4782-b735-27e083d72bde",
   "metadata": {},
   "outputs": [
    {
     "data": {
      "text/html": [
       "<table class=\"dataframe\">\n",
       "<caption>A data.frame: 5 × 12</caption>\n",
       "<thead>\n",
       "\t<tr><th></th><th scope=col>sq_candidato</th><th scope=col>Nome.Candidato</th><th scope=col>Cidade</th><th scope=col>UF</th><th scope=col>Cargo</th><th scope=col>Partido</th><th scope=col>Resultado_Eleitoral</th><th scope=col>Genero</th><th scope=col>Raca</th><th scope=col>Valor_Receita</th><th scope=col>Votos</th><th scope=col>ano</th></tr>\n",
       "\t<tr><th></th><th scope=col>&lt;dbl&gt;</th><th scope=col>&lt;chr&gt;</th><th scope=col>&lt;chr&gt;</th><th scope=col>&lt;chr&gt;</th><th scope=col>&lt;chr&gt;</th><th scope=col>&lt;chr&gt;</th><th scope=col>&lt;chr&gt;</th><th scope=col>&lt;chr&gt;</th><th scope=col>&lt;chr&gt;</th><th scope=col>&lt;dbl&gt;</th><th scope=col>&lt;int&gt;</th><th scope=col>&lt;int&gt;</th></tr>\n",
       "</thead>\n",
       "<tbody>\n",
       "\t<tr><th scope=row>1</th><td>260001885402</td><td>JOEL ROSA DOS SANTOS     </td><td>Aracaju</td><td>SE</td><td>Vereador</td><td>CIDADANIA</td><td>Não Eleito</td><td>MASC.</td><td>PARDA   </td><td>NA</td><td> 17</td><td>2024</td></tr>\n",
       "\t<tr><th scope=row>2</th><td>260001885406</td><td>PAULO MÁRCIO RAMOS CRUZ  </td><td>Aracaju</td><td>SE</td><td>Vereador</td><td>PSDB     </td><td>Não Eleito</td><td>MASC.</td><td>PARDA   </td><td>NA</td><td>114</td><td>2024</td></tr>\n",
       "\t<tr><th scope=row>3</th><td>260001885410</td><td>ROGÉRIO SOUZA DE CARVALHO</td><td>Aracaju</td><td>SE</td><td>Vereador</td><td>PSDB     </td><td>Não Eleito</td><td>MASC.</td><td>INDÍGENA</td><td>NA</td><td>268</td><td>2024</td></tr>\n",
       "\t<tr><th scope=row>4</th><td>260001885420</td><td>LUCIENE ALMEIDA DE LIMA  </td><td>Aracaju</td><td>SE</td><td>Vereador</td><td>PSDB     </td><td>Não Eleito</td><td>FEM. </td><td>PARDA   </td><td>NA</td><td>297</td><td>2024</td></tr>\n",
       "\t<tr><th scope=row>5</th><td>260001885421</td><td>MARCONE DE SANTANA BOMFIM</td><td>Aracaju</td><td>SE</td><td>Vereador</td><td>PSDB     </td><td>Não Eleito</td><td>MASC.</td><td>BRANCA  </td><td>NA</td><td> 58</td><td>2024</td></tr>\n",
       "</tbody>\n",
       "</table>\n"
      ],
      "text/latex": [
       "A data.frame: 5 × 12\n",
       "\\begin{tabular}{r|llllllllllll}\n",
       "  & sq\\_candidato & Nome.Candidato & Cidade & UF & Cargo & Partido & Resultado\\_Eleitoral & Genero & Raca & Valor\\_Receita & Votos & ano\\\\\n",
       "  & <dbl> & <chr> & <chr> & <chr> & <chr> & <chr> & <chr> & <chr> & <chr> & <dbl> & <int> & <int>\\\\\n",
       "\\hline\n",
       "\t1 & 260001885402 & JOEL ROSA DOS SANTOS      & Aracaju & SE & Vereador & CIDADANIA & Não Eleito & MASC. & PARDA    & NA &  17 & 2024\\\\\n",
       "\t2 & 260001885406 & PAULO MÁRCIO RAMOS CRUZ   & Aracaju & SE & Vereador & PSDB      & Não Eleito & MASC. & PARDA    & NA & 114 & 2024\\\\\n",
       "\t3 & 260001885410 & ROGÉRIO SOUZA DE CARVALHO & Aracaju & SE & Vereador & PSDB      & Não Eleito & MASC. & INDÍGENA & NA & 268 & 2024\\\\\n",
       "\t4 & 260001885420 & LUCIENE ALMEIDA DE LIMA   & Aracaju & SE & Vereador & PSDB      & Não Eleito & FEM.  & PARDA    & NA & 297 & 2024\\\\\n",
       "\t5 & 260001885421 & MARCONE DE SANTANA BOMFIM & Aracaju & SE & Vereador & PSDB      & Não Eleito & MASC. & BRANCA   & NA &  58 & 2024\\\\\n",
       "\\end{tabular}\n"
      ],
      "text/markdown": [
       "\n",
       "A data.frame: 5 × 12\n",
       "\n",
       "| <!--/--> | sq_candidato &lt;dbl&gt; | Nome.Candidato &lt;chr&gt; | Cidade &lt;chr&gt; | UF &lt;chr&gt; | Cargo &lt;chr&gt; | Partido &lt;chr&gt; | Resultado_Eleitoral &lt;chr&gt; | Genero &lt;chr&gt; | Raca &lt;chr&gt; | Valor_Receita &lt;dbl&gt; | Votos &lt;int&gt; | ano &lt;int&gt; |\n",
       "|---|---|---|---|---|---|---|---|---|---|---|---|---|\n",
       "| 1 | 260001885402 | JOEL ROSA DOS SANTOS      | Aracaju | SE | Vereador | CIDADANIA | Não Eleito | MASC. | PARDA    | NA |  17 | 2024 |\n",
       "| 2 | 260001885406 | PAULO MÁRCIO RAMOS CRUZ   | Aracaju | SE | Vereador | PSDB      | Não Eleito | MASC. | PARDA    | NA | 114 | 2024 |\n",
       "| 3 | 260001885410 | ROGÉRIO SOUZA DE CARVALHO | Aracaju | SE | Vereador | PSDB      | Não Eleito | MASC. | INDÍGENA | NA | 268 | 2024 |\n",
       "| 4 | 260001885420 | LUCIENE ALMEIDA DE LIMA   | Aracaju | SE | Vereador | PSDB      | Não Eleito | FEM.  | PARDA    | NA | 297 | 2024 |\n",
       "| 5 | 260001885421 | MARCONE DE SANTANA BOMFIM | Aracaju | SE | Vereador | PSDB      | Não Eleito | MASC. | BRANCA   | NA |  58 | 2024 |\n",
       "\n"
      ],
      "text/plain": [
       "  sq_candidato Nome.Candidato            Cidade  UF Cargo    Partido  \n",
       "1 260001885402 JOEL ROSA DOS SANTOS      Aracaju SE Vereador CIDADANIA\n",
       "2 260001885406 PAULO MÁRCIO RAMOS CRUZ   Aracaju SE Vereador PSDB     \n",
       "3 260001885410 ROGÉRIO SOUZA DE CARVALHO Aracaju SE Vereador PSDB     \n",
       "4 260001885420 LUCIENE ALMEIDA DE LIMA   Aracaju SE Vereador PSDB     \n",
       "5 260001885421 MARCONE DE SANTANA BOMFIM Aracaju SE Vereador PSDB     \n",
       "  Resultado_Eleitoral Genero Raca     Valor_Receita Votos ano \n",
       "1 Não Eleito          MASC.  PARDA    NA             17   2024\n",
       "2 Não Eleito          MASC.  PARDA    NA            114   2024\n",
       "3 Não Eleito          MASC.  INDÍGENA NA            268   2024\n",
       "4 Não Eleito          FEM.   PARDA    NA            297   2024\n",
       "5 Não Eleito          MASC.  BRANCA   NA             58   2024"
      ]
     },
     "metadata": {},
     "output_type": "display_data"
    }
   ],
   "source": [
    "# Selecionando apenas os vereadores \n",
    "vereadores <- subset(candidatos_2024, Cargo == \"Vereador\")\n",
    "head(vereadores,5)"
   ]
  },
  {
   "cell_type": "code",
   "execution_count": 17,
   "id": "353a5104-de4e-497e-a70f-042636fbd5a2",
   "metadata": {},
   "outputs": [
    {
     "data": {
      "text/html": [
       "10758"
      ],
      "text/latex": [
       "10758"
      ],
      "text/markdown": [
       "10758"
      ],
      "text/plain": [
       "[1] 10758"
      ]
     },
     "metadata": {},
     "output_type": "display_data"
    }
   ],
   "source": [
    "nrow(vereadores)"
   ]
  },
  {
   "cell_type": "markdown",
   "id": "a603d5d2-86f1-4406-aa9c-5b7e1f7338b5",
   "metadata": {},
   "source": [
    "<span style=\"font-weight:bold; color:yellow; font-size:40px\"> \n",
    "    Prefeitos e vices 2024</span>"
   ]
  },
  {
   "cell_type": "code",
   "execution_count": 18,
   "id": "3aee65fd-5afa-417c-9411-dc3365d00ff5",
   "metadata": {},
   "outputs": [],
   "source": [
    "# Separar os candidatos a vereador\n",
    "vereadores <- subset(candidatos_2024, Cargo == \"Vereador\")\n",
    "\n",
    "# Separar os candidatos que NÃO são vereadores (inclui prefeitos, vices etc.)\n",
    "prefeitura <- subset(candidatos_2024, Cargo != \"Vereador\")\n",
    "\n",
    "# Exibir os 5 primeiros de cada grupo"
   ]
  },
  {
   "cell_type": "code",
   "execution_count": 19,
   "id": "c9995173-7ddd-4a86-a67f-6bd100bfcdd5",
   "metadata": {},
   "outputs": [
    {
     "data": {
      "text/html": [
       "<table class=\"dataframe\">\n",
       "<caption>A data.frame: 6 × 12</caption>\n",
       "<thead>\n",
       "\t<tr><th></th><th scope=col>sq_candidato</th><th scope=col>Nome.Candidato</th><th scope=col>Cidade</th><th scope=col>UF</th><th scope=col>Cargo</th><th scope=col>Partido</th><th scope=col>Resultado_Eleitoral</th><th scope=col>Genero</th><th scope=col>Raca</th><th scope=col>Valor_Receita</th><th scope=col>Votos</th><th scope=col>ano</th></tr>\n",
       "\t<tr><th></th><th scope=col>&lt;dbl&gt;</th><th scope=col>&lt;chr&gt;</th><th scope=col>&lt;chr&gt;</th><th scope=col>&lt;chr&gt;</th><th scope=col>&lt;chr&gt;</th><th scope=col>&lt;chr&gt;</th><th scope=col>&lt;chr&gt;</th><th scope=col>&lt;chr&gt;</th><th scope=col>&lt;chr&gt;</th><th scope=col>&lt;dbl&gt;</th><th scope=col>&lt;int&gt;</th><th scope=col>&lt;int&gt;</th></tr>\n",
       "</thead>\n",
       "<tbody>\n",
       "\t<tr><th scope=row>8</th><td>260001908298</td><td>BELIVALDO CHAGAS SILVA          </td><td>Aracaju</td><td>SE</td><td>Vice-prefeito</td><td>PODE     </td><td>Não Eleito</td><td>MASC.</td><td>BRANCA</td><td>NA</td><td> 43932</td><td>2024</td></tr>\n",
       "\t<tr><th scope=row>34</th><td>260001926363</td><td>JOSÉ RICARDO MARQUES DOS SANTOS </td><td>Aracaju</td><td>SE</td><td>Vice-prefeito</td><td>CIDADANIA</td><td>Eleito    </td><td>MASC.</td><td>BRANCA</td><td>NA</td><td>165924</td><td>2024</td></tr>\n",
       "\t<tr><th scope=row>62</th><td>260001976733</td><td>AYSLAN JORGE SANTOS DE ARAUJO   </td><td>Aracaju</td><td>SE</td><td>Vice-prefeito</td><td>MDB      </td><td>Não Eleito</td><td>MASC.</td><td>PRETA </td><td>NA</td><td> 16769</td><td>2024</td></tr>\n",
       "\t<tr><th scope=row>64</th><td>260002000359</td><td>ROSANGELA SANTANA SANTOS        </td><td>Aracaju</td><td>SE</td><td>Vice-prefeito</td><td>PT       </td><td>Não Eleito</td><td>FEM. </td><td>PRETA </td><td>NA</td><td> 28049</td><td>2024</td></tr>\n",
       "\t<tr><th scope=row>92</th><td>260002060000</td><td>FABIANO LUIS DE ALMEIDA OLIVEIRA</td><td>Aracaju</td><td>SE</td><td>Vice-prefeito</td><td>PP       </td><td>Não Eleito</td><td>MASC.</td><td>BRANCA</td><td>NA</td><td>122842</td><td>2024</td></tr>\n",
       "\t<tr><th scope=row>143</th><td>260002245400</td><td>ALEXIS MAGNUM AZEVEDO DE JESUS  </td><td>Aracaju</td><td>SE</td><td>Vice-prefeito</td><td>PSOL     </td><td>Não Eleito</td><td>MASC.</td><td>PRETA </td><td>NA</td><td> 14408</td><td>2024</td></tr>\n",
       "</tbody>\n",
       "</table>\n"
      ],
      "text/latex": [
       "A data.frame: 6 × 12\n",
       "\\begin{tabular}{r|llllllllllll}\n",
       "  & sq\\_candidato & Nome.Candidato & Cidade & UF & Cargo & Partido & Resultado\\_Eleitoral & Genero & Raca & Valor\\_Receita & Votos & ano\\\\\n",
       "  & <dbl> & <chr> & <chr> & <chr> & <chr> & <chr> & <chr> & <chr> & <chr> & <dbl> & <int> & <int>\\\\\n",
       "\\hline\n",
       "\t8 & 260001908298 & BELIVALDO CHAGAS SILVA           & Aracaju & SE & Vice-prefeito & PODE      & Não Eleito & MASC. & BRANCA & NA &  43932 & 2024\\\\\n",
       "\t34 & 260001926363 & JOSÉ RICARDO MARQUES DOS SANTOS  & Aracaju & SE & Vice-prefeito & CIDADANIA & Eleito     & MASC. & BRANCA & NA & 165924 & 2024\\\\\n",
       "\t62 & 260001976733 & AYSLAN JORGE SANTOS DE ARAUJO    & Aracaju & SE & Vice-prefeito & MDB       & Não Eleito & MASC. & PRETA  & NA &  16769 & 2024\\\\\n",
       "\t64 & 260002000359 & ROSANGELA SANTANA SANTOS         & Aracaju & SE & Vice-prefeito & PT        & Não Eleito & FEM.  & PRETA  & NA &  28049 & 2024\\\\\n",
       "\t92 & 260002060000 & FABIANO LUIS DE ALMEIDA OLIVEIRA & Aracaju & SE & Vice-prefeito & PP        & Não Eleito & MASC. & BRANCA & NA & 122842 & 2024\\\\\n",
       "\t143 & 260002245400 & ALEXIS MAGNUM AZEVEDO DE JESUS   & Aracaju & SE & Vice-prefeito & PSOL      & Não Eleito & MASC. & PRETA  & NA &  14408 & 2024\\\\\n",
       "\\end{tabular}\n"
      ],
      "text/markdown": [
       "\n",
       "A data.frame: 6 × 12\n",
       "\n",
       "| <!--/--> | sq_candidato &lt;dbl&gt; | Nome.Candidato &lt;chr&gt; | Cidade &lt;chr&gt; | UF &lt;chr&gt; | Cargo &lt;chr&gt; | Partido &lt;chr&gt; | Resultado_Eleitoral &lt;chr&gt; | Genero &lt;chr&gt; | Raca &lt;chr&gt; | Valor_Receita &lt;dbl&gt; | Votos &lt;int&gt; | ano &lt;int&gt; |\n",
       "|---|---|---|---|---|---|---|---|---|---|---|---|---|\n",
       "| 8 | 260001908298 | BELIVALDO CHAGAS SILVA           | Aracaju | SE | Vice-prefeito | PODE      | Não Eleito | MASC. | BRANCA | NA |  43932 | 2024 |\n",
       "| 34 | 260001926363 | JOSÉ RICARDO MARQUES DOS SANTOS  | Aracaju | SE | Vice-prefeito | CIDADANIA | Eleito     | MASC. | BRANCA | NA | 165924 | 2024 |\n",
       "| 62 | 260001976733 | AYSLAN JORGE SANTOS DE ARAUJO    | Aracaju | SE | Vice-prefeito | MDB       | Não Eleito | MASC. | PRETA  | NA |  16769 | 2024 |\n",
       "| 64 | 260002000359 | ROSANGELA SANTANA SANTOS         | Aracaju | SE | Vice-prefeito | PT        | Não Eleito | FEM.  | PRETA  | NA |  28049 | 2024 |\n",
       "| 92 | 260002060000 | FABIANO LUIS DE ALMEIDA OLIVEIRA | Aracaju | SE | Vice-prefeito | PP        | Não Eleito | MASC. | BRANCA | NA | 122842 | 2024 |\n",
       "| 143 | 260002245400 | ALEXIS MAGNUM AZEVEDO DE JESUS   | Aracaju | SE | Vice-prefeito | PSOL      | Não Eleito | MASC. | PRETA  | NA |  14408 | 2024 |\n",
       "\n"
      ],
      "text/plain": [
       "    sq_candidato Nome.Candidato                   Cidade  UF Cargo        \n",
       "8   260001908298 BELIVALDO CHAGAS SILVA           Aracaju SE Vice-prefeito\n",
       "34  260001926363 JOSÉ RICARDO MARQUES DOS SANTOS  Aracaju SE Vice-prefeito\n",
       "62  260001976733 AYSLAN JORGE SANTOS DE ARAUJO    Aracaju SE Vice-prefeito\n",
       "64  260002000359 ROSANGELA SANTANA SANTOS         Aracaju SE Vice-prefeito\n",
       "92  260002060000 FABIANO LUIS DE ALMEIDA OLIVEIRA Aracaju SE Vice-prefeito\n",
       "143 260002245400 ALEXIS MAGNUM AZEVEDO DE JESUS   Aracaju SE Vice-prefeito\n",
       "    Partido   Resultado_Eleitoral Genero Raca   Valor_Receita Votos  ano \n",
       "8   PODE      Não Eleito          MASC.  BRANCA NA             43932 2024\n",
       "34  CIDADANIA Eleito              MASC.  BRANCA NA            165924 2024\n",
       "62  MDB       Não Eleito          MASC.  PRETA  NA             16769 2024\n",
       "64  PT        Não Eleito          FEM.   PRETA  NA             28049 2024\n",
       "92  PP        Não Eleito          MASC.  BRANCA NA            122842 2024\n",
       "143 PSOL      Não Eleito          MASC.  PRETA  NA             14408 2024"
      ]
     },
     "metadata": {},
     "output_type": "display_data"
    }
   ],
   "source": [
    "head(prefeitura)"
   ]
  },
  {
   "cell_type": "code",
   "execution_count": 20,
   "id": "d2c28574-c6b9-45b9-bd38-76a39956187c",
   "metadata": {},
   "outputs": [
    {
     "data": {
      "text/html": [
       "300"
      ],
      "text/latex": [
       "300"
      ],
      "text/markdown": [
       "300"
      ],
      "text/plain": [
       "[1] 300"
      ]
     },
     "metadata": {},
     "output_type": "display_data"
    }
   ],
   "source": [
    "nrow(prefeitura)"
   ]
  },
  {
   "cell_type": "code",
   "execution_count": 21,
   "id": "6952d4bc-87b4-4179-ac5a-521ec187c24b",
   "metadata": {},
   "outputs": [
    {
     "data": {
      "text/html": [
       "11058"
      ],
      "text/latex": [
       "11058"
      ],
      "text/markdown": [
       "11058"
      ],
      "text/plain": [
       "[1] 11058"
      ]
     },
     "metadata": {},
     "output_type": "display_data"
    }
   ],
   "source": [
    "10758 + 300"
   ]
  },
  {
   "cell_type": "markdown",
   "id": "fe71bf41-9721-4e45-a8b9-9b96db8a98b0",
   "metadata": {},
   "source": [
    "<span style=\"font-weight:bold; color:yellow; font-size:20px\"> Exportando os arquivos dos subset vereadores_2020 e prefeituras_2020 </span>"
   ]
  },
  {
   "cell_type": "code",
   "execution_count": 22,
   "id": "31853439-2992-40b4-b56b-e6b2a943f582",
   "metadata": {},
   "outputs": [],
   "source": [
    "#write.csv(vereadores, \"../data/vereadores_2024.csv\", row.names = FALSE)"
   ]
  },
  {
   "cell_type": "code",
   "execution_count": 23,
   "id": "da7f2a14-c071-49e3-95e0-996efb79ab4e",
   "metadata": {},
   "outputs": [],
   "source": [
    "#write.csv(prefeitura, \"../data/prefeitura_2024.csv\", row.names = FALSE)"
   ]
  }
 ],
 "metadata": {
  "kernelspec": {
   "display_name": "R",
   "language": "R",
   "name": "ir"
  },
  "language_info": {
   "codemirror_mode": "r",
   "file_extension": ".r",
   "mimetype": "text/x-r-source",
   "name": "R",
   "pygments_lexer": "r",
   "version": "4.5.0"
  }
 },
 "nbformat": 4,
 "nbformat_minor": 5
}
