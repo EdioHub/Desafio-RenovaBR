{
 "cells": [
  {
   "cell_type": "code",
   "execution_count": 1,
   "metadata": {
    "scrolled": true
   },
   "outputs": [
    {
     "name": "stderr",
     "output_type": "stream",
     "text": [
      "Instalando pacote em ‘/home/edio/R/x86_64-pc-linux-gnu-library/4.5’\n",
      "(como ‘lib’ não foi especificado)\n",
      "\n",
      "\n",
      "Anexando pacote: ‘dplyr’\n",
      "\n",
      "\n",
      "Os seguintes objetos são mascarados por ‘package:stats’:\n",
      "\n",
      "    filter, lag\n",
      "\n",
      "\n",
      "Os seguintes objetos são mascarados por ‘package:base’:\n",
      "\n",
      "    intersect, setdiff, setequal, union\n",
      "\n",
      "\n",
      "Instalando pacote em ‘/home/edio/R/x86_64-pc-linux-gnu-library/4.5’\n",
      "(como ‘lib’ não foi especificado)\n",
      "\n",
      "Instalando pacote em ‘/home/edio/R/x86_64-pc-linux-gnu-library/4.5’\n",
      "(como ‘lib’ não foi especificado)\n",
      "\n"
     ]
    }
   ],
   "source": [
    "install.packages(\"dplyr\")\n",
    "library(dplyr)\n",
    "library(ggplot2)\n",
    "install.packages(\"e1071\")\n",
    "library(e1071)  # Para calcular a assimetria\n",
    "install.packages(\"tidyr\")  # só precisa uma vez\n",
    "library(tidyr)"
   ]
  },
  {
   "cell_type": "code",
   "execution_count": 2,
   "metadata": {},
   "outputs": [],
   "source": [
    "candidatos<-read.csv('../data/prefeitos.csv')"
   ]
  },
  {
   "cell_type": "markdown",
   "metadata": {},
   "source": [
    "<span style=\"font-weight:bold; color:yellow; font-size:20px\">\n",
    "Abertura do dataset </span>"
   ]
  },
  {
   "cell_type": "code",
   "execution_count": 3,
   "metadata": {
    "scrolled": true
   },
   "outputs": [
    {
     "data": {
      "text/html": [
       "<table class=\"dataframe\">\n",
       "<caption>A data.frame: 6 × 12</caption>\n",
       "<thead>\n",
       "\t<tr><th></th><th scope=col>sq_candidato</th><th scope=col>Nome.Candidato</th><th scope=col>Cidade</th><th scope=col>UF</th><th scope=col>Cargo</th><th scope=col>Partido</th><th scope=col>Resultado_Eleitoral</th><th scope=col>Genero</th><th scope=col>Raca</th><th scope=col>Valor_Receita</th><th scope=col>Votos</th><th scope=col>ano</th></tr>\n",
       "\t<tr><th></th><th scope=col>&lt;dbl&gt;</th><th scope=col>&lt;chr&gt;</th><th scope=col>&lt;chr&gt;</th><th scope=col>&lt;chr&gt;</th><th scope=col>&lt;chr&gt;</th><th scope=col>&lt;chr&gt;</th><th scope=col>&lt;chr&gt;</th><th scope=col>&lt;chr&gt;</th><th scope=col>&lt;chr&gt;</th><th scope=col>&lt;dbl&gt;</th><th scope=col>&lt;int&gt;</th><th scope=col>&lt;int&gt;</th></tr>\n",
       "</thead>\n",
       "<tbody>\n",
       "\t<tr><th scope=row>1</th><td>260000637329</td><td>Antonio Carlos Valadares Filho   </td><td>Aracaju</td><td>SE</td><td>Vice-prefeito</td><td>PSB          </td><td>2º Turno  </td><td>MASC.</td><td>BRANCA</td><td>NA</td><td>0</td><td>2020</td></tr>\n",
       "\t<tr><th scope=row>2</th><td>260000637329</td><td>Antonio Carlos Valadares Filho   </td><td>Aracaju</td><td>SE</td><td>Vice-prefeito</td><td>PSB          </td><td>Não Eleito</td><td>MASC.</td><td>BRANCA</td><td>NA</td><td>0</td><td>2020</td></tr>\n",
       "\t<tr><th scope=row>3</th><td>260000743433</td><td>Alda Rejane Arruda Da Silva      </td><td>Aracaju</td><td>SE</td><td>Vice-prefeito</td><td>PMB          </td><td>Não Eleito</td><td>FEM. </td><td>PARDA </td><td>NA</td><td>0</td><td>2020</td></tr>\n",
       "\t<tr><th scope=row>4</th><td>260000793304</td><td>Manoel Santos Dos Anjos          </td><td>Aracaju</td><td>SE</td><td>Vereador     </td><td>SOLIDARIEDADE</td><td>Não Eleito</td><td>MASC.</td><td>PARDA </td><td>NA</td><td>0</td><td>2020</td></tr>\n",
       "\t<tr><th scope=row>5</th><td>260000835178</td><td>José Péricles Menezes De Oliveira</td><td>Aracaju</td><td>SE</td><td>Vice-prefeito</td><td>DEM          </td><td>Não Eleito</td><td>MASC.</td><td>PARDA </td><td>NA</td><td>0</td><td>2020</td></tr>\n",
       "\t<tr><th scope=row>6</th><td>260000857749</td><td>Davi Lima Valente Calazans       </td><td>Aracaju</td><td>SE</td><td>Vice-prefeito</td><td>AVANTE       </td><td>Não Eleito</td><td>MASC.</td><td>PRETA </td><td>NA</td><td>0</td><td>2020</td></tr>\n",
       "</tbody>\n",
       "</table>\n"
      ],
      "text/latex": [
       "A data.frame: 6 × 12\n",
       "\\begin{tabular}{r|llllllllllll}\n",
       "  & sq\\_candidato & Nome.Candidato & Cidade & UF & Cargo & Partido & Resultado\\_Eleitoral & Genero & Raca & Valor\\_Receita & Votos & ano\\\\\n",
       "  & <dbl> & <chr> & <chr> & <chr> & <chr> & <chr> & <chr> & <chr> & <chr> & <dbl> & <int> & <int>\\\\\n",
       "\\hline\n",
       "\t1 & 260000637329 & Antonio Carlos Valadares Filho    & Aracaju & SE & Vice-prefeito & PSB           & 2º Turno   & MASC. & BRANCA & NA & 0 & 2020\\\\\n",
       "\t2 & 260000637329 & Antonio Carlos Valadares Filho    & Aracaju & SE & Vice-prefeito & PSB           & Não Eleito & MASC. & BRANCA & NA & 0 & 2020\\\\\n",
       "\t3 & 260000743433 & Alda Rejane Arruda Da Silva       & Aracaju & SE & Vice-prefeito & PMB           & Não Eleito & FEM.  & PARDA  & NA & 0 & 2020\\\\\n",
       "\t4 & 260000793304 & Manoel Santos Dos Anjos           & Aracaju & SE & Vereador      & SOLIDARIEDADE & Não Eleito & MASC. & PARDA  & NA & 0 & 2020\\\\\n",
       "\t5 & 260000835178 & José Péricles Menezes De Oliveira & Aracaju & SE & Vice-prefeito & DEM           & Não Eleito & MASC. & PARDA  & NA & 0 & 2020\\\\\n",
       "\t6 & 260000857749 & Davi Lima Valente Calazans        & Aracaju & SE & Vice-prefeito & AVANTE        & Não Eleito & MASC. & PRETA  & NA & 0 & 2020\\\\\n",
       "\\end{tabular}\n"
      ],
      "text/markdown": [
       "\n",
       "A data.frame: 6 × 12\n",
       "\n",
       "| <!--/--> | sq_candidato &lt;dbl&gt; | Nome.Candidato &lt;chr&gt; | Cidade &lt;chr&gt; | UF &lt;chr&gt; | Cargo &lt;chr&gt; | Partido &lt;chr&gt; | Resultado_Eleitoral &lt;chr&gt; | Genero &lt;chr&gt; | Raca &lt;chr&gt; | Valor_Receita &lt;dbl&gt; | Votos &lt;int&gt; | ano &lt;int&gt; |\n",
       "|---|---|---|---|---|---|---|---|---|---|---|---|---|\n",
       "| 1 | 260000637329 | Antonio Carlos Valadares Filho    | Aracaju | SE | Vice-prefeito | PSB           | 2º Turno   | MASC. | BRANCA | NA | 0 | 2020 |\n",
       "| 2 | 260000637329 | Antonio Carlos Valadares Filho    | Aracaju | SE | Vice-prefeito | PSB           | Não Eleito | MASC. | BRANCA | NA | 0 | 2020 |\n",
       "| 3 | 260000743433 | Alda Rejane Arruda Da Silva       | Aracaju | SE | Vice-prefeito | PMB           | Não Eleito | FEM.  | PARDA  | NA | 0 | 2020 |\n",
       "| 4 | 260000793304 | Manoel Santos Dos Anjos           | Aracaju | SE | Vereador      | SOLIDARIEDADE | Não Eleito | MASC. | PARDA  | NA | 0 | 2020 |\n",
       "| 5 | 260000835178 | José Péricles Menezes De Oliveira | Aracaju | SE | Vice-prefeito | DEM           | Não Eleito | MASC. | PARDA  | NA | 0 | 2020 |\n",
       "| 6 | 260000857749 | Davi Lima Valente Calazans        | Aracaju | SE | Vice-prefeito | AVANTE        | Não Eleito | MASC. | PRETA  | NA | 0 | 2020 |\n",
       "\n"
      ],
      "text/plain": [
       "  sq_candidato Nome.Candidato                    Cidade  UF Cargo        \n",
       "1 260000637329 Antonio Carlos Valadares Filho    Aracaju SE Vice-prefeito\n",
       "2 260000637329 Antonio Carlos Valadares Filho    Aracaju SE Vice-prefeito\n",
       "3 260000743433 Alda Rejane Arruda Da Silva       Aracaju SE Vice-prefeito\n",
       "4 260000793304 Manoel Santos Dos Anjos           Aracaju SE Vereador     \n",
       "5 260000835178 José Péricles Menezes De Oliveira Aracaju SE Vice-prefeito\n",
       "6 260000857749 Davi Lima Valente Calazans        Aracaju SE Vice-prefeito\n",
       "  Partido       Resultado_Eleitoral Genero Raca   Valor_Receita Votos ano \n",
       "1 PSB           2º Turno            MASC.  BRANCA NA            0     2020\n",
       "2 PSB           Não Eleito          MASC.  BRANCA NA            0     2020\n",
       "3 PMB           Não Eleito          FEM.   PARDA  NA            0     2020\n",
       "4 SOLIDARIEDADE Não Eleito          MASC.  PARDA  NA            0     2020\n",
       "5 DEM           Não Eleito          MASC.  PARDA  NA            0     2020\n",
       "6 AVANTE        Não Eleito          MASC.  PRETA  NA            0     2020"
      ]
     },
     "metadata": {},
     "output_type": "display_data"
    }
   ],
   "source": [
    "head(candidatos,6)"
   ]
  },
  {
   "cell_type": "code",
   "execution_count": 7,
   "metadata": {
    "scrolled": true
   },
   "outputs": [
    {
     "name": "stdout",
     "output_type": "stream",
     "text": [
      "'data.frame':\t30000 obs. of  12 variables:\n",
      " $ sq_candidato       : num  2.6e+11 2.6e+11 2.6e+11 2.6e+11 2.6e+11 ...\n",
      " $ Nome.Candidato     : chr  \"Antonio Carlos Valadares Filho\" \"Antonio Carlos Valadares Filho\" \"Alda Rejane Arruda Da Silva\" \"Manoel Santos Dos Anjos\" ...\n",
      " $ Cidade             : chr  \"Aracaju\" \"Aracaju\" \"Aracaju\" \"Aracaju\" ...\n",
      " $ UF                 : chr  \"SE\" \"SE\" \"SE\" \"SE\" ...\n",
      " $ Cargo              : chr  \"Vice-prefeito\" \"Vice-prefeito\" \"Vice-prefeito\" \"Vereador\" ...\n",
      " $ Partido            : chr  \"PSB\" \"PSB\" \"PMB\" \"SOLIDARIEDADE\" ...\n",
      " $ Resultado_Eleitoral: chr  \"2º Turno\" \"Não Eleito\" \"Não Eleito\" \"Não Eleito\" ...\n",
      " $ Genero             : chr  \"MASC.\" \"MASC.\" \"FEM.\" \"MASC.\" ...\n",
      " $ Raca               : chr  \"BRANCA\" \"BRANCA\" \"PARDA\" \"PARDA\" ...\n",
      " $ Valor_Receita      : num  NA NA NA NA NA NA NA NA NA NA ...\n",
      " $ Votos              : int  0 0 0 0 0 0 0 0 0 0 ...\n",
      " $ ano                : int  2020 2020 2020 2020 2020 2020 2020 2020 2020 2020 ...\n"
     ]
    }
   ],
   "source": [
    "str(candidatos)\n",
    "#tipos de dados"
   ]
  },
  {
   "cell_type": "code",
   "execution_count": 8,
   "metadata": {},
   "outputs": [
    {
     "data": {
      "text/plain": [
       "  sq_candidato       Nome.Candidato        Cidade               UF           \n",
       " Min.   :1.000e+10   Length:30000       Length:30000       Length:30000      \n",
       " 1st Qu.:9.000e+10   Class :character   Class :character   Class :character  \n",
       " Median :1.400e+11   Mode  :character   Mode  :character   Mode  :character  \n",
       " Mean   :1.396e+11                                                           \n",
       " 3rd Qu.:2.000e+11                                                           \n",
       " Max.   :2.700e+11                                                           \n",
       "                                                                             \n",
       "    Cargo             Partido          Resultado_Eleitoral    Genero         \n",
       " Length:30000       Length:30000       Length:30000        Length:30000      \n",
       " Class :character   Class :character   Class :character    Class :character  \n",
       " Mode  :character   Mode  :character   Mode  :character    Mode  :character  \n",
       "                                                                             \n",
       "                                                                             \n",
       "                                                                             \n",
       "                                                                             \n",
       "     Raca           Valor_Receita          Votos              ano      \n",
       " Length:30000       Min.   :       0   Min.   :      0   Min.   :2020  \n",
       " Class :character   1st Qu.:    2794   1st Qu.:     73   1st Qu.:2020  \n",
       " Mode  :character   Median :    8845   Median :    216   Median :2020  \n",
       "                    Mean   :   59273   Mean   :   2705   Mean   :2021  \n",
       "                    3rd Qu.:   25652   3rd Qu.:    660   3rd Qu.:2024  \n",
       "                    Max.   :21026537   Max.   :1861856   Max.   :2024  \n",
       "                    NA's   :3222       NA's   :439                     "
      ]
     },
     "metadata": {},
     "output_type": "display_data"
    }
   ],
   "source": [
    "summary(candidatos)\n",
    "#RESUMO"
   ]
  },
  {
   "cell_type": "code",
   "execution_count": 9,
   "metadata": {},
   "outputs": [
    {
     "data": {
      "text/html": [
       "21"
      ],
      "text/latex": [
       "21"
      ],
      "text/markdown": [
       "21"
      ],
      "text/plain": [
       "[1] 21"
      ]
     },
     "metadata": {},
     "output_type": "display_data"
    }
   ],
   "source": [
    "length(unique(candidatos$UF))"
   ]
  },
  {
   "cell_type": "markdown",
   "metadata": {},
   "source": [
    "<span style=\"font-weight:bold; color:yellow; font-size:15px\">Apesar da informação que temos 26 capitais, na verdade temos um dataset com 21 cidades</span>"
   ]
  },
  {
   "cell_type": "markdown",
   "metadata": {},
   "source": [
    "<span style=\"font-weight:bold; color:yellow; font-size:15px\">\n",
    "Como estamos lidando com anos eleitorais distintos, é importante tratar separadamente cada processo eleitoral. Isso nos ajudará a evitar nomes duplicados e inconsistências nas variáveis entre os anos. Assim, vamos organizar os dados em dois grupos: um com os anos de 2020 e 2021 — considerando que a eleição de 2021 seja uma extensão da de 2020, adiada por algum motivo — e outro com o ano de 2024.\n",
    "</span>\n",
    "\n"
   ]
  },
  {
   "cell_type": "code",
   "execution_count": 10,
   "metadata": {},
   "outputs": [],
   "source": [
    "candidatos_2020<- subset(candidatos, ano %in% c(2020, 2021))\n",
    "candidatos_2024 <- subset(candidatos, ano == 2024)"
   ]
  },
  {
   "cell_type": "code",
   "execution_count": 11,
   "metadata": {},
   "outputs": [
    {
     "data": {
      "text/html": [
       "<style>\n",
       ".list-inline {list-style: none; margin:0; padding: 0}\n",
       ".list-inline>li {display: inline-block}\n",
       ".list-inline>li:not(:last-child)::after {content: \"\\00b7\"; padding: 0 .5ex}\n",
       "</style>\n",
       "<ol class=list-inline><li>'Não Eleito'</li><li>'Suplente'</li><li>''</li><li>'Eleito por Média'</li><li>'Eleito'</li><li>'Eleito por QP'</li><li>'2º Turno'</li></ol>\n"
      ],
      "text/latex": [
       "\\begin{enumerate*}\n",
       "\\item 'Não Eleito'\n",
       "\\item 'Suplente'\n",
       "\\item ''\n",
       "\\item 'Eleito por Média'\n",
       "\\item 'Eleito'\n",
       "\\item 'Eleito por QP'\n",
       "\\item '2º Turno'\n",
       "\\end{enumerate*}\n"
      ],
      "text/markdown": [
       "1. 'Não Eleito'\n",
       "2. 'Suplente'\n",
       "3. ''\n",
       "4. 'Eleito por Média'\n",
       "5. 'Eleito'\n",
       "6. 'Eleito por QP'\n",
       "7. '2º Turno'\n",
       "\n",
       "\n"
      ],
      "text/plain": [
       "[1] \"Não Eleito\"       \"Suplente\"         \"\"                 \"Eleito por Média\"\n",
       "[5] \"Eleito\"           \"Eleito por QP\"    \"2º Turno\"        "
      ]
     },
     "metadata": {},
     "output_type": "display_data"
    }
   ],
   "source": [
    "unique(candidatos_2024$Resultado_Eleitoral)"
   ]
  },
  {
   "cell_type": "code",
   "execution_count": 12,
   "metadata": {},
   "outputs": [
    {
     "data": {
      "text/html": [
       "<table class=\"dataframe\">\n",
       "<caption>A data.frame: 6 × 12</caption>\n",
       "<thead>\n",
       "\t<tr><th></th><th scope=col>sq_candidato</th><th scope=col>Nome.Candidato</th><th scope=col>Cidade</th><th scope=col>UF</th><th scope=col>Cargo</th><th scope=col>Partido</th><th scope=col>Resultado_Eleitoral</th><th scope=col>Genero</th><th scope=col>Raca</th><th scope=col>Valor_Receita</th><th scope=col>Votos</th><th scope=col>ano</th></tr>\n",
       "\t<tr><th></th><th scope=col>&lt;dbl&gt;</th><th scope=col>&lt;chr&gt;</th><th scope=col>&lt;chr&gt;</th><th scope=col>&lt;chr&gt;</th><th scope=col>&lt;chr&gt;</th><th scope=col>&lt;chr&gt;</th><th scope=col>&lt;chr&gt;</th><th scope=col>&lt;chr&gt;</th><th scope=col>&lt;chr&gt;</th><th scope=col>&lt;dbl&gt;</th><th scope=col>&lt;int&gt;</th><th scope=col>&lt;int&gt;</th></tr>\n",
       "</thead>\n",
       "<tbody>\n",
       "\t<tr><th scope=row>1</th><td>260000637329</td><td>Antonio Carlos Valadares Filho   </td><td>Aracaju</td><td>SE</td><td>Vice-prefeito</td><td>PSB          </td><td>2º Turno  </td><td>MASC.</td><td>BRANCA</td><td>NA</td><td>0</td><td>2020</td></tr>\n",
       "\t<tr><th scope=row>2</th><td>260000637329</td><td>Antonio Carlos Valadares Filho   </td><td>Aracaju</td><td>SE</td><td>Vice-prefeito</td><td>PSB          </td><td>Não Eleito</td><td>MASC.</td><td>BRANCA</td><td>NA</td><td>0</td><td>2020</td></tr>\n",
       "\t<tr><th scope=row>3</th><td>260000743433</td><td>Alda Rejane Arruda Da Silva      </td><td>Aracaju</td><td>SE</td><td>Vice-prefeito</td><td>PMB          </td><td>Não Eleito</td><td>FEM. </td><td>PARDA </td><td>NA</td><td>0</td><td>2020</td></tr>\n",
       "\t<tr><th scope=row>4</th><td>260000793304</td><td>Manoel Santos Dos Anjos          </td><td>Aracaju</td><td>SE</td><td>Vereador     </td><td>SOLIDARIEDADE</td><td>Não Eleito</td><td>MASC.</td><td>PARDA </td><td>NA</td><td>0</td><td>2020</td></tr>\n",
       "\t<tr><th scope=row>5</th><td>260000835178</td><td>José Péricles Menezes De Oliveira</td><td>Aracaju</td><td>SE</td><td>Vice-prefeito</td><td>DEM          </td><td>Não Eleito</td><td>MASC.</td><td>PARDA </td><td>NA</td><td>0</td><td>2020</td></tr>\n",
       "\t<tr><th scope=row>6</th><td>260000857749</td><td>Davi Lima Valente Calazans       </td><td>Aracaju</td><td>SE</td><td>Vice-prefeito</td><td>AVANTE       </td><td>Não Eleito</td><td>MASC.</td><td>PRETA </td><td>NA</td><td>0</td><td>2020</td></tr>\n",
       "</tbody>\n",
       "</table>\n"
      ],
      "text/latex": [
       "A data.frame: 6 × 12\n",
       "\\begin{tabular}{r|llllllllllll}\n",
       "  & sq\\_candidato & Nome.Candidato & Cidade & UF & Cargo & Partido & Resultado\\_Eleitoral & Genero & Raca & Valor\\_Receita & Votos & ano\\\\\n",
       "  & <dbl> & <chr> & <chr> & <chr> & <chr> & <chr> & <chr> & <chr> & <chr> & <dbl> & <int> & <int>\\\\\n",
       "\\hline\n",
       "\t1 & 260000637329 & Antonio Carlos Valadares Filho    & Aracaju & SE & Vice-prefeito & PSB           & 2º Turno   & MASC. & BRANCA & NA & 0 & 2020\\\\\n",
       "\t2 & 260000637329 & Antonio Carlos Valadares Filho    & Aracaju & SE & Vice-prefeito & PSB           & Não Eleito & MASC. & BRANCA & NA & 0 & 2020\\\\\n",
       "\t3 & 260000743433 & Alda Rejane Arruda Da Silva       & Aracaju & SE & Vice-prefeito & PMB           & Não Eleito & FEM.  & PARDA  & NA & 0 & 2020\\\\\n",
       "\t4 & 260000793304 & Manoel Santos Dos Anjos           & Aracaju & SE & Vereador      & SOLIDARIEDADE & Não Eleito & MASC. & PARDA  & NA & 0 & 2020\\\\\n",
       "\t5 & 260000835178 & José Péricles Menezes De Oliveira & Aracaju & SE & Vice-prefeito & DEM           & Não Eleito & MASC. & PARDA  & NA & 0 & 2020\\\\\n",
       "\t6 & 260000857749 & Davi Lima Valente Calazans        & Aracaju & SE & Vice-prefeito & AVANTE        & Não Eleito & MASC. & PRETA  & NA & 0 & 2020\\\\\n",
       "\\end{tabular}\n"
      ],
      "text/markdown": [
       "\n",
       "A data.frame: 6 × 12\n",
       "\n",
       "| <!--/--> | sq_candidato &lt;dbl&gt; | Nome.Candidato &lt;chr&gt; | Cidade &lt;chr&gt; | UF &lt;chr&gt; | Cargo &lt;chr&gt; | Partido &lt;chr&gt; | Resultado_Eleitoral &lt;chr&gt; | Genero &lt;chr&gt; | Raca &lt;chr&gt; | Valor_Receita &lt;dbl&gt; | Votos &lt;int&gt; | ano &lt;int&gt; |\n",
       "|---|---|---|---|---|---|---|---|---|---|---|---|---|\n",
       "| 1 | 260000637329 | Antonio Carlos Valadares Filho    | Aracaju | SE | Vice-prefeito | PSB           | 2º Turno   | MASC. | BRANCA | NA | 0 | 2020 |\n",
       "| 2 | 260000637329 | Antonio Carlos Valadares Filho    | Aracaju | SE | Vice-prefeito | PSB           | Não Eleito | MASC. | BRANCA | NA | 0 | 2020 |\n",
       "| 3 | 260000743433 | Alda Rejane Arruda Da Silva       | Aracaju | SE | Vice-prefeito | PMB           | Não Eleito | FEM.  | PARDA  | NA | 0 | 2020 |\n",
       "| 4 | 260000793304 | Manoel Santos Dos Anjos           | Aracaju | SE | Vereador      | SOLIDARIEDADE | Não Eleito | MASC. | PARDA  | NA | 0 | 2020 |\n",
       "| 5 | 260000835178 | José Péricles Menezes De Oliveira | Aracaju | SE | Vice-prefeito | DEM           | Não Eleito | MASC. | PARDA  | NA | 0 | 2020 |\n",
       "| 6 | 260000857749 | Davi Lima Valente Calazans        | Aracaju | SE | Vice-prefeito | AVANTE        | Não Eleito | MASC. | PRETA  | NA | 0 | 2020 |\n",
       "\n"
      ],
      "text/plain": [
       "  sq_candidato Nome.Candidato                    Cidade  UF Cargo        \n",
       "1 260000637329 Antonio Carlos Valadares Filho    Aracaju SE Vice-prefeito\n",
       "2 260000637329 Antonio Carlos Valadares Filho    Aracaju SE Vice-prefeito\n",
       "3 260000743433 Alda Rejane Arruda Da Silva       Aracaju SE Vice-prefeito\n",
       "4 260000793304 Manoel Santos Dos Anjos           Aracaju SE Vereador     \n",
       "5 260000835178 José Péricles Menezes De Oliveira Aracaju SE Vice-prefeito\n",
       "6 260000857749 Davi Lima Valente Calazans        Aracaju SE Vice-prefeito\n",
       "  Partido       Resultado_Eleitoral Genero Raca   Valor_Receita Votos ano \n",
       "1 PSB           2º Turno            MASC.  BRANCA NA            0     2020\n",
       "2 PSB           Não Eleito          MASC.  BRANCA NA            0     2020\n",
       "3 PMB           Não Eleito          FEM.   PARDA  NA            0     2020\n",
       "4 SOLIDARIEDADE Não Eleito          MASC.  PARDA  NA            0     2020\n",
       "5 DEM           Não Eleito          MASC.  PARDA  NA            0     2020\n",
       "6 AVANTE        Não Eleito          MASC.  PRETA  NA            0     2020"
      ]
     },
     "metadata": {},
     "output_type": "display_data"
    }
   ],
   "source": [
    "head(candidatos_2020)"
   ]
  },
  {
   "cell_type": "code",
   "execution_count": 13,
   "metadata": {},
   "outputs": [
    {
     "data": {
      "text/html": [
       "<table class=\"dataframe\">\n",
       "<caption>A data.frame: 6 × 12</caption>\n",
       "<thead>\n",
       "\t<tr><th></th><th scope=col>sq_candidato</th><th scope=col>Nome.Candidato</th><th scope=col>Cidade</th><th scope=col>UF</th><th scope=col>Cargo</th><th scope=col>Partido</th><th scope=col>Resultado_Eleitoral</th><th scope=col>Genero</th><th scope=col>Raca</th><th scope=col>Valor_Receita</th><th scope=col>Votos</th><th scope=col>ano</th></tr>\n",
       "\t<tr><th></th><th scope=col>&lt;dbl&gt;</th><th scope=col>&lt;chr&gt;</th><th scope=col>&lt;chr&gt;</th><th scope=col>&lt;chr&gt;</th><th scope=col>&lt;chr&gt;</th><th scope=col>&lt;chr&gt;</th><th scope=col>&lt;chr&gt;</th><th scope=col>&lt;chr&gt;</th><th scope=col>&lt;chr&gt;</th><th scope=col>&lt;dbl&gt;</th><th scope=col>&lt;int&gt;</th><th scope=col>&lt;int&gt;</th></tr>\n",
       "</thead>\n",
       "<tbody>\n",
       "\t<tr><th scope=row>18</th><td>260001885402</td><td>JOEL ROSA DOS SANTOS     </td><td>Aracaju</td><td>SE</td><td>Vereador</td><td>CIDADANIA</td><td>Não Eleito</td><td>MASC.</td><td>PARDA   </td><td>NA</td><td> 17</td><td>2024</td></tr>\n",
       "\t<tr><th scope=row>19</th><td>260001885406</td><td>PAULO MÁRCIO RAMOS CRUZ  </td><td>Aracaju</td><td>SE</td><td>Vereador</td><td>PSDB     </td><td>Não Eleito</td><td>MASC.</td><td>PARDA   </td><td>NA</td><td>114</td><td>2024</td></tr>\n",
       "\t<tr><th scope=row>20</th><td>260001885410</td><td>ROGÉRIO SOUZA DE CARVALHO</td><td>Aracaju</td><td>SE</td><td>Vereador</td><td>PSDB     </td><td>Não Eleito</td><td>MASC.</td><td>INDÍGENA</td><td>NA</td><td>268</td><td>2024</td></tr>\n",
       "\t<tr><th scope=row>21</th><td>260001885420</td><td>LUCIENE ALMEIDA DE LIMA  </td><td>Aracaju</td><td>SE</td><td>Vereador</td><td>PSDB     </td><td>Não Eleito</td><td>FEM. </td><td>PARDA   </td><td>NA</td><td>297</td><td>2024</td></tr>\n",
       "\t<tr><th scope=row>22</th><td>260001885421</td><td>MARCONE DE SANTANA BOMFIM</td><td>Aracaju</td><td>SE</td><td>Vereador</td><td>PSDB     </td><td>Não Eleito</td><td>MASC.</td><td>BRANCA  </td><td>NA</td><td> 58</td><td>2024</td></tr>\n",
       "\t<tr><th scope=row>23</th><td>260001885423</td><td>FERNANDA ALMEIDA FARINE  </td><td>Aracaju</td><td>SE</td><td>Vereador</td><td>PSDB     </td><td>Não Eleito</td><td>FEM. </td><td>BRANCA  </td><td>NA</td><td>441</td><td>2024</td></tr>\n",
       "</tbody>\n",
       "</table>\n"
      ],
      "text/latex": [
       "A data.frame: 6 × 12\n",
       "\\begin{tabular}{r|llllllllllll}\n",
       "  & sq\\_candidato & Nome.Candidato & Cidade & UF & Cargo & Partido & Resultado\\_Eleitoral & Genero & Raca & Valor\\_Receita & Votos & ano\\\\\n",
       "  & <dbl> & <chr> & <chr> & <chr> & <chr> & <chr> & <chr> & <chr> & <chr> & <dbl> & <int> & <int>\\\\\n",
       "\\hline\n",
       "\t18 & 260001885402 & JOEL ROSA DOS SANTOS      & Aracaju & SE & Vereador & CIDADANIA & Não Eleito & MASC. & PARDA    & NA &  17 & 2024\\\\\n",
       "\t19 & 260001885406 & PAULO MÁRCIO RAMOS CRUZ   & Aracaju & SE & Vereador & PSDB      & Não Eleito & MASC. & PARDA    & NA & 114 & 2024\\\\\n",
       "\t20 & 260001885410 & ROGÉRIO SOUZA DE CARVALHO & Aracaju & SE & Vereador & PSDB      & Não Eleito & MASC. & INDÍGENA & NA & 268 & 2024\\\\\n",
       "\t21 & 260001885420 & LUCIENE ALMEIDA DE LIMA   & Aracaju & SE & Vereador & PSDB      & Não Eleito & FEM.  & PARDA    & NA & 297 & 2024\\\\\n",
       "\t22 & 260001885421 & MARCONE DE SANTANA BOMFIM & Aracaju & SE & Vereador & PSDB      & Não Eleito & MASC. & BRANCA   & NA &  58 & 2024\\\\\n",
       "\t23 & 260001885423 & FERNANDA ALMEIDA FARINE   & Aracaju & SE & Vereador & PSDB      & Não Eleito & FEM.  & BRANCA   & NA & 441 & 2024\\\\\n",
       "\\end{tabular}\n"
      ],
      "text/markdown": [
       "\n",
       "A data.frame: 6 × 12\n",
       "\n",
       "| <!--/--> | sq_candidato &lt;dbl&gt; | Nome.Candidato &lt;chr&gt; | Cidade &lt;chr&gt; | UF &lt;chr&gt; | Cargo &lt;chr&gt; | Partido &lt;chr&gt; | Resultado_Eleitoral &lt;chr&gt; | Genero &lt;chr&gt; | Raca &lt;chr&gt; | Valor_Receita &lt;dbl&gt; | Votos &lt;int&gt; | ano &lt;int&gt; |\n",
       "|---|---|---|---|---|---|---|---|---|---|---|---|---|\n",
       "| 18 | 260001885402 | JOEL ROSA DOS SANTOS      | Aracaju | SE | Vereador | CIDADANIA | Não Eleito | MASC. | PARDA    | NA |  17 | 2024 |\n",
       "| 19 | 260001885406 | PAULO MÁRCIO RAMOS CRUZ   | Aracaju | SE | Vereador | PSDB      | Não Eleito | MASC. | PARDA    | NA | 114 | 2024 |\n",
       "| 20 | 260001885410 | ROGÉRIO SOUZA DE CARVALHO | Aracaju | SE | Vereador | PSDB      | Não Eleito | MASC. | INDÍGENA | NA | 268 | 2024 |\n",
       "| 21 | 260001885420 | LUCIENE ALMEIDA DE LIMA   | Aracaju | SE | Vereador | PSDB      | Não Eleito | FEM.  | PARDA    | NA | 297 | 2024 |\n",
       "| 22 | 260001885421 | MARCONE DE SANTANA BOMFIM | Aracaju | SE | Vereador | PSDB      | Não Eleito | MASC. | BRANCA   | NA |  58 | 2024 |\n",
       "| 23 | 260001885423 | FERNANDA ALMEIDA FARINE   | Aracaju | SE | Vereador | PSDB      | Não Eleito | FEM.  | BRANCA   | NA | 441 | 2024 |\n",
       "\n"
      ],
      "text/plain": [
       "   sq_candidato Nome.Candidato            Cidade  UF Cargo    Partido  \n",
       "18 260001885402 JOEL ROSA DOS SANTOS      Aracaju SE Vereador CIDADANIA\n",
       "19 260001885406 PAULO MÁRCIO RAMOS CRUZ   Aracaju SE Vereador PSDB     \n",
       "20 260001885410 ROGÉRIO SOUZA DE CARVALHO Aracaju SE Vereador PSDB     \n",
       "21 260001885420 LUCIENE ALMEIDA DE LIMA   Aracaju SE Vereador PSDB     \n",
       "22 260001885421 MARCONE DE SANTANA BOMFIM Aracaju SE Vereador PSDB     \n",
       "23 260001885423 FERNANDA ALMEIDA FARINE   Aracaju SE Vereador PSDB     \n",
       "   Resultado_Eleitoral Genero Raca     Valor_Receita Votos ano \n",
       "18 Não Eleito          MASC.  PARDA    NA             17   2024\n",
       "19 Não Eleito          MASC.  PARDA    NA            114   2024\n",
       "20 Não Eleito          MASC.  INDÍGENA NA            268   2024\n",
       "21 Não Eleito          FEM.   PARDA    NA            297   2024\n",
       "22 Não Eleito          MASC.  BRANCA   NA             58   2024\n",
       "23 Não Eleito          FEM.   BRANCA   NA            441   2024"
      ]
     },
     "metadata": {},
     "output_type": "display_data"
    }
   ],
   "source": [
    "head(candidatos_2024)"
   ]
  },
  {
   "cell_type": "markdown",
   "metadata": {},
   "source": [
    "<span style=\"font-weight:bold; color:yellow; font-size:20px\">Dimensão de cada dataset</span>"
   ]
  },
  {
   "cell_type": "code",
   "execution_count": 14,
   "metadata": {},
   "outputs": [
    {
     "data": {
      "text/html": [
       "30000"
      ],
      "text/latex": [
       "30000"
      ],
      "text/markdown": [
       "30000"
      ],
      "text/plain": [
       "[1] 30000"
      ]
     },
     "metadata": {},
     "output_type": "display_data"
    }
   ],
   "source": [
    "nrow(candidatos)\n"
   ]
  },
  {
   "cell_type": "code",
   "execution_count": 15,
   "metadata": {},
   "outputs": [
    {
     "data": {
      "text/html": [
       "18942"
      ],
      "text/latex": [
       "18942"
      ],
      "text/markdown": [
       "18942"
      ],
      "text/plain": [
       "[1] 18942"
      ]
     },
     "metadata": {},
     "output_type": "display_data"
    }
   ],
   "source": [
    "nrow(candidatos_2020)\n"
   ]
  },
  {
   "cell_type": "code",
   "execution_count": 16,
   "metadata": {},
   "outputs": [
    {
     "data": {
      "text/html": [
       "11058"
      ],
      "text/latex": [
       "11058"
      ],
      "text/markdown": [
       "11058"
      ],
      "text/plain": [
       "[1] 11058"
      ]
     },
     "metadata": {},
     "output_type": "display_data"
    }
   ],
   "source": [
    "nrow(candidatos_2024)\n",
    "\n"
   ]
  },
  {
   "cell_type": "markdown",
   "metadata": {},
   "source": [
    "<span style=\"font-weight:bold; color:yellow; font-size:20px\"> \n",
    "Verificando os valores únicos de cada coluna, teremos a relação das colunas e das classes disponíveis para utilização.\n",
    "</span>\n"
   ]
  },
  {
   "cell_type": "code",
   "execution_count": 17,
   "metadata": {},
   "outputs": [
    {
     "data": {
      "text/html": [
       "<dl>\n",
       "\t<dt>$UF</dt>\n",
       "\t\t<dd><style>\n",
       ".list-inline {list-style: none; margin:0; padding: 0}\n",
       ".list-inline>li {display: inline-block}\n",
       ".list-inline>li:not(:last-child)::after {content: \"\\00b7\"; padding: 0 .5ex}\n",
       "</style>\n",
       "<ol class=list-inline><li>'SE'</li><li>'PA'</li><li>'MG'</li><li>'RR'</li><li>'MS'</li><li>'MT'</li><li>'PR'</li><li>'SC'</li><li>'CE'</li><li>'GO'</li><li>'PB'</li><li>'AP'</li><li>'AL'</li><li>'AM'</li><li>'RN'</li><li>'TO'</li><li>'RS'</li><li>'RO'</li><li>'PE'</li><li>'AC'</li><li>'RJ'</li></ol>\n",
       "</dd>\n",
       "\t<dt>$Cidade</dt>\n",
       "\t\t<dd><style>\n",
       ".list-inline {list-style: none; margin:0; padding: 0}\n",
       ".list-inline>li {display: inline-block}\n",
       ".list-inline>li:not(:last-child)::after {content: \"\\00b7\"; padding: 0 .5ex}\n",
       "</style>\n",
       "<ol class=list-inline><li>'Aracaju'</li><li>'Belém'</li><li>'Belo Horizonte'</li><li>'Boa Vista'</li><li>'Campo Grande'</li><li>'Cuiabá'</li><li>'Curitiba'</li><li>'Florianópolis'</li><li>'Fortaleza'</li><li>'Goiânia'</li><li>'João Pessoa'</li><li>'Macapá'</li><li>'Maceió'</li><li>'Manaus'</li><li>'Natal'</li><li>'Palmas'</li><li>'Porto Alegre'</li><li>'Porto Velho'</li><li>'Recife'</li><li>'Rio Branco'</li><li>'Rio de Janeiro'</li></ol>\n",
       "</dd>\n",
       "\t<dt>$Cargo</dt>\n",
       "\t\t<dd><style>\n",
       ".list-inline {list-style: none; margin:0; padding: 0}\n",
       ".list-inline>li {display: inline-block}\n",
       ".list-inline>li:not(:last-child)::after {content: \"\\00b7\"; padding: 0 .5ex}\n",
       "</style>\n",
       "<ol class=list-inline><li>'Vice-prefeito'</li><li>'Vereador'</li><li>'Prefeito'</li></ol>\n",
       "</dd>\n",
       "\t<dt>$Partido</dt>\n",
       "\t\t<dd><style>\n",
       ".list-inline {list-style: none; margin:0; padding: 0}\n",
       ".list-inline>li {display: inline-block}\n",
       ".list-inline>li:not(:last-child)::after {content: \"\\00b7\"; padding: 0 .5ex}\n",
       "</style>\n",
       "<ol class=list-inline><li>'PSB'</li><li>'PMB'</li><li>'SOLIDARIEDADE'</li><li>'DEM'</li><li>'AVANTE'</li><li>'PRTB'</li><li>'PSTU'</li><li>'PT'</li><li>'PSD'</li><li>'DC'</li><li>'PSL'</li><li>'PSOL'</li><li>'PMN'</li><li>'CIDADANIA'</li><li>'PSDB'</li><li>'PODE'</li><li>'PRD'</li><li>'UNIÃO'</li><li>'PL'</li><li>'MDB'</li><li>'PDT'</li><li>'MOBILIZA'</li><li>'PP'</li><li>'AGIR'</li><li>'UP'</li><li>'NOVO'</li><li>'PCO'</li><li>'REPUBLICANOS'</li><li>'PATRIOTA'</li><li>'PTB'</li><li>'REDE'</li><li>'PCdoB'</li><li>'PSC'</li><li>'PV'</li><li>'PROS'</li><li>'PC do B'</li><li>'PTC'</li><li>'PCB'</li></ol>\n",
       "</dd>\n",
       "\t<dt>$Resultado_Eleitoral</dt>\n",
       "\t\t<dd><style>\n",
       ".list-inline {list-style: none; margin:0; padding: 0}\n",
       ".list-inline>li {display: inline-block}\n",
       ".list-inline>li:not(:last-child)::after {content: \"\\00b7\"; padding: 0 .5ex}\n",
       "</style>\n",
       "<ol class=list-inline><li>'2º Turno'</li><li>'Não Eleito'</li><li>'Eleito'</li><li>'Nulo'</li><li>'Suplente'</li><li>''</li><li>'Eleito por Média'</li><li>'Eleito por QP'</li></ol>\n",
       "</dd>\n",
       "\t<dt>$Genero</dt>\n",
       "\t\t<dd><style>\n",
       ".list-inline {list-style: none; margin:0; padding: 0}\n",
       ".list-inline>li {display: inline-block}\n",
       ".list-inline>li:not(:last-child)::after {content: \"\\00b7\"; padding: 0 .5ex}\n",
       "</style>\n",
       "<ol class=list-inline><li>'MASC.'</li><li>'FEM.'</li><li>'Não Divulgável'</li></ol>\n",
       "</dd>\n",
       "\t<dt>$Raca</dt>\n",
       "\t\t<dd><style>\n",
       ".list-inline {list-style: none; margin:0; padding: 0}\n",
       ".list-inline>li {display: inline-block}\n",
       ".list-inline>li:not(:last-child)::after {content: \"\\00b7\"; padding: 0 .5ex}\n",
       "</style>\n",
       "<ol class=list-inline><li>'BRANCA'</li><li>'PARDA'</li><li>'PRETA'</li><li>'INDÍGENA'</li><li>'AMARELA'</li><li>'SEM INFORMAÇÃO'</li><li>'Não Divulgável'</li></ol>\n",
       "</dd>\n",
       "\t<dt>$ano</dt>\n",
       "\t\t<dd><style>\n",
       ".list-inline {list-style: none; margin:0; padding: 0}\n",
       ".list-inline>li {display: inline-block}\n",
       ".list-inline>li:not(:last-child)::after {content: \"\\00b7\"; padding: 0 .5ex}\n",
       "</style>\n",
       "<ol class=list-inline><li>2020</li><li>2024</li></ol>\n",
       "</dd>\n",
       "</dl>\n"
      ],
      "text/latex": [
       "\\begin{description}\n",
       "\\item[\\$UF] \\begin{enumerate*}\n",
       "\\item 'SE'\n",
       "\\item 'PA'\n",
       "\\item 'MG'\n",
       "\\item 'RR'\n",
       "\\item 'MS'\n",
       "\\item 'MT'\n",
       "\\item 'PR'\n",
       "\\item 'SC'\n",
       "\\item 'CE'\n",
       "\\item 'GO'\n",
       "\\item 'PB'\n",
       "\\item 'AP'\n",
       "\\item 'AL'\n",
       "\\item 'AM'\n",
       "\\item 'RN'\n",
       "\\item 'TO'\n",
       "\\item 'RS'\n",
       "\\item 'RO'\n",
       "\\item 'PE'\n",
       "\\item 'AC'\n",
       "\\item 'RJ'\n",
       "\\end{enumerate*}\n",
       "\n",
       "\\item[\\$Cidade] \\begin{enumerate*}\n",
       "\\item 'Aracaju'\n",
       "\\item 'Belém'\n",
       "\\item 'Belo Horizonte'\n",
       "\\item 'Boa Vista'\n",
       "\\item 'Campo Grande'\n",
       "\\item 'Cuiabá'\n",
       "\\item 'Curitiba'\n",
       "\\item 'Florianópolis'\n",
       "\\item 'Fortaleza'\n",
       "\\item 'Goiânia'\n",
       "\\item 'João Pessoa'\n",
       "\\item 'Macapá'\n",
       "\\item 'Maceió'\n",
       "\\item 'Manaus'\n",
       "\\item 'Natal'\n",
       "\\item 'Palmas'\n",
       "\\item 'Porto Alegre'\n",
       "\\item 'Porto Velho'\n",
       "\\item 'Recife'\n",
       "\\item 'Rio Branco'\n",
       "\\item 'Rio de Janeiro'\n",
       "\\end{enumerate*}\n",
       "\n",
       "\\item[\\$Cargo] \\begin{enumerate*}\n",
       "\\item 'Vice-prefeito'\n",
       "\\item 'Vereador'\n",
       "\\item 'Prefeito'\n",
       "\\end{enumerate*}\n",
       "\n",
       "\\item[\\$Partido] \\begin{enumerate*}\n",
       "\\item 'PSB'\n",
       "\\item 'PMB'\n",
       "\\item 'SOLIDARIEDADE'\n",
       "\\item 'DEM'\n",
       "\\item 'AVANTE'\n",
       "\\item 'PRTB'\n",
       "\\item 'PSTU'\n",
       "\\item 'PT'\n",
       "\\item 'PSD'\n",
       "\\item 'DC'\n",
       "\\item 'PSL'\n",
       "\\item 'PSOL'\n",
       "\\item 'PMN'\n",
       "\\item 'CIDADANIA'\n",
       "\\item 'PSDB'\n",
       "\\item 'PODE'\n",
       "\\item 'PRD'\n",
       "\\item 'UNIÃO'\n",
       "\\item 'PL'\n",
       "\\item 'MDB'\n",
       "\\item 'PDT'\n",
       "\\item 'MOBILIZA'\n",
       "\\item 'PP'\n",
       "\\item 'AGIR'\n",
       "\\item 'UP'\n",
       "\\item 'NOVO'\n",
       "\\item 'PCO'\n",
       "\\item 'REPUBLICANOS'\n",
       "\\item 'PATRIOTA'\n",
       "\\item 'PTB'\n",
       "\\item 'REDE'\n",
       "\\item 'PCdoB'\n",
       "\\item 'PSC'\n",
       "\\item 'PV'\n",
       "\\item 'PROS'\n",
       "\\item 'PC do B'\n",
       "\\item 'PTC'\n",
       "\\item 'PCB'\n",
       "\\end{enumerate*}\n",
       "\n",
       "\\item[\\$Resultado\\_Eleitoral] \\begin{enumerate*}\n",
       "\\item '2º Turno'\n",
       "\\item 'Não Eleito'\n",
       "\\item 'Eleito'\n",
       "\\item 'Nulo'\n",
       "\\item 'Suplente'\n",
       "\\item ''\n",
       "\\item 'Eleito por Média'\n",
       "\\item 'Eleito por QP'\n",
       "\\end{enumerate*}\n",
       "\n",
       "\\item[\\$Genero] \\begin{enumerate*}\n",
       "\\item 'MASC.'\n",
       "\\item 'FEM.'\n",
       "\\item 'Não Divulgável'\n",
       "\\end{enumerate*}\n",
       "\n",
       "\\item[\\$Raca] \\begin{enumerate*}\n",
       "\\item 'BRANCA'\n",
       "\\item 'PARDA'\n",
       "\\item 'PRETA'\n",
       "\\item 'INDÍGENA'\n",
       "\\item 'AMARELA'\n",
       "\\item 'SEM INFORMAÇÃO'\n",
       "\\item 'Não Divulgável'\n",
       "\\end{enumerate*}\n",
       "\n",
       "\\item[\\$ano] \\begin{enumerate*}\n",
       "\\item 2020\n",
       "\\item 2024\n",
       "\\end{enumerate*}\n",
       "\n",
       "\\end{description}\n"
      ],
      "text/markdown": [
       "$UF\n",
       ":   1. 'SE'\n",
       "2. 'PA'\n",
       "3. 'MG'\n",
       "4. 'RR'\n",
       "5. 'MS'\n",
       "6. 'MT'\n",
       "7. 'PR'\n",
       "8. 'SC'\n",
       "9. 'CE'\n",
       "10. 'GO'\n",
       "11. 'PB'\n",
       "12. 'AP'\n",
       "13. 'AL'\n",
       "14. 'AM'\n",
       "15. 'RN'\n",
       "16. 'TO'\n",
       "17. 'RS'\n",
       "18. 'RO'\n",
       "19. 'PE'\n",
       "20. 'AC'\n",
       "21. 'RJ'\n",
       "\n",
       "\n",
       "\n",
       "$Cidade\n",
       ":   1. 'Aracaju'\n",
       "2. 'Belém'\n",
       "3. 'Belo Horizonte'\n",
       "4. 'Boa Vista'\n",
       "5. 'Campo Grande'\n",
       "6. 'Cuiabá'\n",
       "7. 'Curitiba'\n",
       "8. 'Florianópolis'\n",
       "9. 'Fortaleza'\n",
       "10. 'Goiânia'\n",
       "11. 'João Pessoa'\n",
       "12. 'Macapá'\n",
       "13. 'Maceió'\n",
       "14. 'Manaus'\n",
       "15. 'Natal'\n",
       "16. 'Palmas'\n",
       "17. 'Porto Alegre'\n",
       "18. 'Porto Velho'\n",
       "19. 'Recife'\n",
       "20. 'Rio Branco'\n",
       "21. 'Rio de Janeiro'\n",
       "\n",
       "\n",
       "\n",
       "$Cargo\n",
       ":   1. 'Vice-prefeito'\n",
       "2. 'Vereador'\n",
       "3. 'Prefeito'\n",
       "\n",
       "\n",
       "\n",
       "$Partido\n",
       ":   1. 'PSB'\n",
       "2. 'PMB'\n",
       "3. 'SOLIDARIEDADE'\n",
       "4. 'DEM'\n",
       "5. 'AVANTE'\n",
       "6. 'PRTB'\n",
       "7. 'PSTU'\n",
       "8. 'PT'\n",
       "9. 'PSD'\n",
       "10. 'DC'\n",
       "11. 'PSL'\n",
       "12. 'PSOL'\n",
       "13. 'PMN'\n",
       "14. 'CIDADANIA'\n",
       "15. 'PSDB'\n",
       "16. 'PODE'\n",
       "17. 'PRD'\n",
       "18. 'UNIÃO'\n",
       "19. 'PL'\n",
       "20. 'MDB'\n",
       "21. 'PDT'\n",
       "22. 'MOBILIZA'\n",
       "23. 'PP'\n",
       "24. 'AGIR'\n",
       "25. 'UP'\n",
       "26. 'NOVO'\n",
       "27. 'PCO'\n",
       "28. 'REPUBLICANOS'\n",
       "29. 'PATRIOTA'\n",
       "30. 'PTB'\n",
       "31. 'REDE'\n",
       "32. 'PCdoB'\n",
       "33. 'PSC'\n",
       "34. 'PV'\n",
       "35. 'PROS'\n",
       "36. 'PC do B'\n",
       "37. 'PTC'\n",
       "38. 'PCB'\n",
       "\n",
       "\n",
       "\n",
       "$Resultado_Eleitoral\n",
       ":   1. '2º Turno'\n",
       "2. 'Não Eleito'\n",
       "3. 'Eleito'\n",
       "4. 'Nulo'\n",
       "5. 'Suplente'\n",
       "6. ''\n",
       "7. 'Eleito por Média'\n",
       "8. 'Eleito por QP'\n",
       "\n",
       "\n",
       "\n",
       "$Genero\n",
       ":   1. 'MASC.'\n",
       "2. 'FEM.'\n",
       "3. 'Não Divulgável'\n",
       "\n",
       "\n",
       "\n",
       "$Raca\n",
       ":   1. 'BRANCA'\n",
       "2. 'PARDA'\n",
       "3. 'PRETA'\n",
       "4. 'INDÍGENA'\n",
       "5. 'AMARELA'\n",
       "6. 'SEM INFORMAÇÃO'\n",
       "7. 'Não Divulgável'\n",
       "\n",
       "\n",
       "\n",
       "$ano\n",
       ":   1. 2020\n",
       "2. 2024\n",
       "\n",
       "\n",
       "\n",
       "\n",
       "\n"
      ],
      "text/plain": [
       "$UF\n",
       " [1] \"SE\" \"PA\" \"MG\" \"RR\" \"MS\" \"MT\" \"PR\" \"SC\" \"CE\" \"GO\" \"PB\" \"AP\" \"AL\" \"AM\" \"RN\"\n",
       "[16] \"TO\" \"RS\" \"RO\" \"PE\" \"AC\" \"RJ\"\n",
       "\n",
       "$Cidade\n",
       " [1] \"Aracaju\"        \"Belém\"          \"Belo Horizonte\" \"Boa Vista\"     \n",
       " [5] \"Campo Grande\"   \"Cuiabá\"         \"Curitiba\"       \"Florianópolis\" \n",
       " [9] \"Fortaleza\"      \"Goiânia\"        \"João Pessoa\"    \"Macapá\"        \n",
       "[13] \"Maceió\"         \"Manaus\"         \"Natal\"          \"Palmas\"        \n",
       "[17] \"Porto Alegre\"   \"Porto Velho\"    \"Recife\"         \"Rio Branco\"    \n",
       "[21] \"Rio de Janeiro\"\n",
       "\n",
       "$Cargo\n",
       "[1] \"Vice-prefeito\" \"Vereador\"      \"Prefeito\"     \n",
       "\n",
       "$Partido\n",
       " [1] \"PSB\"           \"PMB\"           \"SOLIDARIEDADE\" \"DEM\"          \n",
       " [5] \"AVANTE\"        \"PRTB\"          \"PSTU\"          \"PT\"           \n",
       " [9] \"PSD\"           \"DC\"            \"PSL\"           \"PSOL\"         \n",
       "[13] \"PMN\"           \"CIDADANIA\"     \"PSDB\"          \"PODE\"         \n",
       "[17] \"PRD\"           \"UNIÃO\"         \"PL\"            \"MDB\"          \n",
       "[21] \"PDT\"           \"MOBILIZA\"      \"PP\"            \"AGIR\"         \n",
       "[25] \"UP\"            \"NOVO\"          \"PCO\"           \"REPUBLICANOS\" \n",
       "[29] \"PATRIOTA\"      \"PTB\"           \"REDE\"          \"PCdoB\"        \n",
       "[33] \"PSC\"           \"PV\"            \"PROS\"          \"PC do B\"      \n",
       "[37] \"PTC\"           \"PCB\"          \n",
       "\n",
       "$Resultado_Eleitoral\n",
       "[1] \"2º Turno\"         \"Não Eleito\"       \"Eleito\"           \"Nulo\"            \n",
       "[5] \"Suplente\"         \"\"                 \"Eleito por Média\" \"Eleito por QP\"   \n",
       "\n",
       "$Genero\n",
       "[1] \"MASC.\"          \"FEM.\"           \"Não Divulgável\"\n",
       "\n",
       "$Raca\n",
       "[1] \"BRANCA\"         \"PARDA\"          \"PRETA\"          \"INDÍGENA\"      \n",
       "[5] \"AMARELA\"        \"SEM INFORMAÇÃO\" \"Não Divulgável\"\n",
       "\n",
       "$ano\n",
       "[1] 2020 2024\n"
      ]
     },
     "metadata": {},
     "output_type": "display_data"
    }
   ],
   "source": [
    "valores_unicos_2020 <- lapply(candidatos[c(\"UF\",\"Cidade\", \"Cargo\", \"Partido\", \"Resultado_Eleitoral\",\n",
    "                                 \"Genero\", \"Raca\", \"ano\")], unique)\n",
    "valores_unicos_2020"
   ]
  },
  {
   "cell_type": "code",
   "execution_count": 18,
   "metadata": {},
   "outputs": [
    {
     "data": {
      "text/html": [
       "<dl>\n",
       "\t<dt>$UF</dt>\n",
       "\t\t<dd><style>\n",
       ".list-inline {list-style: none; margin:0; padding: 0}\n",
       ".list-inline>li {display: inline-block}\n",
       ".list-inline>li:not(:last-child)::after {content: \"\\00b7\"; padding: 0 .5ex}\n",
       "</style>\n",
       "<ol class=list-inline><li>'SE'</li><li>'PA'</li><li>'MG'</li><li>'RR'</li><li>'MS'</li><li>'MT'</li><li>'PR'</li><li>'SC'</li><li>'CE'</li><li>'GO'</li><li>'PB'</li><li>'AP'</li><li>'AL'</li><li>'AM'</li><li>'RN'</li><li>'TO'</li><li>'RS'</li><li>'RO'</li><li>'PE'</li><li>'AC'</li><li>'RJ'</li></ol>\n",
       "</dd>\n",
       "\t<dt>$Cidade</dt>\n",
       "\t\t<dd><style>\n",
       ".list-inline {list-style: none; margin:0; padding: 0}\n",
       ".list-inline>li {display: inline-block}\n",
       ".list-inline>li:not(:last-child)::after {content: \"\\00b7\"; padding: 0 .5ex}\n",
       "</style>\n",
       "<ol class=list-inline><li>'Aracaju'</li><li>'Belém'</li><li>'Belo Horizonte'</li><li>'Boa Vista'</li><li>'Campo Grande'</li><li>'Cuiabá'</li><li>'Curitiba'</li><li>'Florianópolis'</li><li>'Fortaleza'</li><li>'Goiânia'</li><li>'João Pessoa'</li><li>'Macapá'</li><li>'Maceió'</li><li>'Manaus'</li><li>'Natal'</li><li>'Palmas'</li><li>'Porto Alegre'</li><li>'Porto Velho'</li><li>'Recife'</li><li>'Rio Branco'</li><li>'Rio de Janeiro'</li></ol>\n",
       "</dd>\n",
       "\t<dt>$Cargo</dt>\n",
       "\t\t<dd><style>\n",
       ".list-inline {list-style: none; margin:0; padding: 0}\n",
       ".list-inline>li {display: inline-block}\n",
       ".list-inline>li:not(:last-child)::after {content: \"\\00b7\"; padding: 0 .5ex}\n",
       "</style>\n",
       "<ol class=list-inline><li>'Vice-prefeito'</li><li>'Vereador'</li><li>'Prefeito'</li></ol>\n",
       "</dd>\n",
       "\t<dt>$Partido</dt>\n",
       "\t\t<dd><style>\n",
       ".list-inline {list-style: none; margin:0; padding: 0}\n",
       ".list-inline>li {display: inline-block}\n",
       ".list-inline>li:not(:last-child)::after {content: \"\\00b7\"; padding: 0 .5ex}\n",
       "</style>\n",
       "<ol class=list-inline><li>'PSB'</li><li>'PMB'</li><li>'SOLIDARIEDADE'</li><li>'DEM'</li><li>'AVANTE'</li><li>'PRTB'</li><li>'PSTU'</li><li>'PT'</li><li>'PSD'</li><li>'DC'</li><li>'PSL'</li><li>'PSOL'</li><li>'PMN'</li><li>'CIDADANIA'</li><li>'PSDB'</li><li>'PODE'</li><li>'PRD'</li><li>'UNIÃO'</li><li>'PL'</li><li>'MDB'</li><li>'PDT'</li><li>'MOBILIZA'</li><li>'PP'</li><li>'AGIR'</li><li>'UP'</li><li>'NOVO'</li><li>'PCO'</li><li>'REPUBLICANOS'</li><li>'PATRIOTA'</li><li>'PTB'</li><li>'REDE'</li><li>'PCdoB'</li><li>'PSC'</li><li>'PV'</li><li>'PROS'</li><li>'PC do B'</li><li>'PTC'</li><li>'PCB'</li></ol>\n",
       "</dd>\n",
       "\t<dt>$Resultado_Eleitoral</dt>\n",
       "\t\t<dd><style>\n",
       ".list-inline {list-style: none; margin:0; padding: 0}\n",
       ".list-inline>li {display: inline-block}\n",
       ".list-inline>li:not(:last-child)::after {content: \"\\00b7\"; padding: 0 .5ex}\n",
       "</style>\n",
       "<ol class=list-inline><li>'2º Turno'</li><li>'Não Eleito'</li><li>'Eleito'</li><li>'Nulo'</li><li>'Suplente'</li><li>''</li><li>'Eleito por Média'</li><li>'Eleito por QP'</li></ol>\n",
       "</dd>\n",
       "\t<dt>$Genero</dt>\n",
       "\t\t<dd><style>\n",
       ".list-inline {list-style: none; margin:0; padding: 0}\n",
       ".list-inline>li {display: inline-block}\n",
       ".list-inline>li:not(:last-child)::after {content: \"\\00b7\"; padding: 0 .5ex}\n",
       "</style>\n",
       "<ol class=list-inline><li>'MASC.'</li><li>'FEM.'</li><li>'Não Divulgável'</li></ol>\n",
       "</dd>\n",
       "\t<dt>$Raca</dt>\n",
       "\t\t<dd><style>\n",
       ".list-inline {list-style: none; margin:0; padding: 0}\n",
       ".list-inline>li {display: inline-block}\n",
       ".list-inline>li:not(:last-child)::after {content: \"\\00b7\"; padding: 0 .5ex}\n",
       "</style>\n",
       "<ol class=list-inline><li>'BRANCA'</li><li>'PARDA'</li><li>'PRETA'</li><li>'INDÍGENA'</li><li>'AMARELA'</li><li>'SEM INFORMAÇÃO'</li><li>'Não Divulgável'</li></ol>\n",
       "</dd>\n",
       "\t<dt>$ano</dt>\n",
       "\t\t<dd><style>\n",
       ".list-inline {list-style: none; margin:0; padding: 0}\n",
       ".list-inline>li {display: inline-block}\n",
       ".list-inline>li:not(:last-child)::after {content: \"\\00b7\"; padding: 0 .5ex}\n",
       "</style>\n",
       "<ol class=list-inline><li>2020</li><li>2024</li></ol>\n",
       "</dd>\n",
       "</dl>\n"
      ],
      "text/latex": [
       "\\begin{description}\n",
       "\\item[\\$UF] \\begin{enumerate*}\n",
       "\\item 'SE'\n",
       "\\item 'PA'\n",
       "\\item 'MG'\n",
       "\\item 'RR'\n",
       "\\item 'MS'\n",
       "\\item 'MT'\n",
       "\\item 'PR'\n",
       "\\item 'SC'\n",
       "\\item 'CE'\n",
       "\\item 'GO'\n",
       "\\item 'PB'\n",
       "\\item 'AP'\n",
       "\\item 'AL'\n",
       "\\item 'AM'\n",
       "\\item 'RN'\n",
       "\\item 'TO'\n",
       "\\item 'RS'\n",
       "\\item 'RO'\n",
       "\\item 'PE'\n",
       "\\item 'AC'\n",
       "\\item 'RJ'\n",
       "\\end{enumerate*}\n",
       "\n",
       "\\item[\\$Cidade] \\begin{enumerate*}\n",
       "\\item 'Aracaju'\n",
       "\\item 'Belém'\n",
       "\\item 'Belo Horizonte'\n",
       "\\item 'Boa Vista'\n",
       "\\item 'Campo Grande'\n",
       "\\item 'Cuiabá'\n",
       "\\item 'Curitiba'\n",
       "\\item 'Florianópolis'\n",
       "\\item 'Fortaleza'\n",
       "\\item 'Goiânia'\n",
       "\\item 'João Pessoa'\n",
       "\\item 'Macapá'\n",
       "\\item 'Maceió'\n",
       "\\item 'Manaus'\n",
       "\\item 'Natal'\n",
       "\\item 'Palmas'\n",
       "\\item 'Porto Alegre'\n",
       "\\item 'Porto Velho'\n",
       "\\item 'Recife'\n",
       "\\item 'Rio Branco'\n",
       "\\item 'Rio de Janeiro'\n",
       "\\end{enumerate*}\n",
       "\n",
       "\\item[\\$Cargo] \\begin{enumerate*}\n",
       "\\item 'Vice-prefeito'\n",
       "\\item 'Vereador'\n",
       "\\item 'Prefeito'\n",
       "\\end{enumerate*}\n",
       "\n",
       "\\item[\\$Partido] \\begin{enumerate*}\n",
       "\\item 'PSB'\n",
       "\\item 'PMB'\n",
       "\\item 'SOLIDARIEDADE'\n",
       "\\item 'DEM'\n",
       "\\item 'AVANTE'\n",
       "\\item 'PRTB'\n",
       "\\item 'PSTU'\n",
       "\\item 'PT'\n",
       "\\item 'PSD'\n",
       "\\item 'DC'\n",
       "\\item 'PSL'\n",
       "\\item 'PSOL'\n",
       "\\item 'PMN'\n",
       "\\item 'CIDADANIA'\n",
       "\\item 'PSDB'\n",
       "\\item 'PODE'\n",
       "\\item 'PRD'\n",
       "\\item 'UNIÃO'\n",
       "\\item 'PL'\n",
       "\\item 'MDB'\n",
       "\\item 'PDT'\n",
       "\\item 'MOBILIZA'\n",
       "\\item 'PP'\n",
       "\\item 'AGIR'\n",
       "\\item 'UP'\n",
       "\\item 'NOVO'\n",
       "\\item 'PCO'\n",
       "\\item 'REPUBLICANOS'\n",
       "\\item 'PATRIOTA'\n",
       "\\item 'PTB'\n",
       "\\item 'REDE'\n",
       "\\item 'PCdoB'\n",
       "\\item 'PSC'\n",
       "\\item 'PV'\n",
       "\\item 'PROS'\n",
       "\\item 'PC do B'\n",
       "\\item 'PTC'\n",
       "\\item 'PCB'\n",
       "\\end{enumerate*}\n",
       "\n",
       "\\item[\\$Resultado\\_Eleitoral] \\begin{enumerate*}\n",
       "\\item '2º Turno'\n",
       "\\item 'Não Eleito'\n",
       "\\item 'Eleito'\n",
       "\\item 'Nulo'\n",
       "\\item 'Suplente'\n",
       "\\item ''\n",
       "\\item 'Eleito por Média'\n",
       "\\item 'Eleito por QP'\n",
       "\\end{enumerate*}\n",
       "\n",
       "\\item[\\$Genero] \\begin{enumerate*}\n",
       "\\item 'MASC.'\n",
       "\\item 'FEM.'\n",
       "\\item 'Não Divulgável'\n",
       "\\end{enumerate*}\n",
       "\n",
       "\\item[\\$Raca] \\begin{enumerate*}\n",
       "\\item 'BRANCA'\n",
       "\\item 'PARDA'\n",
       "\\item 'PRETA'\n",
       "\\item 'INDÍGENA'\n",
       "\\item 'AMARELA'\n",
       "\\item 'SEM INFORMAÇÃO'\n",
       "\\item 'Não Divulgável'\n",
       "\\end{enumerate*}\n",
       "\n",
       "\\item[\\$ano] \\begin{enumerate*}\n",
       "\\item 2020\n",
       "\\item 2024\n",
       "\\end{enumerate*}\n",
       "\n",
       "\\end{description}\n"
      ],
      "text/markdown": [
       "$UF\n",
       ":   1. 'SE'\n",
       "2. 'PA'\n",
       "3. 'MG'\n",
       "4. 'RR'\n",
       "5. 'MS'\n",
       "6. 'MT'\n",
       "7. 'PR'\n",
       "8. 'SC'\n",
       "9. 'CE'\n",
       "10. 'GO'\n",
       "11. 'PB'\n",
       "12. 'AP'\n",
       "13. 'AL'\n",
       "14. 'AM'\n",
       "15. 'RN'\n",
       "16. 'TO'\n",
       "17. 'RS'\n",
       "18. 'RO'\n",
       "19. 'PE'\n",
       "20. 'AC'\n",
       "21. 'RJ'\n",
       "\n",
       "\n",
       "\n",
       "$Cidade\n",
       ":   1. 'Aracaju'\n",
       "2. 'Belém'\n",
       "3. 'Belo Horizonte'\n",
       "4. 'Boa Vista'\n",
       "5. 'Campo Grande'\n",
       "6. 'Cuiabá'\n",
       "7. 'Curitiba'\n",
       "8. 'Florianópolis'\n",
       "9. 'Fortaleza'\n",
       "10. 'Goiânia'\n",
       "11. 'João Pessoa'\n",
       "12. 'Macapá'\n",
       "13. 'Maceió'\n",
       "14. 'Manaus'\n",
       "15. 'Natal'\n",
       "16. 'Palmas'\n",
       "17. 'Porto Alegre'\n",
       "18. 'Porto Velho'\n",
       "19. 'Recife'\n",
       "20. 'Rio Branco'\n",
       "21. 'Rio de Janeiro'\n",
       "\n",
       "\n",
       "\n",
       "$Cargo\n",
       ":   1. 'Vice-prefeito'\n",
       "2. 'Vereador'\n",
       "3. 'Prefeito'\n",
       "\n",
       "\n",
       "\n",
       "$Partido\n",
       ":   1. 'PSB'\n",
       "2. 'PMB'\n",
       "3. 'SOLIDARIEDADE'\n",
       "4. 'DEM'\n",
       "5. 'AVANTE'\n",
       "6. 'PRTB'\n",
       "7. 'PSTU'\n",
       "8. 'PT'\n",
       "9. 'PSD'\n",
       "10. 'DC'\n",
       "11. 'PSL'\n",
       "12. 'PSOL'\n",
       "13. 'PMN'\n",
       "14. 'CIDADANIA'\n",
       "15. 'PSDB'\n",
       "16. 'PODE'\n",
       "17. 'PRD'\n",
       "18. 'UNIÃO'\n",
       "19. 'PL'\n",
       "20. 'MDB'\n",
       "21. 'PDT'\n",
       "22. 'MOBILIZA'\n",
       "23. 'PP'\n",
       "24. 'AGIR'\n",
       "25. 'UP'\n",
       "26. 'NOVO'\n",
       "27. 'PCO'\n",
       "28. 'REPUBLICANOS'\n",
       "29. 'PATRIOTA'\n",
       "30. 'PTB'\n",
       "31. 'REDE'\n",
       "32. 'PCdoB'\n",
       "33. 'PSC'\n",
       "34. 'PV'\n",
       "35. 'PROS'\n",
       "36. 'PC do B'\n",
       "37. 'PTC'\n",
       "38. 'PCB'\n",
       "\n",
       "\n",
       "\n",
       "$Resultado_Eleitoral\n",
       ":   1. '2º Turno'\n",
       "2. 'Não Eleito'\n",
       "3. 'Eleito'\n",
       "4. 'Nulo'\n",
       "5. 'Suplente'\n",
       "6. ''\n",
       "7. 'Eleito por Média'\n",
       "8. 'Eleito por QP'\n",
       "\n",
       "\n",
       "\n",
       "$Genero\n",
       ":   1. 'MASC.'\n",
       "2. 'FEM.'\n",
       "3. 'Não Divulgável'\n",
       "\n",
       "\n",
       "\n",
       "$Raca\n",
       ":   1. 'BRANCA'\n",
       "2. 'PARDA'\n",
       "3. 'PRETA'\n",
       "4. 'INDÍGENA'\n",
       "5. 'AMARELA'\n",
       "6. 'SEM INFORMAÇÃO'\n",
       "7. 'Não Divulgável'\n",
       "\n",
       "\n",
       "\n",
       "$ano\n",
       ":   1. 2020\n",
       "2. 2024\n",
       "\n",
       "\n",
       "\n",
       "\n",
       "\n"
      ],
      "text/plain": [
       "$UF\n",
       " [1] \"SE\" \"PA\" \"MG\" \"RR\" \"MS\" \"MT\" \"PR\" \"SC\" \"CE\" \"GO\" \"PB\" \"AP\" \"AL\" \"AM\" \"RN\"\n",
       "[16] \"TO\" \"RS\" \"RO\" \"PE\" \"AC\" \"RJ\"\n",
       "\n",
       "$Cidade\n",
       " [1] \"Aracaju\"        \"Belém\"          \"Belo Horizonte\" \"Boa Vista\"     \n",
       " [5] \"Campo Grande\"   \"Cuiabá\"         \"Curitiba\"       \"Florianópolis\" \n",
       " [9] \"Fortaleza\"      \"Goiânia\"        \"João Pessoa\"    \"Macapá\"        \n",
       "[13] \"Maceió\"         \"Manaus\"         \"Natal\"          \"Palmas\"        \n",
       "[17] \"Porto Alegre\"   \"Porto Velho\"    \"Recife\"         \"Rio Branco\"    \n",
       "[21] \"Rio de Janeiro\"\n",
       "\n",
       "$Cargo\n",
       "[1] \"Vice-prefeito\" \"Vereador\"      \"Prefeito\"     \n",
       "\n",
       "$Partido\n",
       " [1] \"PSB\"           \"PMB\"           \"SOLIDARIEDADE\" \"DEM\"          \n",
       " [5] \"AVANTE\"        \"PRTB\"          \"PSTU\"          \"PT\"           \n",
       " [9] \"PSD\"           \"DC\"            \"PSL\"           \"PSOL\"         \n",
       "[13] \"PMN\"           \"CIDADANIA\"     \"PSDB\"          \"PODE\"         \n",
       "[17] \"PRD\"           \"UNIÃO\"         \"PL\"            \"MDB\"          \n",
       "[21] \"PDT\"           \"MOBILIZA\"      \"PP\"            \"AGIR\"         \n",
       "[25] \"UP\"            \"NOVO\"          \"PCO\"           \"REPUBLICANOS\" \n",
       "[29] \"PATRIOTA\"      \"PTB\"           \"REDE\"          \"PCdoB\"        \n",
       "[33] \"PSC\"           \"PV\"            \"PROS\"          \"PC do B\"      \n",
       "[37] \"PTC\"           \"PCB\"          \n",
       "\n",
       "$Resultado_Eleitoral\n",
       "[1] \"2º Turno\"         \"Não Eleito\"       \"Eleito\"           \"Nulo\"            \n",
       "[5] \"Suplente\"         \"\"                 \"Eleito por Média\" \"Eleito por QP\"   \n",
       "\n",
       "$Genero\n",
       "[1] \"MASC.\"          \"FEM.\"           \"Não Divulgável\"\n",
       "\n",
       "$Raca\n",
       "[1] \"BRANCA\"         \"PARDA\"          \"PRETA\"          \"INDÍGENA\"      \n",
       "[5] \"AMARELA\"        \"SEM INFORMAÇÃO\" \"Não Divulgável\"\n",
       "\n",
       "$ano\n",
       "[1] 2020 2024\n"
      ]
     },
     "metadata": {},
     "output_type": "display_data"
    }
   ],
   "source": [
    "valores_unicos_2024 <- lapply(candidatos[c(\"UF\",\"Cidade\", \"Cargo\", \"Partido\", \"Resultado_Eleitoral\",\n",
    "                                 \"Genero\", \"Raca\", \"ano\")], unique)\n",
    "valores_unicos_2024"
   ]
  },
  {
   "cell_type": "markdown",
   "metadata": {},
   "source": [
    "<span style=\"font-weight:bold; color:red; font-size:15px\"> +++++++++++++++++++++++++++++++++++++++++++++++++++++++++++++++++++++++++++++++++++++++++++++++++\n",
    "Temos 10 candidatos a prefeito no 2º turno e 14 prefeitos eleitos, totalizando 21 candidaturas para o cargo de prefeito. Como cada disputa no 2º turno envolve dois candidatos por cidade, os 10 nomes indicariam 5 cidades em 2º turno. No entanto, isso deixaria uma cidade sem representação, já que 14 prefeitos foram eleitos e o total é de 21 cidades. Isso sugere uma inconsistência nos dados.\n",
    "<br>Além disso, há 21 vices eleitos e nenhum candidato a vice em 2º turno. No entanto, se um prefeito vai ao 2º turno, seu vice obrigatoriamente também deveria estar nessa condição. Isso indica outra inconsistência entre os dados de prefeitos e vices.<br>\n",
    "Como todas as cidades que têm prefeitos eleitos também possuem vice-prefeitos eleitos, vamos remover do dataset todas, aquelas referentes a candidatos que não foram eleitos. Dessa forma, manteremos apenas os dados dos prefeitos e vices efetivamente eleitos, facilitando a análise."
   ]
  },
  {
   "cell_type": "code",
   "execution_count": 19,
   "metadata": {},
   "outputs": [
    {
     "data": {
      "text/html": [
       "21"
      ],
      "text/latex": [
       "21"
      ],
      "text/markdown": [
       "21"
      ],
      "text/plain": [
       "[1] 21"
      ]
     },
     "metadata": {},
     "output_type": "display_data"
    }
   ],
   "source": [
    "length(unique(candidatos_2024$Cidade))\n"
   ]
  },
  {
   "cell_type": "code",
   "execution_count": 20,
   "metadata": {},
   "outputs": [
    {
     "data": {
      "text/html": [
       "0"
      ],
      "text/latex": [
       "0"
      ],
      "text/markdown": [
       "0"
      ],
      "text/plain": [
       "[1] 0"
      ]
     },
     "metadata": {},
     "output_type": "display_data"
    }
   ],
   "source": [
    "sum(trimws(candidatos_2024$Resultado_Eleitoral) == \"2º Turno\" &\n",
    "    trimws(candidatos_2024$Cargo) == \"Vice-prefeito\")"
   ]
  },
  {
   "cell_type": "code",
   "execution_count": 21,
   "metadata": {},
   "outputs": [
    {
     "data": {
      "text/html": [
       "10"
      ],
      "text/latex": [
       "10"
      ],
      "text/markdown": [
       "10"
      ],
      "text/plain": [
       "[1] 10"
      ]
     },
     "metadata": {},
     "output_type": "display_data"
    }
   ],
   "source": [
    "sum(trimws(candidatos_2024$Resultado_Eleitoral) == \"2º Turno\" &\n",
    "    trimws(candidatos_2024$Cargo) == \"Prefeito\")"
   ]
  },
  {
   "cell_type": "code",
   "execution_count": 22,
   "metadata": {},
   "outputs": [
    {
     "data": {
      "text/html": [
       "14"
      ],
      "text/latex": [
       "14"
      ],
      "text/markdown": [
       "14"
      ],
      "text/plain": [
       "[1] 14"
      ]
     },
     "metadata": {},
     "output_type": "display_data"
    }
   ],
   "source": [
    "sum(trimws(candidatos_2024$Resultado_Eleitoral) == \"Eleito\" &\n",
    "    trimws(candidatos_2024$Cargo) == \"Prefeito\")"
   ]
  },
  {
   "cell_type": "code",
   "execution_count": 23,
   "metadata": {},
   "outputs": [
    {
     "data": {
      "text/html": [
       "21"
      ],
      "text/latex": [
       "21"
      ],
      "text/markdown": [
       "21"
      ],
      "text/plain": [
       "[1] 21"
      ]
     },
     "metadata": {},
     "output_type": "display_data"
    }
   ],
   "source": [
    "sum(trimws(candidatos_2024$Resultado_Eleitoral) == \"Eleito\" &\n",
    "    trimws(candidatos_2024$Cargo) == \"Vice-prefeito\")"
   ]
  },
  {
   "cell_type": "code",
   "execution_count": 24,
   "metadata": {},
   "outputs": [
    {
     "data": {
      "text/html": [
       "21"
      ],
      "text/latex": [
       "21"
      ],
      "text/markdown": [
       "21"
      ],
      "text/plain": [
       "[1] 21"
      ]
     },
     "metadata": {},
     "output_type": "display_data"
    }
   ],
   "source": [
    "sum(trimws(candidatos_2024$Resultado_Eleitoral) == \"Eleito\" &\n",
    "    trimws(candidatos_2024$Cargo) == \"Vice-prefeito\")"
   ]
  },
  {
   "cell_type": "markdown",
   "metadata": {},
   "source": [
    "<span style=\"font-weight:bold; color:red; font-size:15px\">O script seguinte vai dar erro porque foi escrito fora da cronologia, após rodasr os outros códigos , retornar e rodar novamente"
   ]
  },
  {
   "cell_type": "code",
   "execution_count": 25,
   "metadata": {},
   "outputs": [
    {
     "ename": "ERROR",
     "evalue": "Error: objeto 'prefeitura_2024' não encontrado\n",
     "output_type": "error",
     "traceback": [
      "Error: objeto 'prefeitura_2024' não encontrado\nTraceback:\n",
      "1. .handleSimpleError(function (cnd) \n . {\n .     watcher$capture_plot_and_output()\n .     cnd <- sanitize_call(cnd)\n .     watcher$push(cnd)\n .     switch(on_error, continue = invokeRestart(\"eval_continue\"), \n .         stop = invokeRestart(\"eval_stop\"), error = NULL)\n . }, \"objeto 'prefeitura_2024' não encontrado\", base::quote(eval(expr, \n .     envir)))"
     ]
    }
   ],
   "source": [
    "# Filtra cidades com prefeito eleito\n",
    "cidades_prefeito <- unique(prefeitura_2024$Cidade[prefeitura_2024$Cargo == \"Prefeito\" &\n",
    "                                                  prefeitura_2024$Resultado_Eleitoral == \"Eleito\"])\n",
    "\n",
    "# Filtra cidades com vice eleito\n",
    "cidades_vice <- unique(prefeitura_2024$Cidade[prefeitura_2024$Cargo == \"Vice-prefeito\" &\n",
    "                                              prefeitura_2024$Resultado_Eleitoral == \"Eleito\"])\n",
    "\n",
    "# Verifica se há alguma cidade com prefeito eleito que não tem vice eleito\n",
    "cidades_inconsistentes <- setdiff(cidades_prefeito, cidades_vice)\n",
    "\n",
    "# Resultado\n",
    "if (length(cidades_inconsistentes) == 0) {\n",
    "  print(\"Todas as cidades com prefeito eleito também têm vice eleito.\")\n",
    "} else {\n",
    "  print(\"As seguintes cidades têm prefeito eleito, mas não têm vice eleito:\")\n",
    "  print(cidades_inconsistentes)\n",
    "}\n"
   ]
  },
  {
   "cell_type": "markdown",
   "metadata": {},
   "source": [
    "<span style=\"font-weight:bold; color:yellow; font-size:20px\"> Exportando os arquivos dos subset candidatos de 2020 e 2024 em separado<br>\n",
    "<span style=\"font-weight:bold; color:yellow; font-size:20px\">Atenção: estes códigos não devem ser executados novamente, para evitar a reexportação dos arquivos</span>\n",
    "\n"
   ]
  },
  {
   "cell_type": "code",
   "execution_count": 23,
   "metadata": {},
   "outputs": [],
   "source": [
    "#write.csv(candidatos_2020,  \"../data/candidatos_2020.csv\", row.names = FALSE)"
   ]
  },
  {
   "cell_type": "code",
   "execution_count": 24,
   "metadata": {},
   "outputs": [],
   "source": [
    "#write.csv(candidatos_2024,  \"../data/candidatos_2024.csv\", row.names = FALSE)"
   ]
  },
  {
   "cell_type": "code",
   "execution_count": 26,
   "metadata": {},
   "outputs": [
    {
     "data": {
      "text/html": [
       "<style>\n",
       ".list-inline {list-style: none; margin:0; padding: 0}\n",
       ".list-inline>li {display: inline-block}\n",
       ".list-inline>li:not(:last-child)::after {content: \"\\00b7\"; padding: 0 .5ex}\n",
       "</style>\n",
       "<ol class=list-inline><li>'2º Turno'</li><li>'Não Eleito'</li><li>'Eleito'</li><li>'Nulo'</li><li>'Suplente'</li></ol>\n"
      ],
      "text/latex": [
       "\\begin{enumerate*}\n",
       "\\item '2º Turno'\n",
       "\\item 'Não Eleito'\n",
       "\\item 'Eleito'\n",
       "\\item 'Nulo'\n",
       "\\item 'Suplente'\n",
       "\\end{enumerate*}\n"
      ],
      "text/markdown": [
       "1. '2º Turno'\n",
       "2. 'Não Eleito'\n",
       "3. 'Eleito'\n",
       "4. 'Nulo'\n",
       "5. 'Suplente'\n",
       "\n",
       "\n"
      ],
      "text/plain": [
       "[1] \"2º Turno\"   \"Não Eleito\" \"Eleito\"     \"Nulo\"       \"Suplente\"  "
      ]
     },
     "metadata": {},
     "output_type": "display_data"
    }
   ],
   "source": [
    "unique(candidatos_2020$Resultado_Eleitoral)"
   ]
  },
  {
   "cell_type": "code",
   "execution_count": 27,
   "metadata": {},
   "outputs": [
    {
     "data": {
      "text/html": [
       "<style>\n",
       ".list-inline {list-style: none; margin:0; padding: 0}\n",
       ".list-inline>li {display: inline-block}\n",
       ".list-inline>li:not(:last-child)::after {content: \"\\00b7\"; padding: 0 .5ex}\n",
       "</style>\n",
       "<ol class=list-inline><li>'Não Eleito'</li><li>'Suplente'</li><li>''</li><li>'Eleito por Média'</li><li>'Eleito'</li><li>'Eleito por QP'</li><li>'2º Turno'</li></ol>\n"
      ],
      "text/latex": [
       "\\begin{enumerate*}\n",
       "\\item 'Não Eleito'\n",
       "\\item 'Suplente'\n",
       "\\item ''\n",
       "\\item 'Eleito por Média'\n",
       "\\item 'Eleito'\n",
       "\\item 'Eleito por QP'\n",
       "\\item '2º Turno'\n",
       "\\end{enumerate*}\n"
      ],
      "text/markdown": [
       "1. 'Não Eleito'\n",
       "2. 'Suplente'\n",
       "3. ''\n",
       "4. 'Eleito por Média'\n",
       "5. 'Eleito'\n",
       "6. 'Eleito por QP'\n",
       "7. '2º Turno'\n",
       "\n",
       "\n"
      ],
      "text/plain": [
       "[1] \"Não Eleito\"       \"Suplente\"         \"\"                 \"Eleito por Média\"\n",
       "[5] \"Eleito\"           \"Eleito por QP\"    \"2º Turno\"        "
      ]
     },
     "metadata": {},
     "output_type": "display_data"
    }
   ],
   "source": [
    "unique(candidatos_2024$Resultado_Eleitoral)"
   ]
  },
  {
   "cell_type": "markdown",
   "metadata": {},
   "source": [
    "<span style=\"font-weight:bold; color:yellow; font-size:20px\">Prefeitos</span>"
   ]
  },
  {
   "cell_type": "code",
   "execution_count": 28,
   "metadata": {},
   "outputs": [],
   "source": [
    "prefeitura <- candidatos %>%\n",
    "  filter(Cargo != \"Vereador\")"
   ]
  },
  {
   "cell_type": "code",
   "execution_count": 29,
   "metadata": {},
   "outputs": [
    {
     "data": {
      "text/html": [
       "<table class=\"dataframe\">\n",
       "<caption>A data.frame: 6 × 12</caption>\n",
       "<thead>\n",
       "\t<tr><th></th><th scope=col>sq_candidato</th><th scope=col>Nome.Candidato</th><th scope=col>Cidade</th><th scope=col>UF</th><th scope=col>Cargo</th><th scope=col>Partido</th><th scope=col>Resultado_Eleitoral</th><th scope=col>Genero</th><th scope=col>Raca</th><th scope=col>Valor_Receita</th><th scope=col>Votos</th><th scope=col>ano</th></tr>\n",
       "\t<tr><th></th><th scope=col>&lt;dbl&gt;</th><th scope=col>&lt;chr&gt;</th><th scope=col>&lt;chr&gt;</th><th scope=col>&lt;chr&gt;</th><th scope=col>&lt;chr&gt;</th><th scope=col>&lt;chr&gt;</th><th scope=col>&lt;chr&gt;</th><th scope=col>&lt;chr&gt;</th><th scope=col>&lt;chr&gt;</th><th scope=col>&lt;dbl&gt;</th><th scope=col>&lt;int&gt;</th><th scope=col>&lt;int&gt;</th></tr>\n",
       "</thead>\n",
       "<tbody>\n",
       "\t<tr><th scope=row>1</th><td>260000637329</td><td>Antonio Carlos Valadares Filho   </td><td>Aracaju</td><td>SE</td><td>Vice-prefeito</td><td>PSB   </td><td>2º Turno  </td><td>MASC.</td><td>BRANCA</td><td>NA</td><td>0</td><td>2020</td></tr>\n",
       "\t<tr><th scope=row>2</th><td>260000637329</td><td>Antonio Carlos Valadares Filho   </td><td>Aracaju</td><td>SE</td><td>Vice-prefeito</td><td>PSB   </td><td>Não Eleito</td><td>MASC.</td><td>BRANCA</td><td>NA</td><td>0</td><td>2020</td></tr>\n",
       "\t<tr><th scope=row>3</th><td>260000743433</td><td>Alda Rejane Arruda Da Silva      </td><td>Aracaju</td><td>SE</td><td>Vice-prefeito</td><td>PMB   </td><td>Não Eleito</td><td>FEM. </td><td>PARDA </td><td>NA</td><td>0</td><td>2020</td></tr>\n",
       "\t<tr><th scope=row>4</th><td>260000835178</td><td>José Péricles Menezes De Oliveira</td><td>Aracaju</td><td>SE</td><td>Vice-prefeito</td><td>DEM   </td><td>Não Eleito</td><td>MASC.</td><td>PARDA </td><td>NA</td><td>0</td><td>2020</td></tr>\n",
       "\t<tr><th scope=row>5</th><td>260000857749</td><td>Davi Lima Valente Calazans       </td><td>Aracaju</td><td>SE</td><td>Vice-prefeito</td><td>AVANTE</td><td>Não Eleito</td><td>MASC.</td><td>PRETA </td><td>NA</td><td>0</td><td>2020</td></tr>\n",
       "\t<tr><th scope=row>6</th><td>260000935641</td><td>Luis Eduardo Prado Correia       </td><td>Aracaju</td><td>SE</td><td>Vice-prefeito</td><td>PRTB  </td><td>Não Eleito</td><td>MASC.</td><td>PARDA </td><td>NA</td><td>0</td><td>2020</td></tr>\n",
       "</tbody>\n",
       "</table>\n"
      ],
      "text/latex": [
       "A data.frame: 6 × 12\n",
       "\\begin{tabular}{r|llllllllllll}\n",
       "  & sq\\_candidato & Nome.Candidato & Cidade & UF & Cargo & Partido & Resultado\\_Eleitoral & Genero & Raca & Valor\\_Receita & Votos & ano\\\\\n",
       "  & <dbl> & <chr> & <chr> & <chr> & <chr> & <chr> & <chr> & <chr> & <chr> & <dbl> & <int> & <int>\\\\\n",
       "\\hline\n",
       "\t1 & 260000637329 & Antonio Carlos Valadares Filho    & Aracaju & SE & Vice-prefeito & PSB    & 2º Turno   & MASC. & BRANCA & NA & 0 & 2020\\\\\n",
       "\t2 & 260000637329 & Antonio Carlos Valadares Filho    & Aracaju & SE & Vice-prefeito & PSB    & Não Eleito & MASC. & BRANCA & NA & 0 & 2020\\\\\n",
       "\t3 & 260000743433 & Alda Rejane Arruda Da Silva       & Aracaju & SE & Vice-prefeito & PMB    & Não Eleito & FEM.  & PARDA  & NA & 0 & 2020\\\\\n",
       "\t4 & 260000835178 & José Péricles Menezes De Oliveira & Aracaju & SE & Vice-prefeito & DEM    & Não Eleito & MASC. & PARDA  & NA & 0 & 2020\\\\\n",
       "\t5 & 260000857749 & Davi Lima Valente Calazans        & Aracaju & SE & Vice-prefeito & AVANTE & Não Eleito & MASC. & PRETA  & NA & 0 & 2020\\\\\n",
       "\t6 & 260000935641 & Luis Eduardo Prado Correia        & Aracaju & SE & Vice-prefeito & PRTB   & Não Eleito & MASC. & PARDA  & NA & 0 & 2020\\\\\n",
       "\\end{tabular}\n"
      ],
      "text/markdown": [
       "\n",
       "A data.frame: 6 × 12\n",
       "\n",
       "| <!--/--> | sq_candidato &lt;dbl&gt; | Nome.Candidato &lt;chr&gt; | Cidade &lt;chr&gt; | UF &lt;chr&gt; | Cargo &lt;chr&gt; | Partido &lt;chr&gt; | Resultado_Eleitoral &lt;chr&gt; | Genero &lt;chr&gt; | Raca &lt;chr&gt; | Valor_Receita &lt;dbl&gt; | Votos &lt;int&gt; | ano &lt;int&gt; |\n",
       "|---|---|---|---|---|---|---|---|---|---|---|---|---|\n",
       "| 1 | 260000637329 | Antonio Carlos Valadares Filho    | Aracaju | SE | Vice-prefeito | PSB    | 2º Turno   | MASC. | BRANCA | NA | 0 | 2020 |\n",
       "| 2 | 260000637329 | Antonio Carlos Valadares Filho    | Aracaju | SE | Vice-prefeito | PSB    | Não Eleito | MASC. | BRANCA | NA | 0 | 2020 |\n",
       "| 3 | 260000743433 | Alda Rejane Arruda Da Silva       | Aracaju | SE | Vice-prefeito | PMB    | Não Eleito | FEM.  | PARDA  | NA | 0 | 2020 |\n",
       "| 4 | 260000835178 | José Péricles Menezes De Oliveira | Aracaju | SE | Vice-prefeito | DEM    | Não Eleito | MASC. | PARDA  | NA | 0 | 2020 |\n",
       "| 5 | 260000857749 | Davi Lima Valente Calazans        | Aracaju | SE | Vice-prefeito | AVANTE | Não Eleito | MASC. | PRETA  | NA | 0 | 2020 |\n",
       "| 6 | 260000935641 | Luis Eduardo Prado Correia        | Aracaju | SE | Vice-prefeito | PRTB   | Não Eleito | MASC. | PARDA  | NA | 0 | 2020 |\n",
       "\n"
      ],
      "text/plain": [
       "  sq_candidato Nome.Candidato                    Cidade  UF Cargo        \n",
       "1 260000637329 Antonio Carlos Valadares Filho    Aracaju SE Vice-prefeito\n",
       "2 260000637329 Antonio Carlos Valadares Filho    Aracaju SE Vice-prefeito\n",
       "3 260000743433 Alda Rejane Arruda Da Silva       Aracaju SE Vice-prefeito\n",
       "4 260000835178 José Péricles Menezes De Oliveira Aracaju SE Vice-prefeito\n",
       "5 260000857749 Davi Lima Valente Calazans        Aracaju SE Vice-prefeito\n",
       "6 260000935641 Luis Eduardo Prado Correia        Aracaju SE Vice-prefeito\n",
       "  Partido Resultado_Eleitoral Genero Raca   Valor_Receita Votos ano \n",
       "1 PSB     2º Turno            MASC.  BRANCA NA            0     2020\n",
       "2 PSB     Não Eleito          MASC.  BRANCA NA            0     2020\n",
       "3 PMB     Não Eleito          FEM.   PARDA  NA            0     2020\n",
       "4 DEM     Não Eleito          MASC.  PARDA  NA            0     2020\n",
       "5 AVANTE  Não Eleito          MASC.  PRETA  NA            0     2020\n",
       "6 PRTB    Não Eleito          MASC.  PARDA  NA            0     2020"
      ]
     },
     "metadata": {},
     "output_type": "display_data"
    }
   ],
   "source": [
    "head(prefeitura)"
   ]
  },
  {
   "cell_type": "code",
   "execution_count": 30,
   "metadata": {},
   "outputs": [
    {
     "name": "stdout",
     "output_type": "stream",
     "text": [
      "Número de prefeitos eleitos: 20 \n"
     ]
    }
   ],
   "source": [
    "# Filtrar prefeitos eleitos \n",
    "prefeitos_eleitos_20 <- candidatos_2020 %>%\n",
    "  filter(\n",
    "    Cargo == \"Prefeito\" &\n",
    "    Resultado_Eleitoral == \"Eleito\"\n",
    "  )\n",
    "\n",
    "# Contar número de prefeitos eleitos\n",
    "prefeitos_eleitos_20 <- nrow(prefeitos_eleitos_20)\n",
    "\n",
    "# Exibir resultado\n",
    "cat(\"Número de prefeitos eleitos:\", prefeitos_eleitos_20, \"\\n\")"
   ]
  },
  {
   "cell_type": "code",
   "execution_count": 31,
   "metadata": {},
   "outputs": [
    {
     "name": "stdout",
     "output_type": "stream",
     "text": [
      "Número de cidades únicas: 21 \n"
     ]
    }
   ],
   "source": [
    "num_cidades <- candidatos_2020 %>%\n",
    "  distinct(Cidade) %>%\n",
    "  nrow()\n",
    "cat(\"Número de cidades únicas:\", num_cidades, \"\\n\")"
   ]
  },
  {
   "cell_type": "code",
   "execution_count": 32,
   "metadata": {},
   "outputs": [
    {
     "data": {
      "text/html": [
       "<table class=\"dataframe\">\n",
       "<caption>A data.frame: 1 × 12</caption>\n",
       "<thead>\n",
       "\t<tr><th></th><th scope=col>sq_candidato</th><th scope=col>Nome.Candidato</th><th scope=col>Cidade</th><th scope=col>UF</th><th scope=col>Cargo</th><th scope=col>Partido</th><th scope=col>Resultado_Eleitoral</th><th scope=col>Genero</th><th scope=col>Raca</th><th scope=col>Valor_Receita</th><th scope=col>Votos</th><th scope=col>ano</th></tr>\n",
       "\t<tr><th></th><th scope=col>&lt;dbl&gt;</th><th scope=col>&lt;chr&gt;</th><th scope=col>&lt;chr&gt;</th><th scope=col>&lt;chr&gt;</th><th scope=col>&lt;chr&gt;</th><th scope=col>&lt;chr&gt;</th><th scope=col>&lt;chr&gt;</th><th scope=col>&lt;chr&gt;</th><th scope=col>&lt;chr&gt;</th><th scope=col>&lt;dbl&gt;</th><th scope=col>&lt;int&gt;</th><th scope=col>&lt;int&gt;</th></tr>\n",
       "</thead>\n",
       "<tbody>\n",
       "\t<tr><th scope=row>28717</th><td>190001091134</td><td>HENRIQUE VITAL BRAZIL SIMONARD</td><td>Rio de Janeiro</td><td>RJ</td><td>Prefeito</td><td>PCO</td><td>Não Eleito</td><td>MASC.</td><td>BRANCA</td><td>1000</td><td>0</td><td>2020</td></tr>\n",
       "</tbody>\n",
       "</table>\n"
      ],
      "text/latex": [
       "A data.frame: 1 × 12\n",
       "\\begin{tabular}{r|llllllllllll}\n",
       "  & sq\\_candidato & Nome.Candidato & Cidade & UF & Cargo & Partido & Resultado\\_Eleitoral & Genero & Raca & Valor\\_Receita & Votos & ano\\\\\n",
       "  & <dbl> & <chr> & <chr> & <chr> & <chr> & <chr> & <chr> & <chr> & <chr> & <dbl> & <int> & <int>\\\\\n",
       "\\hline\n",
       "\t28717 & 190001091134 & HENRIQUE VITAL BRAZIL SIMONARD & Rio de Janeiro & RJ & Prefeito & PCO & Não Eleito & MASC. & BRANCA & 1000 & 0 & 2020\\\\\n",
       "\\end{tabular}\n"
      ],
      "text/markdown": [
       "\n",
       "A data.frame: 1 × 12\n",
       "\n",
       "| <!--/--> | sq_candidato &lt;dbl&gt; | Nome.Candidato &lt;chr&gt; | Cidade &lt;chr&gt; | UF &lt;chr&gt; | Cargo &lt;chr&gt; | Partido &lt;chr&gt; | Resultado_Eleitoral &lt;chr&gt; | Genero &lt;chr&gt; | Raca &lt;chr&gt; | Valor_Receita &lt;dbl&gt; | Votos &lt;int&gt; | ano &lt;int&gt; |\n",
       "|---|---|---|---|---|---|---|---|---|---|---|---|---|\n",
       "| 28717 | 190001091134 | HENRIQUE VITAL BRAZIL SIMONARD | Rio de Janeiro | RJ | Prefeito | PCO | Não Eleito | MASC. | BRANCA | 1000 | 0 | 2020 |\n",
       "\n"
      ],
      "text/plain": [
       "      sq_candidato Nome.Candidato                 Cidade         UF Cargo   \n",
       "28717 190001091134 HENRIQUE VITAL BRAZIL SIMONARD Rio de Janeiro RJ Prefeito\n",
       "      Partido Resultado_Eleitoral Genero Raca   Valor_Receita Votos ano \n",
       "28717 PCO     Não Eleito          MASC.  BRANCA 1000          0     2020"
      ]
     },
     "metadata": {},
     "output_type": "display_data"
    }
   ],
   "source": [
    "# Filtrar prefeitos do Rio de Janeiro, respeitando exatamente os nomes no dataset\n",
    "prefeitos_rio <- subset(\n",
    "  candidatos_2020, \n",
    "  Cargo == \"Prefeito\" & Cidade == \"Rio de Janeiro\"\n",
    ")\n",
    "\n",
    "# Visualizar os resultados\n",
    "head(prefeitos_rio)\n",
    "\n"
   ]
  },
  {
   "cell_type": "markdown",
   "metadata": {},
   "source": [
    "\n",
    "<span style=\"font-weight:bold; color:yellow; font-size:15px\">Estamos verificando apenas os candidatos eleitos aos cargos de Prefeito e Vice-Prefeito. O objetivo é identificar cidades onde o número de eleitos para esses cargos está incorreto, ou seja, diferente de 1 para cada cargo.\n",
    "O resultado mostrará todas as candidaturas eleitas nessas cidades com inconsistência, para análise completa dos dados.</span>\n",
    "\n"
   ]
  },
  {
   "cell_type": "code",
   "execution_count": 33,
   "metadata": {},
   "outputs": [
    {
     "name": "stdout",
     "output_type": "stream",
     "text": [
      "Número de prefeitos eleitos: 20 \n"
     ]
    }
   ],
   "source": [
    "# Filtrando os prefeitos eleitos\n",
    "prefeitos_eleitos <- candidatos_2020 %>%\n",
    "  filter(\n",
    "    Cargo == \"Prefeito\",               # Filtrando pelo valor exato \"Prefeito\"\n",
    "    Resultado_Eleitoral == \"Eleito\"     # Filtrando pelo valor exato \"Eleito\"\n",
    "  )\n",
    "\n",
    "# Contando o número de prefeitos eleitos\n",
    "n_prefeitos_eleitos <- nrow(prefeitos_eleitos)\n",
    "\n",
    "# Exibindo o número de prefeitos eleitos\n",
    "cat(\"Número de prefeitos eleitos:\", n_prefeitos_eleitos, \"\\n\")"
   ]
  },
  {
   "cell_type": "code",
   "execution_count": 34,
   "metadata": {},
   "outputs": [
    {
     "name": "stdout",
     "output_type": "stream",
     "text": [
      "Número de Vice-prefeito eleitos: 21 \n"
     ]
    }
   ],
   "source": [
    "# Filtra os candidatos a vice-prefeito que foram eleitos\n",
    "prefeitos_vice_eleitos <- candidatos_2020 %>%\n",
    "  filter(\n",
    "    Cargo %in% c(\"Vice-prefeito\"),     # Filtra pelo cargo de vice-prefeito\n",
    "    Resultado_Eleitoral %in% c(\"Eleito\") # Filtra pelo resultado eleitoral (somente os eleitos)\n",
    ")\n",
    "n_prefeitos_vice_eleitos<- nrow(prefeitos_vice_eleitos)\n",
    "# Exibe os dados filtrados\n",
    "cat(\"Número de Vice-prefeito eleitos:\", n_prefeitos_vice_eleitos, \"\\n\")\n"
   ]
  },
  {
   "cell_type": "markdown",
   "metadata": {},
   "source": [
    "<span style=\"font-weight:bold; color:yellow; font-size:20px\">Confirmar que esse erro é somente no Rio de Janeiro</span>"
   ]
  },
  {
   "cell_type": "code",
   "execution_count": 35,
   "metadata": {},
   "outputs": [
    {
     "name": "stdout",
     "output_type": "stream",
     "text": [
      "'data.frame':\t18942 obs. of  12 variables:\n",
      " $ sq_candidato       : num  2.6e+11 2.6e+11 2.6e+11 2.6e+11 2.6e+11 ...\n",
      " $ Nome.Candidato     : chr  \"Antonio Carlos Valadares Filho\" \"Antonio Carlos Valadares Filho\" \"Alda Rejane Arruda Da Silva\" \"Manoel Santos Dos Anjos\" ...\n",
      " $ Cidade             : chr  \"Aracaju\" \"Aracaju\" \"Aracaju\" \"Aracaju\" ...\n",
      " $ UF                 : chr  \"SE\" \"SE\" \"SE\" \"SE\" ...\n",
      " $ Cargo              : chr  \"Vice-prefeito\" \"Vice-prefeito\" \"Vice-prefeito\" \"Vereador\" ...\n",
      " $ Partido            : chr  \"PSB\" \"PSB\" \"PMB\" \"SOLIDARIEDADE\" ...\n",
      " $ Resultado_Eleitoral: chr  \"2º Turno\" \"Não Eleito\" \"Não Eleito\" \"Não Eleito\" ...\n",
      " $ Genero             : chr  \"MASC.\" \"MASC.\" \"FEM.\" \"MASC.\" ...\n",
      " $ Raca               : chr  \"BRANCA\" \"BRANCA\" \"PARDA\" \"PARDA\" ...\n",
      " $ Valor_Receita      : num  NA NA NA NA NA NA NA NA NA NA ...\n",
      " $ Votos              : int  0 0 0 0 0 0 0 0 0 0 ...\n",
      " $ ano                : int  2020 2020 2020 2020 2020 2020 2020 2020 2020 2020 ...\n"
     ]
    }
   ],
   "source": [
    "str(candidatos_2020)"
   ]
  },
  {
   "cell_type": "code",
   "execution_count": 36,
   "metadata": {},
   "outputs": [
    {
     "name": "stdout",
     "output_type": "stream",
     "text": [
      "Total de prefeitos eleitos: 20 \n",
      "Total de vice-prefeitos eleitos: 21 \n",
      "Número de cidades com ausência de prefeito ou vice: 1 \n",
      "\u001b[90m# A tibble: 1 × 3\u001b[39m\n",
      "  Cidade         n_prefeito n_vice\n",
      "  \u001b[3m\u001b[90m<chr>\u001b[39m\u001b[23m               \u001b[3m\u001b[90m<int>\u001b[39m\u001b[23m  \u001b[3m\u001b[90m<int>\u001b[39m\u001b[23m\n",
      "\u001b[90m1\u001b[39m Rio de Janeiro          0      1\n"
     ]
    }
   ],
   "source": [
    "# 1. Filtrar apenas Prefeito e Vice-Prefeito eleitos\n",
    "prefeitos_vice_eleitos <- candidatos_2020 %>%\n",
    "  filter(Cargo %in% c(\"Prefeito\", \"Vice-prefeito\") & Resultado_Eleitoral == \"Eleito\")\n",
    "\n",
    "# Contar separadamente o total de prefeitos e vices eleitos\n",
    "total_prefeitos <- prefeitos_vice_eleitos %>%\n",
    "  filter(Cargo == \"Prefeito\") %>%\n",
    "  nrow()\n",
    "\n",
    "total_vices <- prefeitos_vice_eleitos %>%\n",
    "  filter(Cargo == \"Vice-prefeito\") %>%\n",
    "  nrow()\n",
    "\n",
    "cat(\"Total de prefeitos eleitos:\", total_prefeitos, \"\\n\")\n",
    "cat(\"Total de vice-prefeitos eleitos:\", total_vices, \"\\n\")\n",
    "\n",
    "# 2. Contar número de eleitos por cidade\n",
    "resumo_por_cidade <- prefeitos_vice_eleitos %>%\n",
    "  group_by(Cidade) %>%\n",
    "  summarise(\n",
    "    n_prefeito = sum(Cargo == \"Prefeito\"),\n",
    "    n_vice = sum(Cargo == \"Vice-prefeito\"),\n",
    "    .groups = \"drop\"\n",
    "  )\n",
    "\n",
    "# 3. Filtrar cidades onde falta prefeito OU vice\n",
    "cidades_incompletas <- resumo_por_cidade %>%\n",
    "  filter(n_prefeito == 0 | n_vice == 0)\n",
    "\n",
    "# 4. Exibir as cidades que devem ser retiradas\n",
    "cat(\"Número de cidades com ausência de prefeito ou vice:\", nrow(cidades_incompletas), \"\\n\")\n",
    "print(cidades_incompletas)\n",
    "\n"
   ]
  },
  {
   "cell_type": "markdown",
   "metadata": {},
   "source": [
    " <span style=\"font-weight:bold; color:yellow; font-size:15px\"> Devido ao fato de não termos um prefeito eleito nos dados do Rio de Janeiro, vamos tratar essa situação como uma inconsistência no banco de dados. Assim, retiraremos as candidaturas de prefeitos e vice-prefeitos dessa cidade do nosso banco de dados candidatos_2020.</span>"
   ]
  },
  {
   "cell_type": "code",
   "execution_count": 37,
   "metadata": {},
   "outputs": [
    {
     "name": "stdout",
     "output_type": "stream",
     "text": [
      "Número candidatos total 18942 \n"
     ]
    }
   ],
   "source": [
    "n_candidatos_inicial<- nrow(candidatos_2020)\n",
    "cat(\"Número candidatos total\", n_candidatos_inicial, \"\\n\")"
   ]
  },
  {
   "cell_type": "code",
   "execution_count": 38,
   "metadata": {},
   "outputs": [],
   "source": [
    "# Remover candidatos a Prefeito e Vice-prefeito das cidades incompletas\n",
    "candidatos_2020 <- candidatos_2020 %>%\n",
    "  filter(!(Cargo %in% c(\"Prefeito\", \"Vice-prefeito\") & Cidade %in% cidades_incompletas$Cidade))"
   ]
  },
  {
   "cell_type": "markdown",
   "metadata": {},
   "source": [
    "<span style=\"font-weight: bold; color: yellow; font-size: 15px;\">Confirmando exclusão da linha</span>"
   ]
  },
  {
   "cell_type": "code",
   "execution_count": 39,
   "metadata": {},
   "outputs": [
    {
     "name": "stdout",
     "output_type": "stream",
     "text": [
      "Número de prefeitos eleitos: 20 \n",
      "Número de vice-prefeitos eleitos: 20 \n"
     ]
    }
   ],
   "source": [
    "# Filtrar os prefeitos eleitos sem modificar o formato original\n",
    "prefeitos_eleitos <- candidatos_2020 %>%\n",
    "  filter(\n",
    "    Cargo == \"Prefeito\", \n",
    "    Resultado_Eleitoral == \"Eleito\"\n",
    "  )\n",
    "\n",
    "# Contar o número de prefeitos eleitos\n",
    "n_prefeitos_eleitos <- nrow(prefeitos_eleitos)\n",
    "\n",
    "# Exibir o número de prefeitos eleitos\n",
    "cat(\"Número de prefeitos eleitos:\", n_prefeitos_eleitos, \"\\n\")\n",
    "\n",
    "vice_eleitos <- candidatos_2020 %>%\n",
    "  filter(\n",
    "    Cargo == \"Vice-prefeito\", \n",
    "    Resultado_Eleitoral == \"Eleito\"\n",
    "  )\n",
    "\n",
    "# Contar o número de vice-prefeitos eleitos (corrigido de \"prefeitos\" para \"vice-prefeitos\")\n",
    "n_vice_eleitos <- nrow(vice_eleitos)\n",
    "\n",
    "# Exibir o número de vice-prefeitos eleitos (corrigido)\n",
    "cat(\"Número de vice-prefeitos eleitos:\", n_vice_eleitos, \"\\n\")\n"
   ]
  },
  {
   "cell_type": "markdown",
   "metadata": {},
   "source": [
    " <span style=\"font-weight:bold; color:yellow; font-size:20px\">prefeitura_2020 dataset inicial</span>"
   ]
  },
  {
   "cell_type": "code",
   "execution_count": 40,
   "metadata": {},
   "outputs": [],
   "source": [
    "# Subset com cargos diferentes de Vereador, chamado 'prefeitura'\n",
    "prefeitura_2020 <- candidatos_2020 %>%\n",
    "  filter(Cargo != \"Vereador\")"
   ]
  },
  {
   "cell_type": "code",
   "execution_count": 41,
   "metadata": {},
   "outputs": [
    {
     "data": {
      "text/html": [
       "<style>\n",
       ".list-inline {list-style: none; margin:0; padding: 0}\n",
       ".list-inline>li {display: inline-block}\n",
       ".list-inline>li:not(:last-child)::after {content: \"\\00b7\"; padding: 0 .5ex}\n",
       "</style>\n",
       "<ol class=list-inline><li>'Vice-prefeito'</li><li>'Prefeito'</li></ol>\n"
      ],
      "text/latex": [
       "\\begin{enumerate*}\n",
       "\\item 'Vice-prefeito'\n",
       "\\item 'Prefeito'\n",
       "\\end{enumerate*}\n"
      ],
      "text/markdown": [
       "1. 'Vice-prefeito'\n",
       "2. 'Prefeito'\n",
       "\n",
       "\n"
      ],
      "text/plain": [
       "[1] \"Vice-prefeito\" \"Prefeito\"     "
      ]
     },
     "metadata": {},
     "output_type": "display_data"
    }
   ],
   "source": [
    "unique(prefeitura_2020$Cargo)"
   ]
  },
  {
   "cell_type": "code",
   "execution_count": 42,
   "metadata": {},
   "outputs": [
    {
     "data": {
      "text/html": [
       "<style>\n",
       ".list-inline {list-style: none; margin:0; padding: 0}\n",
       ".list-inline>li {display: inline-block}\n",
       ".list-inline>li:not(:last-child)::after {content: \"\\00b7\"; padding: 0 .5ex}\n",
       "</style>\n",
       "<ol class=list-inline><li>'2º Turno'</li><li>'Não Eleito'</li><li>'Eleito'</li><li>'Nulo'</li></ol>\n"
      ],
      "text/latex": [
       "\\begin{enumerate*}\n",
       "\\item '2º Turno'\n",
       "\\item 'Não Eleito'\n",
       "\\item 'Eleito'\n",
       "\\item 'Nulo'\n",
       "\\end{enumerate*}\n"
      ],
      "text/markdown": [
       "1. '2º Turno'\n",
       "2. 'Não Eleito'\n",
       "3. 'Eleito'\n",
       "4. 'Nulo'\n",
       "\n",
       "\n"
      ],
      "text/plain": [
       "[1] \"2º Turno\"   \"Não Eleito\" \"Eleito\"     \"Nulo\"      "
      ]
     },
     "metadata": {},
     "output_type": "display_data"
    }
   ],
   "source": [
    "unique(prefeitura_2020$Resultado_Eleitoral)"
   ]
  },
  {
   "cell_type": "code",
   "execution_count": 43,
   "metadata": {},
   "outputs": [
    {
     "data": {
      "text/html": [
       "25"
      ],
      "text/latex": [
       "25"
      ],
      "text/markdown": [
       "25"
      ],
      "text/plain": [
       "[1] 25"
      ]
     },
     "metadata": {},
     "output_type": "display_data"
    }
   ],
   "source": [
    "sum(prefeitura_2020$Resultado_Eleitoral == \"Nulo\", na.rm = TRUE)"
   ]
  },
  {
   "cell_type": "code",
   "execution_count": 44,
   "metadata": {},
   "outputs": [
    {
     "name": "stdout",
     "output_type": "stream",
     "text": [
      "Número de prefeitos eleitos: 20 \n",
      "Número de vice-prefeitos eleitos: 20 \n"
     ]
    }
   ],
   "source": [
    "# Contar prefeitos eleitos\n",
    "prefeitos_eleitos <- nrow(subset(prefeitura_2020, Cargo == \"Prefeito\" & Resultado_Eleitoral == \"Eleito\"))\n",
    "\n",
    "# Contar vice-prefeitos eleitos\n",
    "vices_eleitos <- nrow(subset(prefeitura_2020, Cargo == \"Vice-prefeito\" & Resultado_Eleitoral == \"Eleito\"))\n",
    "\n",
    "# Exibir os resultados\n",
    "cat(\"Número de prefeitos eleitos:\", prefeitos_eleitos, \"\\n\")\n",
    "cat(\"Número de vice-prefeitos eleitos:\", vices_eleitos, \"\\n\")\n",
    "\n"
   ]
  },
  {
   "cell_type": "markdown",
   "metadata": {},
   "source": [
    " <span style=\"font-weight:bold; color:yellow; font-size:20px\">prefeitura_2020 Final</span>"
   ]
  },
  {
   "cell_type": "code",
   "execution_count": 45,
   "metadata": {},
   "outputs": [],
   "source": [
    "prefeitura_2020 <- subset(prefeitura_2020, Resultado_Eleitoral != \"Nulo\")"
   ]
  },
  {
   "cell_type": "markdown",
   "metadata": {},
   "source": [
    " <span style=\"font-weight:bold; color:yellow; font-size:20px\">prefeitura_2024</span>"
   ]
  },
  {
   "cell_type": "code",
   "execution_count": 46,
   "metadata": {},
   "outputs": [
    {
     "data": {
      "text/html": [
       "<style>\n",
       ".list-inline {list-style: none; margin:0; padding: 0}\n",
       ".list-inline>li {display: inline-block}\n",
       ".list-inline>li:not(:last-child)::after {content: \"\\00b7\"; padding: 0 .5ex}\n",
       "</style>\n",
       "<ol class=list-inline><li>'2º Turno'</li><li>'Não Eleito'</li><li>'Eleito'</li></ol>\n"
      ],
      "text/latex": [
       "\\begin{enumerate*}\n",
       "\\item '2º Turno'\n",
       "\\item 'Não Eleito'\n",
       "\\item 'Eleito'\n",
       "\\end{enumerate*}\n"
      ],
      "text/markdown": [
       "1. '2º Turno'\n",
       "2. 'Não Eleito'\n",
       "3. 'Eleito'\n",
       "\n",
       "\n"
      ],
      "text/plain": [
       "[1] \"2º Turno\"   \"Não Eleito\" \"Eleito\"    "
      ]
     },
     "metadata": {},
     "output_type": "display_data"
    }
   ],
   "source": [
    "unique(prefeitura_2020$Resultado_Eleitoral)"
   ]
  },
  {
   "cell_type": "code",
   "execution_count": 47,
   "metadata": {},
   "outputs": [],
   "source": [
    "# Subset com cargos diferentes de Vereador, chamado 'prefeitura'\n",
    "prefeitura_2024 <- candidatos_2024 %>%\n",
    "  filter(Cargo != \"Vereador\")"
   ]
  },
  {
   "cell_type": "code",
   "execution_count": 48,
   "metadata": {},
   "outputs": [
    {
     "data": {
      "text/html": [
       "<table class=\"dataframe\">\n",
       "<caption>A data.frame: 6 × 12</caption>\n",
       "<thead>\n",
       "\t<tr><th></th><th scope=col>sq_candidato</th><th scope=col>Nome.Candidato</th><th scope=col>Cidade</th><th scope=col>UF</th><th scope=col>Cargo</th><th scope=col>Partido</th><th scope=col>Resultado_Eleitoral</th><th scope=col>Genero</th><th scope=col>Raca</th><th scope=col>Valor_Receita</th><th scope=col>Votos</th><th scope=col>ano</th></tr>\n",
       "\t<tr><th></th><th scope=col>&lt;dbl&gt;</th><th scope=col>&lt;chr&gt;</th><th scope=col>&lt;chr&gt;</th><th scope=col>&lt;chr&gt;</th><th scope=col>&lt;chr&gt;</th><th scope=col>&lt;chr&gt;</th><th scope=col>&lt;chr&gt;</th><th scope=col>&lt;chr&gt;</th><th scope=col>&lt;chr&gt;</th><th scope=col>&lt;dbl&gt;</th><th scope=col>&lt;int&gt;</th><th scope=col>&lt;int&gt;</th></tr>\n",
       "</thead>\n",
       "<tbody>\n",
       "\t<tr><th scope=row>1</th><td>260001908298</td><td>BELIVALDO CHAGAS SILVA          </td><td>Aracaju</td><td>SE</td><td>Vice-prefeito</td><td>PODE     </td><td>Não Eleito</td><td>MASC.</td><td>BRANCA</td><td>NA</td><td> 43932</td><td>2024</td></tr>\n",
       "\t<tr><th scope=row>2</th><td>260001926363</td><td>JOSÉ RICARDO MARQUES DOS SANTOS </td><td>Aracaju</td><td>SE</td><td>Vice-prefeito</td><td>CIDADANIA</td><td>Eleito    </td><td>MASC.</td><td>BRANCA</td><td>NA</td><td>165924</td><td>2024</td></tr>\n",
       "\t<tr><th scope=row>3</th><td>260001976733</td><td>AYSLAN JORGE SANTOS DE ARAUJO   </td><td>Aracaju</td><td>SE</td><td>Vice-prefeito</td><td>MDB      </td><td>Não Eleito</td><td>MASC.</td><td>PRETA </td><td>NA</td><td> 16769</td><td>2024</td></tr>\n",
       "\t<tr><th scope=row>4</th><td>260002000359</td><td>ROSANGELA SANTANA SANTOS        </td><td>Aracaju</td><td>SE</td><td>Vice-prefeito</td><td>PT       </td><td>Não Eleito</td><td>FEM. </td><td>PRETA </td><td>NA</td><td> 28049</td><td>2024</td></tr>\n",
       "\t<tr><th scope=row>5</th><td>260002060000</td><td>FABIANO LUIS DE ALMEIDA OLIVEIRA</td><td>Aracaju</td><td>SE</td><td>Vice-prefeito</td><td>PP       </td><td>Não Eleito</td><td>MASC.</td><td>BRANCA</td><td>NA</td><td>122842</td><td>2024</td></tr>\n",
       "\t<tr><th scope=row>6</th><td>260002245400</td><td>ALEXIS MAGNUM AZEVEDO DE JESUS  </td><td>Aracaju</td><td>SE</td><td>Vice-prefeito</td><td>PSOL     </td><td>Não Eleito</td><td>MASC.</td><td>PRETA </td><td>NA</td><td> 14408</td><td>2024</td></tr>\n",
       "</tbody>\n",
       "</table>\n"
      ],
      "text/latex": [
       "A data.frame: 6 × 12\n",
       "\\begin{tabular}{r|llllllllllll}\n",
       "  & sq\\_candidato & Nome.Candidato & Cidade & UF & Cargo & Partido & Resultado\\_Eleitoral & Genero & Raca & Valor\\_Receita & Votos & ano\\\\\n",
       "  & <dbl> & <chr> & <chr> & <chr> & <chr> & <chr> & <chr> & <chr> & <chr> & <dbl> & <int> & <int>\\\\\n",
       "\\hline\n",
       "\t1 & 260001908298 & BELIVALDO CHAGAS SILVA           & Aracaju & SE & Vice-prefeito & PODE      & Não Eleito & MASC. & BRANCA & NA &  43932 & 2024\\\\\n",
       "\t2 & 260001926363 & JOSÉ RICARDO MARQUES DOS SANTOS  & Aracaju & SE & Vice-prefeito & CIDADANIA & Eleito     & MASC. & BRANCA & NA & 165924 & 2024\\\\\n",
       "\t3 & 260001976733 & AYSLAN JORGE SANTOS DE ARAUJO    & Aracaju & SE & Vice-prefeito & MDB       & Não Eleito & MASC. & PRETA  & NA &  16769 & 2024\\\\\n",
       "\t4 & 260002000359 & ROSANGELA SANTANA SANTOS         & Aracaju & SE & Vice-prefeito & PT        & Não Eleito & FEM.  & PRETA  & NA &  28049 & 2024\\\\\n",
       "\t5 & 260002060000 & FABIANO LUIS DE ALMEIDA OLIVEIRA & Aracaju & SE & Vice-prefeito & PP        & Não Eleito & MASC. & BRANCA & NA & 122842 & 2024\\\\\n",
       "\t6 & 260002245400 & ALEXIS MAGNUM AZEVEDO DE JESUS   & Aracaju & SE & Vice-prefeito & PSOL      & Não Eleito & MASC. & PRETA  & NA &  14408 & 2024\\\\\n",
       "\\end{tabular}\n"
      ],
      "text/markdown": [
       "\n",
       "A data.frame: 6 × 12\n",
       "\n",
       "| <!--/--> | sq_candidato &lt;dbl&gt; | Nome.Candidato &lt;chr&gt; | Cidade &lt;chr&gt; | UF &lt;chr&gt; | Cargo &lt;chr&gt; | Partido &lt;chr&gt; | Resultado_Eleitoral &lt;chr&gt; | Genero &lt;chr&gt; | Raca &lt;chr&gt; | Valor_Receita &lt;dbl&gt; | Votos &lt;int&gt; | ano &lt;int&gt; |\n",
       "|---|---|---|---|---|---|---|---|---|---|---|---|---|\n",
       "| 1 | 260001908298 | BELIVALDO CHAGAS SILVA           | Aracaju | SE | Vice-prefeito | PODE      | Não Eleito | MASC. | BRANCA | NA |  43932 | 2024 |\n",
       "| 2 | 260001926363 | JOSÉ RICARDO MARQUES DOS SANTOS  | Aracaju | SE | Vice-prefeito | CIDADANIA | Eleito     | MASC. | BRANCA | NA | 165924 | 2024 |\n",
       "| 3 | 260001976733 | AYSLAN JORGE SANTOS DE ARAUJO    | Aracaju | SE | Vice-prefeito | MDB       | Não Eleito | MASC. | PRETA  | NA |  16769 | 2024 |\n",
       "| 4 | 260002000359 | ROSANGELA SANTANA SANTOS         | Aracaju | SE | Vice-prefeito | PT        | Não Eleito | FEM.  | PRETA  | NA |  28049 | 2024 |\n",
       "| 5 | 260002060000 | FABIANO LUIS DE ALMEIDA OLIVEIRA | Aracaju | SE | Vice-prefeito | PP        | Não Eleito | MASC. | BRANCA | NA | 122842 | 2024 |\n",
       "| 6 | 260002245400 | ALEXIS MAGNUM AZEVEDO DE JESUS   | Aracaju | SE | Vice-prefeito | PSOL      | Não Eleito | MASC. | PRETA  | NA |  14408 | 2024 |\n",
       "\n"
      ],
      "text/plain": [
       "  sq_candidato Nome.Candidato                   Cidade  UF Cargo        \n",
       "1 260001908298 BELIVALDO CHAGAS SILVA           Aracaju SE Vice-prefeito\n",
       "2 260001926363 JOSÉ RICARDO MARQUES DOS SANTOS  Aracaju SE Vice-prefeito\n",
       "3 260001976733 AYSLAN JORGE SANTOS DE ARAUJO    Aracaju SE Vice-prefeito\n",
       "4 260002000359 ROSANGELA SANTANA SANTOS         Aracaju SE Vice-prefeito\n",
       "5 260002060000 FABIANO LUIS DE ALMEIDA OLIVEIRA Aracaju SE Vice-prefeito\n",
       "6 260002245400 ALEXIS MAGNUM AZEVEDO DE JESUS   Aracaju SE Vice-prefeito\n",
       "  Partido   Resultado_Eleitoral Genero Raca   Valor_Receita Votos  ano \n",
       "1 PODE      Não Eleito          MASC.  BRANCA NA             43932 2024\n",
       "2 CIDADANIA Eleito              MASC.  BRANCA NA            165924 2024\n",
       "3 MDB       Não Eleito          MASC.  PRETA  NA             16769 2024\n",
       "4 PT        Não Eleito          FEM.   PRETA  NA             28049 2024\n",
       "5 PP        Não Eleito          MASC.  BRANCA NA            122842 2024\n",
       "6 PSOL      Não Eleito          MASC.  PRETA  NA             14408 2024"
      ]
     },
     "metadata": {},
     "output_type": "display_data"
    }
   ],
   "source": [
    "head(prefeitura_2024)"
   ]
  },
  {
   "cell_type": "code",
   "execution_count": 50,
   "metadata": {},
   "outputs": [],
   "source": [
    "#write.csv(prefeitura_2024,  \"../data/prefeitura_2024.csv\", row.names = FALSE)"
   ]
  },
  {
   "cell_type": "code",
   "execution_count": 101,
   "metadata": {},
   "outputs": [
    {
     "name": "stdout",
     "output_type": "stream",
     "text": [
      "Número de prefeitos eleitos: 14 \n"
     ]
    }
   ],
   "source": [
    "# Filtrar prefeitos eleitos \n",
    "prefeitos_eleitos_24 <- prefeitura_2024 %>%\n",
    "  filter(\n",
    "    Cargo == \"Prefeito\" &\n",
    "    Resultado_Eleitoral == \"Eleito\"\n",
    "  )\n",
    "\n",
    "# Contar número de prefeitos eleitos\n",
    "prefeitos_eleitos_24 <- nrow(prefeitos_eleitos_24)\n",
    "\n",
    "# Exibir resultado\n",
    "cat(\"Número de prefeitos eleitos:\", prefeitos_eleitos_24, \"\\n\")"
   ]
  },
  {
   "cell_type": "code",
   "execution_count": 51,
   "metadata": {},
   "outputs": [
    {
     "data": {
      "text/html": [
       "<style>\n",
       ".list-inline {list-style: none; margin:0; padding: 0}\n",
       ".list-inline>li {display: inline-block}\n",
       ".list-inline>li:not(:last-child)::after {content: \"\\00b7\"; padding: 0 .5ex}\n",
       "</style>\n",
       "<ol class=list-inline><li>'Não Eleito'</li><li>'Eleito'</li><li>''</li><li>'2º Turno'</li></ol>\n"
      ],
      "text/latex": [
       "\\begin{enumerate*}\n",
       "\\item 'Não Eleito'\n",
       "\\item 'Eleito'\n",
       "\\item ''\n",
       "\\item '2º Turno'\n",
       "\\end{enumerate*}\n"
      ],
      "text/markdown": [
       "1. 'Não Eleito'\n",
       "2. 'Eleito'\n",
       "3. ''\n",
       "4. '2º Turno'\n",
       "\n",
       "\n"
      ],
      "text/plain": [
       "[1] \"Não Eleito\" \"Eleito\"     \"\"           \"2º Turno\"  "
      ]
     },
     "metadata": {},
     "output_type": "display_data"
    }
   ],
   "source": [
    "unique(prefeitura_2024$Resultado_Eleitoral)"
   ]
  },
  {
   "cell_type": "code",
   "execution_count": 52,
   "metadata": {},
   "outputs": [
    {
     "data": {
      "text/html": [
       "10"
      ],
      "text/latex": [
       "10"
      ],
      "text/markdown": [
       "10"
      ],
      "text/plain": [
       "[1] 10"
      ]
     },
     "metadata": {},
     "output_type": "display_data"
    }
   ],
   "source": [
    "sum(prefeitura_2024$Resultado_Eleitoral == '2º Turno' & prefeitura_2024$Cargo == 'Prefeito')\n"
   ]
  },
  {
   "cell_type": "code",
   "execution_count": 53,
   "metadata": {},
   "outputs": [
    {
     "data": {
      "text/html": [
       "0"
      ],
      "text/latex": [
       "0"
      ],
      "text/markdown": [
       "0"
      ],
      "text/plain": [
       "[1] 0"
      ]
     },
     "metadata": {},
     "output_type": "display_data"
    }
   ],
   "source": [
    "sum(trimws(candidatos_2024$Resultado_Eleitoral) == \"2º Turno\" &\n",
    "    trimws(candidatos_2024$Cargo) == \"Vice-prefeito\")\n"
   ]
  },
  {
   "cell_type": "code",
   "execution_count": 54,
   "metadata": {},
   "outputs": [
    {
     "data": {
      "text/html": [
       "0"
      ],
      "text/latex": [
       "0"
      ],
      "text/markdown": [
       "0"
      ],
      "text/plain": [
       "[1] 0"
      ]
     },
     "metadata": {},
     "output_type": "display_data"
    }
   ],
   "source": [
    "sum(trimws(prefeitura_2024$Resultado_Eleitoral) == \"2º Turno\" &\n",
    "    trimws(prefeitura_2024$Cargo) == \"Vice-prefeito\")\n"
   ]
  },
  {
   "cell_type": "code",
   "execution_count": 55,
   "metadata": {},
   "outputs": [
    {
     "data": {
      "text/html": [
       "21"
      ],
      "text/latex": [
       "21"
      ],
      "text/markdown": [
       "21"
      ],
      "text/plain": [
       "[1] 21"
      ]
     },
     "metadata": {},
     "output_type": "display_data"
    }
   ],
   "source": [
    "length(unique(candidatos_2024$Cidade))"
   ]
  },
  {
   "cell_type": "code",
   "execution_count": 56,
   "metadata": {},
   "outputs": [],
   "source": [
    "library(dplyr)\n",
    "\n",
    "# Passo 1: identificar (UF, Cidade) onde há prefeito “Eleito” no Cargo Prefeito\n",
    "cidades_com_prefeito <- prefeitura_2024 %>%\n",
    "  filter(Cargo == \"Prefeito\", Resultado_Eleitoral == \"Eleito\") %>%\n",
    "  distinct(UF, Cidade) %>%\n",
    "  mutate(chave = paste(UF, Cidade, sep = \"_\")) %>%\n",
    "  pull(chave)\n",
    "\n",
    "# Passo 2: criar a mesma chave em prefeitura_2024\n",
    "prefeitura_2024 <- prefeitura_2024 %>%\n",
    "  mutate(chave = paste(UF, Cidade, sep = \"_\"))\n",
    "\n",
    "# Passo 3: filtrar só as linhas cujas (UF, Cidade) têm prefeito eleito E_RESULTADO “Eleito”\n",
    "#          isto já garante que não aparecerá “2º Turno” no subset\n",
    "prefeitura_2024_elei <- prefeitura_2024 %>%\n",
    "  filter(chave %in% cidades_com_prefeito,\n",
    "         Cargo == \"Prefeito\",\n",
    "         Resultado_Eleitoral == \"Eleito\") %>%\n",
    "  select(-chave)\n"
   ]
  },
  {
   "cell_type": "code",
   "execution_count": 57,
   "metadata": {},
   "outputs": [],
   "source": [
    "library(dplyr)\n",
    "\n",
    "# 1. Filtrar apenas os prefeitos eleitos\n",
    "prefeitos_eleitos <- prefeitura_2024 %>%\n",
    "  filter(Cargo == \"Prefeito\", Resultado_Eleitoral == \"Eleito\")\n",
    "\n",
    "# 2. Extrair combinações únicas de UF e Cidade desses prefeitos\n",
    "cidades_prefeitos <- prefeitos_eleitos %>%\n",
    "  distinct(UF, Cidade)\n",
    "\n",
    "# 3. Subset: manter todas as linhas de 'prefeitura_2024' cujas UF e Cidade estejam em 'cidades_prefeitos'\n",
    "prefeitura_2024_elei <- prefeitura_2024 %>%\n",
    "  semi_join(cidades_prefeitos, by = c(\"UF\", \"Cidade\"))\n"
   ]
  },
  {
   "cell_type": "code",
   "execution_count": 58,
   "metadata": {},
   "outputs": [
    {
     "name": "stdout",
     "output_type": "stream",
     "text": [
      "'data.frame':\t207 obs. of  13 variables:\n",
      " $ sq_candidato       : num  1.4e+11 1.4e+11 1.4e+11 1.4e+11 1.4e+11 ...\n",
      " $ Nome.Candidato     : chr  \"TATIANE CALABRIA COELHO\" \"EDILSON MOURA DA SILVA\" \"CÁSSIO COELHO ANDRADE\" \"ALINE DO SOCORRO LIMA KZAM\" ...\n",
      " $ Cidade             : chr  \"Belém\" \"Belém\" \"Belém\" \"Belém\" ...\n",
      " $ UF                 : chr  \"PA\" \"PA\" \"PA\" \"PA\" ...\n",
      " $ Cargo              : chr  \"Vice-prefeito\" \"Vice-prefeito\" \"Vice-prefeito\" \"Vice-prefeito\" ...\n",
      " $ Partido            : chr  \"PL\" \"PT\" \"MDB\" \"PODE\" ...\n",
      " $ Resultado_Eleitoral: chr  \"Não Eleito\" \"Não Eleito\" \"Eleito\" \"Não Eleito\" ...\n",
      " $ Genero             : chr  \"FEM.\" \"MASC.\" \"MASC.\" \"FEM.\" ...\n",
      " $ Raca               : chr  \"BRANCA\" \"PRETA\" \"PARDA\" \"BRANCA\" ...\n",
      " $ Valor_Receita      : num  NA NA NA NA NA NA NA NA NA NA ...\n",
      " $ Votos              : int  326411 78401 421485 36354 NA 4028 3450 2053 62271 2918 ...\n",
      " $ ano                : int  2024 2024 2024 2024 2024 2024 2024 2024 2024 2024 ...\n",
      " $ chave              : chr  \"PA_Belém\" \"PA_Belém\" \"PA_Belém\" \"PA_Belém\" ...\n"
     ]
    }
   ],
   "source": [
    "str(prefeitura_2024_elei)"
   ]
  },
  {
   "cell_type": "code",
   "execution_count": 59,
   "metadata": {},
   "outputs": [
    {
     "data": {
      "text/html": [
       "<dl>\n",
       "\t<dt>$UF</dt>\n",
       "\t\t<dd><style>\n",
       ".list-inline {list-style: none; margin:0; padding: 0}\n",
       ".list-inline>li {display: inline-block}\n",
       ".list-inline>li:not(:last-child)::after {content: \"\\00b7\"; padding: 0 .5ex}\n",
       "</style>\n",
       "<ol class=list-inline><li>'PA'</li><li>'MG'</li><li>'RR'</li><li>'PR'</li><li>'SC'</li><li>'CE'</li><li>'GO'</li><li>'AP'</li><li>'AL'</li><li>'RN'</li><li>'TO'</li><li>'RS'</li><li>'PE'</li><li>'AC'</li></ol>\n",
       "</dd>\n",
       "\t<dt>$Cidade</dt>\n",
       "\t\t<dd><style>\n",
       ".list-inline {list-style: none; margin:0; padding: 0}\n",
       ".list-inline>li {display: inline-block}\n",
       ".list-inline>li:not(:last-child)::after {content: \"\\00b7\"; padding: 0 .5ex}\n",
       "</style>\n",
       "<ol class=list-inline><li>'Belém'</li><li>'Belo Horizonte'</li><li>'Boa Vista'</li><li>'Curitiba'</li><li>'Florianópolis'</li><li>'Fortaleza'</li><li>'Goiânia'</li><li>'Macapá'</li><li>'Maceió'</li><li>'Natal'</li><li>'Palmas'</li><li>'Porto Alegre'</li><li>'Recife'</li><li>'Rio Branco'</li></ol>\n",
       "</dd>\n",
       "\t<dt>$Cargo</dt>\n",
       "\t\t<dd><style>\n",
       ".list-inline {list-style: none; margin:0; padding: 0}\n",
       ".list-inline>li {display: inline-block}\n",
       ".list-inline>li:not(:last-child)::after {content: \"\\00b7\"; padding: 0 .5ex}\n",
       "</style>\n",
       "<ol class=list-inline><li>'Vice-prefeito'</li><li>'Prefeito'</li></ol>\n",
       "</dd>\n",
       "\t<dt>$Partido</dt>\n",
       "\t\t<dd><style>\n",
       ".list-inline {list-style: none; margin:0; padding: 0}\n",
       ".list-inline>li {display: inline-block}\n",
       ".list-inline>li:not(:last-child)::after {content: \"\\00b7\"; padding: 0 .5ex}\n",
       "</style>\n",
       "<ol class=list-inline><li>'PL'</li><li>'PT'</li><li>'MDB'</li><li>'PODE'</li><li>'NOVO'</li><li>'UP'</li><li>'PSTU'</li><li>'AGIR'</li><li>'PRTB'</li><li>'REPUBLICANOS'</li><li>'PSOL'</li><li>'UNIÃO'</li><li>'PSB'</li><li>'PDT'</li><li>'PCO'</li><li>'PSD'</li><li>'REDE'</li><li>'PV'</li><li>'PP'</li><li>'SOLIDARIEDADE'</li><li>'MOBILIZA'</li><li>'PMB'</li><li>'AVANTE'</li><li>'PSDB'</li><li>'PCB'</li><li>'DC'</li><li>'PC do B'</li></ol>\n",
       "</dd>\n",
       "\t<dt>$Resultado_Eleitoral</dt>\n",
       "\t\t<dd><style>\n",
       ".list-inline {list-style: none; margin:0; padding: 0}\n",
       ".list-inline>li {display: inline-block}\n",
       ".list-inline>li:not(:last-child)::after {content: \"\\00b7\"; padding: 0 .5ex}\n",
       "</style>\n",
       "<ol class=list-inline><li>'Não Eleito'</li><li>'Eleito'</li><li>''</li><li>'2º Turno'</li></ol>\n",
       "</dd>\n",
       "\t<dt>$Genero</dt>\n",
       "\t\t<dd><style>\n",
       ".list-inline {list-style: none; margin:0; padding: 0}\n",
       ".list-inline>li {display: inline-block}\n",
       ".list-inline>li:not(:last-child)::after {content: \"\\00b7\"; padding: 0 .5ex}\n",
       "</style>\n",
       "<ol class=list-inline><li>'FEM.'</li><li>'MASC.'</li></ol>\n",
       "</dd>\n",
       "\t<dt>$Raca</dt>\n",
       "\t\t<dd><style>\n",
       ".list-inline {list-style: none; margin:0; padding: 0}\n",
       ".list-inline>li {display: inline-block}\n",
       ".list-inline>li:not(:last-child)::after {content: \"\\00b7\"; padding: 0 .5ex}\n",
       "</style>\n",
       "<ol class=list-inline><li>'BRANCA'</li><li>'PRETA'</li><li>'PARDA'</li><li>'AMARELA'</li></ol>\n",
       "</dd>\n",
       "\t<dt>$ano</dt>\n",
       "\t\t<dd>2024</dd>\n",
       "</dl>\n"
      ],
      "text/latex": [
       "\\begin{description}\n",
       "\\item[\\$UF] \\begin{enumerate*}\n",
       "\\item 'PA'\n",
       "\\item 'MG'\n",
       "\\item 'RR'\n",
       "\\item 'PR'\n",
       "\\item 'SC'\n",
       "\\item 'CE'\n",
       "\\item 'GO'\n",
       "\\item 'AP'\n",
       "\\item 'AL'\n",
       "\\item 'RN'\n",
       "\\item 'TO'\n",
       "\\item 'RS'\n",
       "\\item 'PE'\n",
       "\\item 'AC'\n",
       "\\end{enumerate*}\n",
       "\n",
       "\\item[\\$Cidade] \\begin{enumerate*}\n",
       "\\item 'Belém'\n",
       "\\item 'Belo Horizonte'\n",
       "\\item 'Boa Vista'\n",
       "\\item 'Curitiba'\n",
       "\\item 'Florianópolis'\n",
       "\\item 'Fortaleza'\n",
       "\\item 'Goiânia'\n",
       "\\item 'Macapá'\n",
       "\\item 'Maceió'\n",
       "\\item 'Natal'\n",
       "\\item 'Palmas'\n",
       "\\item 'Porto Alegre'\n",
       "\\item 'Recife'\n",
       "\\item 'Rio Branco'\n",
       "\\end{enumerate*}\n",
       "\n",
       "\\item[\\$Cargo] \\begin{enumerate*}\n",
       "\\item 'Vice-prefeito'\n",
       "\\item 'Prefeito'\n",
       "\\end{enumerate*}\n",
       "\n",
       "\\item[\\$Partido] \\begin{enumerate*}\n",
       "\\item 'PL'\n",
       "\\item 'PT'\n",
       "\\item 'MDB'\n",
       "\\item 'PODE'\n",
       "\\item 'NOVO'\n",
       "\\item 'UP'\n",
       "\\item 'PSTU'\n",
       "\\item 'AGIR'\n",
       "\\item 'PRTB'\n",
       "\\item 'REPUBLICANOS'\n",
       "\\item 'PSOL'\n",
       "\\item 'UNIÃO'\n",
       "\\item 'PSB'\n",
       "\\item 'PDT'\n",
       "\\item 'PCO'\n",
       "\\item 'PSD'\n",
       "\\item 'REDE'\n",
       "\\item 'PV'\n",
       "\\item 'PP'\n",
       "\\item 'SOLIDARIEDADE'\n",
       "\\item 'MOBILIZA'\n",
       "\\item 'PMB'\n",
       "\\item 'AVANTE'\n",
       "\\item 'PSDB'\n",
       "\\item 'PCB'\n",
       "\\item 'DC'\n",
       "\\item 'PC do B'\n",
       "\\end{enumerate*}\n",
       "\n",
       "\\item[\\$Resultado\\_Eleitoral] \\begin{enumerate*}\n",
       "\\item 'Não Eleito'\n",
       "\\item 'Eleito'\n",
       "\\item ''\n",
       "\\item '2º Turno'\n",
       "\\end{enumerate*}\n",
       "\n",
       "\\item[\\$Genero] \\begin{enumerate*}\n",
       "\\item 'FEM.'\n",
       "\\item 'MASC.'\n",
       "\\end{enumerate*}\n",
       "\n",
       "\\item[\\$Raca] \\begin{enumerate*}\n",
       "\\item 'BRANCA'\n",
       "\\item 'PRETA'\n",
       "\\item 'PARDA'\n",
       "\\item 'AMARELA'\n",
       "\\end{enumerate*}\n",
       "\n",
       "\\item[\\$ano] 2024\n",
       "\\end{description}\n"
      ],
      "text/markdown": [
       "$UF\n",
       ":   1. 'PA'\n",
       "2. 'MG'\n",
       "3. 'RR'\n",
       "4. 'PR'\n",
       "5. 'SC'\n",
       "6. 'CE'\n",
       "7. 'GO'\n",
       "8. 'AP'\n",
       "9. 'AL'\n",
       "10. 'RN'\n",
       "11. 'TO'\n",
       "12. 'RS'\n",
       "13. 'PE'\n",
       "14. 'AC'\n",
       "\n",
       "\n",
       "\n",
       "$Cidade\n",
       ":   1. 'Belém'\n",
       "2. 'Belo Horizonte'\n",
       "3. 'Boa Vista'\n",
       "4. 'Curitiba'\n",
       "5. 'Florianópolis'\n",
       "6. 'Fortaleza'\n",
       "7. 'Goiânia'\n",
       "8. 'Macapá'\n",
       "9. 'Maceió'\n",
       "10. 'Natal'\n",
       "11. 'Palmas'\n",
       "12. 'Porto Alegre'\n",
       "13. 'Recife'\n",
       "14. 'Rio Branco'\n",
       "\n",
       "\n",
       "\n",
       "$Cargo\n",
       ":   1. 'Vice-prefeito'\n",
       "2. 'Prefeito'\n",
       "\n",
       "\n",
       "\n",
       "$Partido\n",
       ":   1. 'PL'\n",
       "2. 'PT'\n",
       "3. 'MDB'\n",
       "4. 'PODE'\n",
       "5. 'NOVO'\n",
       "6. 'UP'\n",
       "7. 'PSTU'\n",
       "8. 'AGIR'\n",
       "9. 'PRTB'\n",
       "10. 'REPUBLICANOS'\n",
       "11. 'PSOL'\n",
       "12. 'UNIÃO'\n",
       "13. 'PSB'\n",
       "14. 'PDT'\n",
       "15. 'PCO'\n",
       "16. 'PSD'\n",
       "17. 'REDE'\n",
       "18. 'PV'\n",
       "19. 'PP'\n",
       "20. 'SOLIDARIEDADE'\n",
       "21. 'MOBILIZA'\n",
       "22. 'PMB'\n",
       "23. 'AVANTE'\n",
       "24. 'PSDB'\n",
       "25. 'PCB'\n",
       "26. 'DC'\n",
       "27. 'PC do B'\n",
       "\n",
       "\n",
       "\n",
       "$Resultado_Eleitoral\n",
       ":   1. 'Não Eleito'\n",
       "2. 'Eleito'\n",
       "3. ''\n",
       "4. '2º Turno'\n",
       "\n",
       "\n",
       "\n",
       "$Genero\n",
       ":   1. 'FEM.'\n",
       "2. 'MASC.'\n",
       "\n",
       "\n",
       "\n",
       "$Raca\n",
       ":   1. 'BRANCA'\n",
       "2. 'PRETA'\n",
       "3. 'PARDA'\n",
       "4. 'AMARELA'\n",
       "\n",
       "\n",
       "\n",
       "$ano\n",
       ":   2024\n",
       "\n",
       "\n"
      ],
      "text/plain": [
       "$UF\n",
       " [1] \"PA\" \"MG\" \"RR\" \"PR\" \"SC\" \"CE\" \"GO\" \"AP\" \"AL\" \"RN\" \"TO\" \"RS\" \"PE\" \"AC\"\n",
       "\n",
       "$Cidade\n",
       " [1] \"Belém\"          \"Belo Horizonte\" \"Boa Vista\"      \"Curitiba\"      \n",
       " [5] \"Florianópolis\"  \"Fortaleza\"      \"Goiânia\"        \"Macapá\"        \n",
       " [9] \"Maceió\"         \"Natal\"          \"Palmas\"         \"Porto Alegre\"  \n",
       "[13] \"Recife\"         \"Rio Branco\"    \n",
       "\n",
       "$Cargo\n",
       "[1] \"Vice-prefeito\" \"Prefeito\"     \n",
       "\n",
       "$Partido\n",
       " [1] \"PL\"            \"PT\"            \"MDB\"           \"PODE\"         \n",
       " [5] \"NOVO\"          \"UP\"            \"PSTU\"          \"AGIR\"         \n",
       " [9] \"PRTB\"          \"REPUBLICANOS\"  \"PSOL\"          \"UNIÃO\"        \n",
       "[13] \"PSB\"           \"PDT\"           \"PCO\"           \"PSD\"          \n",
       "[17] \"REDE\"          \"PV\"            \"PP\"            \"SOLIDARIEDADE\"\n",
       "[21] \"MOBILIZA\"      \"PMB\"           \"AVANTE\"        \"PSDB\"         \n",
       "[25] \"PCB\"           \"DC\"            \"PC do B\"      \n",
       "\n",
       "$Resultado_Eleitoral\n",
       "[1] \"Não Eleito\" \"Eleito\"     \"\"           \"2º Turno\"  \n",
       "\n",
       "$Genero\n",
       "[1] \"FEM.\"  \"MASC.\"\n",
       "\n",
       "$Raca\n",
       "[1] \"BRANCA\"  \"PRETA\"   \"PARDA\"   \"AMARELA\"\n",
       "\n",
       "$ano\n",
       "[1] 2024\n"
      ]
     },
     "metadata": {},
     "output_type": "display_data"
    }
   ],
   "source": [
    "valores_unicos_2024el <- lapply(prefeitura_2024_elei[c(\"UF\",\"Cidade\", \"Cargo\", \"Partido\", \"Resultado_Eleitoral\",\n",
    "                                 \"Genero\", \"Raca\", \"ano\")], unique)\n",
    "valores_unicos_2024el\n"
   ]
  },
  {
   "cell_type": "markdown",
   "metadata": {},
   "source": [
    "Temos 14 cidades com prefeitos eleitos  em 21"
   ]
  },
  {
   "cell_type": "markdown",
   "metadata": {},
   "source": [
    " <span style=\"font-weight:bold; color:yellow; font-size:20px\">Deixando apenas as cidades com prefeito eleito"
   ]
  },
  {
   "cell_type": "code",
   "execution_count": 82,
   "metadata": {},
   "outputs": [],
   "source": [
    "prefeitura_2024_elei <- subset(prefeitura_2024,\n",
    "                                Cidade %in% prefeitura_2024_elei &\n",
    "                                Resultado_Eleitoral == \"Eleito\")\n"
   ]
  },
  {
   "cell_type": "code",
   "execution_count": 83,
   "metadata": {},
   "outputs": [
    {
     "data": {
      "text/html": [
       "0"
      ],
      "text/latex": [
       "0"
      ],
      "text/markdown": [
       "0"
      ],
      "text/plain": [
       "[1] 0"
      ]
     },
     "metadata": {},
     "output_type": "display_data"
    }
   ],
   "source": [
    "nrow(prefeitura_2024_elei)"
   ]
  },
  {
   "cell_type": "markdown",
   "metadata": {},
   "source": [
    "somando dataset  "
   ]
  },
  {
   "cell_type": "code",
   "execution_count": 84,
   "metadata": {},
   "outputs": [
    {
     "data": {
      "text/html": [
       "300"
      ],
      "text/latex": [
       "300"
      ],
      "text/markdown": [
       "300"
      ],
      "text/plain": [
       "[1] 300"
      ]
     },
     "metadata": {},
     "output_type": "display_data"
    }
   ],
   "source": [
    "nrow(prefeitura_2024)"
   ]
  },
  {
   "cell_type": "code",
   "execution_count": 85,
   "metadata": {},
   "outputs": [],
   "source": [
    "prefeitura <- rbind(prefeitura_2020, prefeitura_2024_elei)\n"
   ]
  },
  {
   "cell_type": "code",
   "execution_count": 86,
   "metadata": {},
   "outputs": [
    {
     "data": {
      "text/html": [
       "0"
      ],
      "text/latex": [
       "0"
      ],
      "text/markdown": [
       "0"
      ],
      "text/plain": [
       "[1] 0"
      ]
     },
     "metadata": {},
     "output_type": "display_data"
    }
   ],
   "source": [
    "sum(trimws(candidatos_2024$Resultado_Eleitoral) == \"2º Turno\" &\n",
    "    trimws(candidatos_2024$Cargo) == \"Vice-prefeito\")"
   ]
  },
  {
   "cell_type": "code",
   "execution_count": 87,
   "metadata": {},
   "outputs": [
    {
     "data": {
      "text/html": [
       "0"
      ],
      "text/latex": [
       "0"
      ],
      "text/markdown": [
       "0"
      ],
      "text/plain": [
       "[1] 0"
      ]
     },
     "metadata": {},
     "output_type": "display_data"
    }
   ],
   "source": [
    "sum(prefeitura_2024_elei$Resultado_Eleitoral == \"2º Turno\")"
   ]
  },
  {
   "cell_type": "code",
   "execution_count": 88,
   "metadata": {},
   "outputs": [
    {
     "data": {
      "text/html": [
       "<table class=\"dataframe\">\n",
       "<caption>A data.frame: 0 × 13</caption>\n",
       "<thead>\n",
       "\t<tr><th scope=col>sq_candidato</th><th scope=col>Nome.Candidato</th><th scope=col>Cidade</th><th scope=col>UF</th><th scope=col>Cargo</th><th scope=col>Partido</th><th scope=col>Resultado_Eleitoral</th><th scope=col>Genero</th><th scope=col>Raca</th><th scope=col>Valor_Receita</th><th scope=col>Votos</th><th scope=col>ano</th><th scope=col>chave</th></tr>\n",
       "\t<tr><th scope=col>&lt;dbl&gt;</th><th scope=col>&lt;chr&gt;</th><th scope=col>&lt;chr&gt;</th><th scope=col>&lt;chr&gt;</th><th scope=col>&lt;chr&gt;</th><th scope=col>&lt;chr&gt;</th><th scope=col>&lt;chr&gt;</th><th scope=col>&lt;chr&gt;</th><th scope=col>&lt;chr&gt;</th><th scope=col>&lt;dbl&gt;</th><th scope=col>&lt;int&gt;</th><th scope=col>&lt;int&gt;</th><th scope=col>&lt;chr&gt;</th></tr>\n",
       "</thead>\n",
       "<tbody>\n",
       "</tbody>\n",
       "</table>\n"
      ],
      "text/latex": [
       "A data.frame: 0 × 13\n",
       "\\begin{tabular}{lllllllllllll}\n",
       " sq\\_candidato & Nome.Candidato & Cidade & UF & Cargo & Partido & Resultado\\_Eleitoral & Genero & Raca & Valor\\_Receita & Votos & ano & chave\\\\\n",
       " <dbl> & <chr> & <chr> & <chr> & <chr> & <chr> & <chr> & <chr> & <chr> & <dbl> & <int> & <int> & <chr>\\\\\n",
       "\\hline\n",
       "\\end{tabular}\n"
      ],
      "text/markdown": [
       "\n",
       "A data.frame: 0 × 13\n",
       "\n",
       "| sq_candidato &lt;dbl&gt; | Nome.Candidato &lt;chr&gt; | Cidade &lt;chr&gt; | UF &lt;chr&gt; | Cargo &lt;chr&gt; | Partido &lt;chr&gt; | Resultado_Eleitoral &lt;chr&gt; | Genero &lt;chr&gt; | Raca &lt;chr&gt; | Valor_Receita &lt;dbl&gt; | Votos &lt;int&gt; | ano &lt;int&gt; | chave &lt;chr&gt; |\n",
       "|---|---|---|---|---|---|---|---|---|---|---|---|---|\n",
       "\n"
      ],
      "text/plain": [
       "     sq_candidato Nome.Candidato Cidade UF Cargo Partido Resultado_Eleitoral\n",
       "     Genero Raca Valor_Receita Votos ano chave"
      ]
     },
     "metadata": {},
     "output_type": "display_data"
    }
   ],
   "source": [
    "subset(prefeitura_2024_elei, Resultado_Eleitoral == \"2º Turno\")\n"
   ]
  },
  {
   "cell_type": "code",
   "execution_count": 89,
   "metadata": {},
   "outputs": [
    {
     "data": {
      "text/html": [
       "<table class=\"dataframe\">\n",
       "<caption>A data.frame: 6 × 13</caption>\n",
       "<thead>\n",
       "\t<tr><th></th><th scope=col>sq_candidato</th><th scope=col>Nome.Candidato</th><th scope=col>Cidade</th><th scope=col>UF</th><th scope=col>Cargo</th><th scope=col>Partido</th><th scope=col>Resultado_Eleitoral</th><th scope=col>Genero</th><th scope=col>Raca</th><th scope=col>Valor_Receita</th><th scope=col>Votos</th><th scope=col>ano</th><th scope=col>chave</th></tr>\n",
       "\t<tr><th></th><th scope=col>&lt;dbl&gt;</th><th scope=col>&lt;chr&gt;</th><th scope=col>&lt;chr&gt;</th><th scope=col>&lt;chr&gt;</th><th scope=col>&lt;chr&gt;</th><th scope=col>&lt;chr&gt;</th><th scope=col>&lt;chr&gt;</th><th scope=col>&lt;chr&gt;</th><th scope=col>&lt;chr&gt;</th><th scope=col>&lt;dbl&gt;</th><th scope=col>&lt;int&gt;</th><th scope=col>&lt;int&gt;</th><th scope=col>&lt;chr&gt;</th></tr>\n",
       "</thead>\n",
       "<tbody>\n",
       "\t<tr><th scope=row>1</th><td>260001908298</td><td>BELIVALDO CHAGAS SILVA          </td><td>Aracaju</td><td>SE</td><td>Vice-prefeito</td><td>PODE     </td><td>Não Eleito</td><td>MASC.</td><td>BRANCA</td><td>NA</td><td> 43932</td><td>2024</td><td>SE_Aracaju</td></tr>\n",
       "\t<tr><th scope=row>2</th><td>260001926363</td><td>JOSÉ RICARDO MARQUES DOS SANTOS </td><td>Aracaju</td><td>SE</td><td>Vice-prefeito</td><td>CIDADANIA</td><td>Eleito    </td><td>MASC.</td><td>BRANCA</td><td>NA</td><td>165924</td><td>2024</td><td>SE_Aracaju</td></tr>\n",
       "\t<tr><th scope=row>3</th><td>260001976733</td><td>AYSLAN JORGE SANTOS DE ARAUJO   </td><td>Aracaju</td><td>SE</td><td>Vice-prefeito</td><td>MDB      </td><td>Não Eleito</td><td>MASC.</td><td>PRETA </td><td>NA</td><td> 16769</td><td>2024</td><td>SE_Aracaju</td></tr>\n",
       "\t<tr><th scope=row>4</th><td>260002000359</td><td>ROSANGELA SANTANA SANTOS        </td><td>Aracaju</td><td>SE</td><td>Vice-prefeito</td><td>PT       </td><td>Não Eleito</td><td>FEM. </td><td>PRETA </td><td>NA</td><td> 28049</td><td>2024</td><td>SE_Aracaju</td></tr>\n",
       "\t<tr><th scope=row>5</th><td>260002060000</td><td>FABIANO LUIS DE ALMEIDA OLIVEIRA</td><td>Aracaju</td><td>SE</td><td>Vice-prefeito</td><td>PP       </td><td>Não Eleito</td><td>MASC.</td><td>BRANCA</td><td>NA</td><td>122842</td><td>2024</td><td>SE_Aracaju</td></tr>\n",
       "\t<tr><th scope=row>6</th><td>260002245400</td><td>ALEXIS MAGNUM AZEVEDO DE JESUS  </td><td>Aracaju</td><td>SE</td><td>Vice-prefeito</td><td>PSOL     </td><td>Não Eleito</td><td>MASC.</td><td>PRETA </td><td>NA</td><td> 14408</td><td>2024</td><td>SE_Aracaju</td></tr>\n",
       "</tbody>\n",
       "</table>\n"
      ],
      "text/latex": [
       "A data.frame: 6 × 13\n",
       "\\begin{tabular}{r|lllllllllllll}\n",
       "  & sq\\_candidato & Nome.Candidato & Cidade & UF & Cargo & Partido & Resultado\\_Eleitoral & Genero & Raca & Valor\\_Receita & Votos & ano & chave\\\\\n",
       "  & <dbl> & <chr> & <chr> & <chr> & <chr> & <chr> & <chr> & <chr> & <chr> & <dbl> & <int> & <int> & <chr>\\\\\n",
       "\\hline\n",
       "\t1 & 260001908298 & BELIVALDO CHAGAS SILVA           & Aracaju & SE & Vice-prefeito & PODE      & Não Eleito & MASC. & BRANCA & NA &  43932 & 2024 & SE\\_Aracaju\\\\\n",
       "\t2 & 260001926363 & JOSÉ RICARDO MARQUES DOS SANTOS  & Aracaju & SE & Vice-prefeito & CIDADANIA & Eleito     & MASC. & BRANCA & NA & 165924 & 2024 & SE\\_Aracaju\\\\\n",
       "\t3 & 260001976733 & AYSLAN JORGE SANTOS DE ARAUJO    & Aracaju & SE & Vice-prefeito & MDB       & Não Eleito & MASC. & PRETA  & NA &  16769 & 2024 & SE\\_Aracaju\\\\\n",
       "\t4 & 260002000359 & ROSANGELA SANTANA SANTOS         & Aracaju & SE & Vice-prefeito & PT        & Não Eleito & FEM.  & PRETA  & NA &  28049 & 2024 & SE\\_Aracaju\\\\\n",
       "\t5 & 260002060000 & FABIANO LUIS DE ALMEIDA OLIVEIRA & Aracaju & SE & Vice-prefeito & PP        & Não Eleito & MASC. & BRANCA & NA & 122842 & 2024 & SE\\_Aracaju\\\\\n",
       "\t6 & 260002245400 & ALEXIS MAGNUM AZEVEDO DE JESUS   & Aracaju & SE & Vice-prefeito & PSOL      & Não Eleito & MASC. & PRETA  & NA &  14408 & 2024 & SE\\_Aracaju\\\\\n",
       "\\end{tabular}\n"
      ],
      "text/markdown": [
       "\n",
       "A data.frame: 6 × 13\n",
       "\n",
       "| <!--/--> | sq_candidato &lt;dbl&gt; | Nome.Candidato &lt;chr&gt; | Cidade &lt;chr&gt; | UF &lt;chr&gt; | Cargo &lt;chr&gt; | Partido &lt;chr&gt; | Resultado_Eleitoral &lt;chr&gt; | Genero &lt;chr&gt; | Raca &lt;chr&gt; | Valor_Receita &lt;dbl&gt; | Votos &lt;int&gt; | ano &lt;int&gt; | chave &lt;chr&gt; |\n",
       "|---|---|---|---|---|---|---|---|---|---|---|---|---|---|\n",
       "| 1 | 260001908298 | BELIVALDO CHAGAS SILVA           | Aracaju | SE | Vice-prefeito | PODE      | Não Eleito | MASC. | BRANCA | NA |  43932 | 2024 | SE_Aracaju |\n",
       "| 2 | 260001926363 | JOSÉ RICARDO MARQUES DOS SANTOS  | Aracaju | SE | Vice-prefeito | CIDADANIA | Eleito     | MASC. | BRANCA | NA | 165924 | 2024 | SE_Aracaju |\n",
       "| 3 | 260001976733 | AYSLAN JORGE SANTOS DE ARAUJO    | Aracaju | SE | Vice-prefeito | MDB       | Não Eleito | MASC. | PRETA  | NA |  16769 | 2024 | SE_Aracaju |\n",
       "| 4 | 260002000359 | ROSANGELA SANTANA SANTOS         | Aracaju | SE | Vice-prefeito | PT        | Não Eleito | FEM.  | PRETA  | NA |  28049 | 2024 | SE_Aracaju |\n",
       "| 5 | 260002060000 | FABIANO LUIS DE ALMEIDA OLIVEIRA | Aracaju | SE | Vice-prefeito | PP        | Não Eleito | MASC. | BRANCA | NA | 122842 | 2024 | SE_Aracaju |\n",
       "| 6 | 260002245400 | ALEXIS MAGNUM AZEVEDO DE JESUS   | Aracaju | SE | Vice-prefeito | PSOL      | Não Eleito | MASC. | PRETA  | NA |  14408 | 2024 | SE_Aracaju |\n",
       "\n"
      ],
      "text/plain": [
       "  sq_candidato Nome.Candidato                   Cidade  UF Cargo        \n",
       "1 260001908298 BELIVALDO CHAGAS SILVA           Aracaju SE Vice-prefeito\n",
       "2 260001926363 JOSÉ RICARDO MARQUES DOS SANTOS  Aracaju SE Vice-prefeito\n",
       "3 260001976733 AYSLAN JORGE SANTOS DE ARAUJO    Aracaju SE Vice-prefeito\n",
       "4 260002000359 ROSANGELA SANTANA SANTOS         Aracaju SE Vice-prefeito\n",
       "5 260002060000 FABIANO LUIS DE ALMEIDA OLIVEIRA Aracaju SE Vice-prefeito\n",
       "6 260002245400 ALEXIS MAGNUM AZEVEDO DE JESUS   Aracaju SE Vice-prefeito\n",
       "  Partido   Resultado_Eleitoral Genero Raca   Valor_Receita Votos  ano \n",
       "1 PODE      Não Eleito          MASC.  BRANCA NA             43932 2024\n",
       "2 CIDADANIA Eleito              MASC.  BRANCA NA            165924 2024\n",
       "3 MDB       Não Eleito          MASC.  PRETA  NA             16769 2024\n",
       "4 PT        Não Eleito          FEM.   PRETA  NA             28049 2024\n",
       "5 PP        Não Eleito          MASC.  BRANCA NA            122842 2024\n",
       "6 PSOL      Não Eleito          MASC.  PRETA  NA             14408 2024\n",
       "  chave     \n",
       "1 SE_Aracaju\n",
       "2 SE_Aracaju\n",
       "3 SE_Aracaju\n",
       "4 SE_Aracaju\n",
       "5 SE_Aracaju\n",
       "6 SE_Aracaju"
      ]
     },
     "metadata": {},
     "output_type": "display_data"
    }
   ],
   "source": [
    "head(prefeitura_2024)"
   ]
  },
  {
   "cell_type": "code",
   "execution_count": 90,
   "metadata": {},
   "outputs": [],
   "source": [
    "prefeitura_clean <- rbind(prefeitura_2020, prefeitura_2024_elei)\n"
   ]
  },
  {
   "cell_type": "code",
   "execution_count": 91,
   "metadata": {},
   "outputs": [
    {
     "data": {
      "text/html": [
       "<table class=\"dataframe\">\n",
       "<caption>A data.frame: 6 × 12</caption>\n",
       "<thead>\n",
       "\t<tr><th></th><th scope=col>sq_candidato</th><th scope=col>Nome.Candidato</th><th scope=col>Cidade</th><th scope=col>UF</th><th scope=col>Cargo</th><th scope=col>Partido</th><th scope=col>Resultado_Eleitoral</th><th scope=col>Genero</th><th scope=col>Raca</th><th scope=col>Valor_Receita</th><th scope=col>Votos</th><th scope=col>ano</th></tr>\n",
       "\t<tr><th></th><th scope=col>&lt;dbl&gt;</th><th scope=col>&lt;chr&gt;</th><th scope=col>&lt;chr&gt;</th><th scope=col>&lt;chr&gt;</th><th scope=col>&lt;chr&gt;</th><th scope=col>&lt;chr&gt;</th><th scope=col>&lt;chr&gt;</th><th scope=col>&lt;chr&gt;</th><th scope=col>&lt;chr&gt;</th><th scope=col>&lt;dbl&gt;</th><th scope=col>&lt;int&gt;</th><th scope=col>&lt;int&gt;</th></tr>\n",
       "</thead>\n",
       "<tbody>\n",
       "\t<tr><th scope=row>1</th><td>260000637329</td><td>Antonio Carlos Valadares Filho   </td><td>Aracaju</td><td>SE</td><td>Vice-prefeito</td><td>PSB   </td><td>2º Turno  </td><td>MASC.</td><td>BRANCA</td><td>NA</td><td>0</td><td>2020</td></tr>\n",
       "\t<tr><th scope=row>2</th><td>260000637329</td><td>Antonio Carlos Valadares Filho   </td><td>Aracaju</td><td>SE</td><td>Vice-prefeito</td><td>PSB   </td><td>Não Eleito</td><td>MASC.</td><td>BRANCA</td><td>NA</td><td>0</td><td>2020</td></tr>\n",
       "\t<tr><th scope=row>3</th><td>260000743433</td><td>Alda Rejane Arruda Da Silva      </td><td>Aracaju</td><td>SE</td><td>Vice-prefeito</td><td>PMB   </td><td>Não Eleito</td><td>FEM. </td><td>PARDA </td><td>NA</td><td>0</td><td>2020</td></tr>\n",
       "\t<tr><th scope=row>4</th><td>260000835178</td><td>José Péricles Menezes De Oliveira</td><td>Aracaju</td><td>SE</td><td>Vice-prefeito</td><td>DEM   </td><td>Não Eleito</td><td>MASC.</td><td>PARDA </td><td>NA</td><td>0</td><td>2020</td></tr>\n",
       "\t<tr><th scope=row>5</th><td>260000857749</td><td>Davi Lima Valente Calazans       </td><td>Aracaju</td><td>SE</td><td>Vice-prefeito</td><td>AVANTE</td><td>Não Eleito</td><td>MASC.</td><td>PRETA </td><td>NA</td><td>0</td><td>2020</td></tr>\n",
       "\t<tr><th scope=row>6</th><td>260000935641</td><td>Luis Eduardo Prado Correia       </td><td>Aracaju</td><td>SE</td><td>Vice-prefeito</td><td>PRTB  </td><td>Não Eleito</td><td>MASC.</td><td>PARDA </td><td>NA</td><td>0</td><td>2020</td></tr>\n",
       "</tbody>\n",
       "</table>\n"
      ],
      "text/latex": [
       "A data.frame: 6 × 12\n",
       "\\begin{tabular}{r|llllllllllll}\n",
       "  & sq\\_candidato & Nome.Candidato & Cidade & UF & Cargo & Partido & Resultado\\_Eleitoral & Genero & Raca & Valor\\_Receita & Votos & ano\\\\\n",
       "  & <dbl> & <chr> & <chr> & <chr> & <chr> & <chr> & <chr> & <chr> & <chr> & <dbl> & <int> & <int>\\\\\n",
       "\\hline\n",
       "\t1 & 260000637329 & Antonio Carlos Valadares Filho    & Aracaju & SE & Vice-prefeito & PSB    & 2º Turno   & MASC. & BRANCA & NA & 0 & 2020\\\\\n",
       "\t2 & 260000637329 & Antonio Carlos Valadares Filho    & Aracaju & SE & Vice-prefeito & PSB    & Não Eleito & MASC. & BRANCA & NA & 0 & 2020\\\\\n",
       "\t3 & 260000743433 & Alda Rejane Arruda Da Silva       & Aracaju & SE & Vice-prefeito & PMB    & Não Eleito & FEM.  & PARDA  & NA & 0 & 2020\\\\\n",
       "\t4 & 260000835178 & José Péricles Menezes De Oliveira & Aracaju & SE & Vice-prefeito & DEM    & Não Eleito & MASC. & PARDA  & NA & 0 & 2020\\\\\n",
       "\t5 & 260000857749 & Davi Lima Valente Calazans        & Aracaju & SE & Vice-prefeito & AVANTE & Não Eleito & MASC. & PRETA  & NA & 0 & 2020\\\\\n",
       "\t6 & 260000935641 & Luis Eduardo Prado Correia        & Aracaju & SE & Vice-prefeito & PRTB   & Não Eleito & MASC. & PARDA  & NA & 0 & 2020\\\\\n",
       "\\end{tabular}\n"
      ],
      "text/markdown": [
       "\n",
       "A data.frame: 6 × 12\n",
       "\n",
       "| <!--/--> | sq_candidato &lt;dbl&gt; | Nome.Candidato &lt;chr&gt; | Cidade &lt;chr&gt; | UF &lt;chr&gt; | Cargo &lt;chr&gt; | Partido &lt;chr&gt; | Resultado_Eleitoral &lt;chr&gt; | Genero &lt;chr&gt; | Raca &lt;chr&gt; | Valor_Receita &lt;dbl&gt; | Votos &lt;int&gt; | ano &lt;int&gt; |\n",
       "|---|---|---|---|---|---|---|---|---|---|---|---|---|\n",
       "| 1 | 260000637329 | Antonio Carlos Valadares Filho    | Aracaju | SE | Vice-prefeito | PSB    | 2º Turno   | MASC. | BRANCA | NA | 0 | 2020 |\n",
       "| 2 | 260000637329 | Antonio Carlos Valadares Filho    | Aracaju | SE | Vice-prefeito | PSB    | Não Eleito | MASC. | BRANCA | NA | 0 | 2020 |\n",
       "| 3 | 260000743433 | Alda Rejane Arruda Da Silva       | Aracaju | SE | Vice-prefeito | PMB    | Não Eleito | FEM.  | PARDA  | NA | 0 | 2020 |\n",
       "| 4 | 260000835178 | José Péricles Menezes De Oliveira | Aracaju | SE | Vice-prefeito | DEM    | Não Eleito | MASC. | PARDA  | NA | 0 | 2020 |\n",
       "| 5 | 260000857749 | Davi Lima Valente Calazans        | Aracaju | SE | Vice-prefeito | AVANTE | Não Eleito | MASC. | PRETA  | NA | 0 | 2020 |\n",
       "| 6 | 260000935641 | Luis Eduardo Prado Correia        | Aracaju | SE | Vice-prefeito | PRTB   | Não Eleito | MASC. | PARDA  | NA | 0 | 2020 |\n",
       "\n"
      ],
      "text/plain": [
       "  sq_candidato Nome.Candidato                    Cidade  UF Cargo        \n",
       "1 260000637329 Antonio Carlos Valadares Filho    Aracaju SE Vice-prefeito\n",
       "2 260000637329 Antonio Carlos Valadares Filho    Aracaju SE Vice-prefeito\n",
       "3 260000743433 Alda Rejane Arruda Da Silva       Aracaju SE Vice-prefeito\n",
       "4 260000835178 José Péricles Menezes De Oliveira Aracaju SE Vice-prefeito\n",
       "5 260000857749 Davi Lima Valente Calazans        Aracaju SE Vice-prefeito\n",
       "6 260000935641 Luis Eduardo Prado Correia        Aracaju SE Vice-prefeito\n",
       "  Partido Resultado_Eleitoral Genero Raca   Valor_Receita Votos ano \n",
       "1 PSB     2º Turno            MASC.  BRANCA NA            0     2020\n",
       "2 PSB     Não Eleito          MASC.  BRANCA NA            0     2020\n",
       "3 PMB     Não Eleito          FEM.   PARDA  NA            0     2020\n",
       "4 DEM     Não Eleito          MASC.  PARDA  NA            0     2020\n",
       "5 AVANTE  Não Eleito          MASC.  PRETA  NA            0     2020\n",
       "6 PRTB    Não Eleito          MASC.  PARDA  NA            0     2020"
      ]
     },
     "metadata": {},
     "output_type": "display_data"
    }
   ],
   "source": [
    "head(prefeitura_clean)"
   ]
  },
  {
   "cell_type": "code",
   "execution_count": 92,
   "metadata": {},
   "outputs": [],
   "source": [
    "#write.csv(prefeitura_clean, \"../data/prefeitura_clean.csv\", row.names = FALSE)"
   ]
  }
 ],
 "metadata": {
  "kernelspec": {
   "display_name": "R",
   "language": "R",
   "name": "ir"
  },
  "language_info": {
   "codemirror_mode": "r",
   "file_extension": ".r",
   "mimetype": "text/x-r-source",
   "name": "R",
   "pygments_lexer": "r",
   "version": "4.5.0"
  }
 },
 "nbformat": 4,
 "nbformat_minor": 4
}
